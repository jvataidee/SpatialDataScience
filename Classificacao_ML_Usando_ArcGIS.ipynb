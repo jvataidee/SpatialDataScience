{
  "cells": [
    {
      "cell_type": "markdown",
      "metadata": {
        "id": "view-in-github",
        "colab_type": "text"
      },
      "source": [
        "<a href=\"https://colab.research.google.com/github/jvataidee/SpatialDataSience/blob/master/Classificacao_ML_Usando_ArcGIS.ipynb\" target=\"_parent\"><img src=\"https://colab.research.google.com/assets/colab-badge.svg\" alt=\"Open In Colab\"/></a>"
      ]
    },
    {
      "cell_type": "markdown",
      "metadata": {
        "id": "sgnrxicJhytt"
      },
      "source": [
        "# Classificação com Machine Learning usando ArcGIS"
      ]
    },
    {
      "cell_type": "code",
      "execution_count": null,
      "metadata": {
        "id": "MOv2c8lMhyuC"
      },
      "outputs": [],
      "source": [
        "#Importar bibliotecas importantes\n",
        "import arcpy\n",
        "from arcpy import env\n",
        "import os \n",
        "from arcpy.ia import *\n",
        "env.overwriteOutput = True"
      ]
    },
    {
      "cell_type": "code",
      "execution_count": null,
      "metadata": {
        "id": "RaKbWXVjhyuH"
      },
      "outputs": [],
      "source": [
        "#Diretorio de workspace\n",
        "workspace = r\"F:\\diretorio\\model.gdb\"\n",
        "workspace2 = \"F:\\diretorio\\model\""
      ]
    },
    {
      "cell_type": "code",
      "execution_count": null,
      "metadata": {
        "id": "-aiU-qs9hyuJ"
      },
      "outputs": [],
      "source": [
        "#Diretorio das imagens\n",
        "imagem_dir = r'F:\\diretorio\\model\\cbers\\CBERS_4A_WPM_20200528_203_142_L4'\n",
        "\n",
        "banda0 = os.path.join(imagem_dir,r'CBERS_4A_WPM_20200528_203_142_L4_BAND0.tif')\n",
        "banda1 = os.path.join(imagem_dir,r'CBERS_4A_WPM_20200528_203_142_L4_BAND1.tif')\n",
        "banda2 = os.path.join(imagem_dir,r'CBERS_4A_WPM_20200528_203_142_L4_BAND2.tif')\n",
        "banda3 = os.path.join(imagem_dir,r'CBERS_4A_WPM_20200528_203_142_L4_BAND3.tif')\n",
        "banda4 = os.path.join(imagem_dir,r'CBERS_4A_WPM_20200528_203_142_L4_BAND4.tif')"
      ]
    },
    {
      "cell_type": "code",
      "execution_count": null,
      "metadata": {
        "id": "aWzveT1ghyuK"
      },
      "outputs": [],
      "source": [
        "#Diretorio da composição\n",
        "composicao_output = os.path.join(workspace2,\"composicao.tif\") "
      ]
    },
    {
      "cell_type": "code",
      "execution_count": null,
      "metadata": {
        "id": "XetIf424hyuM"
      },
      "outputs": [],
      "source": [
        "#Bandas para composição\n",
        "composicao = r'{};{};{};{}'.format(banda4, banda2, banda1, banda3)\n",
        "composicao"
      ]
    },
    {
      "cell_type": "code",
      "execution_count": null,
      "metadata": {
        "id": "DLpN1udchyuN"
      },
      "outputs": [],
      "source": [
        "#Realizar composição das bandas\n",
        "arcpy.management.CompositeBands(composicao, composicao_output)"
      ]
    },
    {
      "cell_type": "code",
      "execution_count": null,
      "metadata": {
        "id": "EyYqZKmChyuO"
      },
      "outputs": [],
      "source": [
        "#Diretorio do arquivo pansharpene\n",
        "pan_output = os.path.join(workspace2,\"pansharpene.tif\")   "
      ]
    },
    {
      "cell_type": "code",
      "execution_count": null,
      "metadata": {
        "id": "PVUaTjiHhyuP"
      },
      "outputs": [],
      "source": [
        "#Realizar o Pansharpene\n",
        "arcpy.management.CreatePansharpenedRasterDataset(\"composicao.tif\",\n",
        "                                                 1, 2, 3, 4,\n",
        "                                                 pan_output,\n",
        "                                                 banda0,\n",
        "                                                 \"Gram-Schmidt\",\n",
        "                                                 0.166, 0.167, 0.167, 0.5,\n",
        "                                                 \"UNKNOWN\")"
      ]
    },
    {
      "cell_type": "code",
      "execution_count": null,
      "metadata": {
        "id": "e_OyZkE7hyuQ"
      },
      "outputs": [],
      "source": [
        "#Diretorio do arquivo pansharpene\n",
        "clip = os.path.join(workspace2,\"clip.tif\")   \n",
        "ROI = os.path.join(workspace,\"ROI\") "
      ]
    },
    {
      "cell_type": "code",
      "execution_count": null,
      "metadata": {
        "id": "c8tN7K7IhyuR"
      },
      "outputs": [],
      "source": [
        "# Realizar clip da imagem\n",
        "arcpy.Clip_management(pan_output, \"\", \n",
        "                      clip, ROI, \"0\", \"ClippingGeometry\", \n",
        "                      \"MAINTAIN_EXTENT\")"
      ]
    },
    {
      "cell_type": "markdown",
      "metadata": {
        "id": "fvMyT9PKhyuS"
      },
      "source": [
        "## Classificando unsando ML"
      ]
    },
    {
      "cell_type": "code",
      "execution_count": null,
      "metadata": {
        "id": "mqsWT71khyuS"
      },
      "outputs": [],
      "source": [
        "#Diretório das amostras e do esquema\n",
        "amostra_pixel = r'F:\\diretorio\\model.gdb\\amostra'\n",
        "output_ecd = os.path.join(workspace2,\"TrainSVM.ecd\")\n"
      ]
    },
    {
      "cell_type": "code",
      "execution_count": null,
      "metadata": {
        "id": "xW5YpSfyhyuT"
      },
      "outputs": [],
      "source": [
        "arcpy.ia.TrainSupportVectorMachineClassifier(clip,amostra_pixel,output_ecd,'',10,None, \"Classvalue\")"
      ]
    },
    {
      "cell_type": "code",
      "execution_count": null,
      "metadata": {
        "id": "JCjLb-wNhyuT"
      },
      "outputs": [],
      "source": [
        "#Diretório de classificação\n",
        "classificado = os.path.join(workspace2,\"classified.tif\")"
      ]
    },
    {
      "cell_type": "code",
      "execution_count": null,
      "metadata": {
        "id": "Rh6YCkBhhyuU"
      },
      "outputs": [],
      "source": [
        "out_raster_dataset = arcpy.ia.ClassifyRaster(clip, output_ecd, ''); out_raster_dataset.save(classificado)"
      ]
    }
  ],
  "metadata": {
    "kernelspec": {
      "display_name": "ArcGISPro",
      "language": "Python",
      "name": "python3"
    },
    "language_info": {
      "file_extension": ".py",
      "name": "python",
      "version": "3"
    },
    "colab": {
      "name": "Classificacao_ML_Usando_ArcGIS.ipynb",
      "provenance": [],
      "include_colab_link": true
    }
  },
  "nbformat": 4,
  "nbformat_minor": 0
}