{
  "nbformat": 4,
  "nbformat_minor": 0,
  "metadata": {
    "colab": {
      "name": "Untitled2.ipynb",
      "provenance": [],
      "authorship_tag": "ABX9TyMgXlT7bjiVORSP/a3dPux1",
      "include_colab_link": true
    },
    "kernelspec": {
      "name": "python3",
      "display_name": "Python 3"
    }
  },
  "cells": [
    {
      "cell_type": "markdown",
      "metadata": {
        "id": "view-in-github",
        "colab_type": "text"
      },
      "source": [
        "<a href=\"https://colab.research.google.com/github/jvataidee/SpatialDataSience/blob/master/StelliteImageRecognition.ipynb\" target=\"_parent\"><img src=\"https://colab.research.google.com/assets/colab-badge.svg\" alt=\"Open In Colab\"/></a>"
      ]
    },
    {
      "cell_type": "markdown",
      "metadata": {
        "id": "qTnXZ2AEDPnE",
        "colab_type": "text"
      },
      "source": [
        "\n",
        "#Redes de Neurônios Artificiais na análise de imagens de satélite e dados ambientais\n",
        "\n",
        "Datasets for Machine Learning\n",
        "\n",
        "\n",
        "\n",
        "[EuroSAT:](http://madm.dfki.de/**downloads**) A land use and land cover classification dataset based on Sentinel-2 satellite images."
      ]
    },
    {
      "cell_type": "code",
      "metadata": {
        "id": "N7z7kQCQ55AY",
        "colab_type": "code",
        "colab": {}
      },
      "source": [
        "# pacotes para executar operações gráfricas,tabulares,matemáticas\n",
        "import numpy as np \n",
        "import pandas as pd \n",
        "import scipy.io as sio\n",
        "import matplotlib.pyplot as plt\n",
        "import seaborn as sns\n",
        "from skimage.io import imshow\n",
        "from pylab import rcParams\n",
        "\n",
        "# configurar a visualização\n",
        "%matplotlib inline\n",
        "%config InlineBackend.figure_format = 'svg'"
      ],
      "execution_count": null,
      "outputs": []
    },
    {
      "cell_type": "code",
      "metadata": {
        "id": "7OHZFXd46KFw",
        "colab_type": "code",
        "colab": {}
      },
      "source": [
        "!pip install missingpy"
      ],
      "execution_count": null,
      "outputs": []
    },
    {
      "cell_type": "code",
      "metadata": {
        "id": "hBdrFr8Y6Aoh",
        "colab_type": "code",
        "colab": {}
      },
      "source": [
        "#pacotes para 'imputar' dados\n",
        "import missingpy\n",
        "from missingpy import MissForest\n",
        "from sklearn.impute import SimpleImputer"
      ],
      "execution_count": null,
      "outputs": []
    },
    {
      "cell_type": "markdown",
      "metadata": {
        "id": "nyepOjy_DQrc",
        "colab_type": "text"
      },
      "source": [
        "#Importando dados"
      ]
    },
    {
      "cell_type": "code",
      "metadata": {
        "id": "dHvqbaYH6QT6",
        "colab_type": "code",
        "colab": {}
      },
      "source": [
        "Impute_data=pd.read_excel(\"Impute.xlsx\")"
      ],
      "execution_count": null,
      "outputs": []
    },
    {
      "cell_type": "code",
      "metadata": {
        "id": "kA0FHi8A6AyB",
        "colab_type": "code",
        "colab": {
          "base_uri": "https://localhost:8080/",
          "height": 550
        },
        "outputId": "0fb4c99b-2fab-47f6-ac76-c44ad1ba87a8"
      },
      "source": [
        "Impute_data"
      ],
      "execution_count": null,
      "outputs": [
        {
          "output_type": "execute_result",
          "data": {
            "text/html": [
              "<div>\n",
              "<style scoped>\n",
              "    .dataframe tbody tr th:only-of-type {\n",
              "        vertical-align: middle;\n",
              "    }\n",
              "\n",
              "    .dataframe tbody tr th {\n",
              "        vertical-align: top;\n",
              "    }\n",
              "\n",
              "    .dataframe thead th {\n",
              "        text-align: right;\n",
              "    }\n",
              "</style>\n",
              "<table border=\"1\" class=\"dataframe\">\n",
              "  <thead>\n",
              "    <tr style=\"text-align: right;\">\n",
              "      <th></th>\n",
              "      <th>Sedimentation</th>\n",
              "      <th>Sedimentation_in_Dead_Storage</th>\n",
              "    </tr>\n",
              "  </thead>\n",
              "  <tbody>\n",
              "    <tr>\n",
              "      <th>0</th>\n",
              "      <td>2557.000</td>\n",
              "      <td>NaN</td>\n",
              "    </tr>\n",
              "    <tr>\n",
              "      <th>1</th>\n",
              "      <td>2668.000</td>\n",
              "      <td>NaN</td>\n",
              "    </tr>\n",
              "    <tr>\n",
              "      <th>2</th>\n",
              "      <td>NaN</td>\n",
              "      <td>NaN</td>\n",
              "    </tr>\n",
              "    <tr>\n",
              "      <th>3</th>\n",
              "      <td>2833.000</td>\n",
              "      <td>1034.000</td>\n",
              "    </tr>\n",
              "    <tr>\n",
              "      <th>4</th>\n",
              "      <td>3072.000</td>\n",
              "      <td>1015.000</td>\n",
              "    </tr>\n",
              "    <tr>\n",
              "      <th>5</th>\n",
              "      <td>3226.000</td>\n",
              "      <td>1025.000</td>\n",
              "    </tr>\n",
              "    <tr>\n",
              "      <th>6</th>\n",
              "      <td>3221.000</td>\n",
              "      <td>1071.000</td>\n",
              "    </tr>\n",
              "    <tr>\n",
              "      <th>7</th>\n",
              "      <td>3382.000</td>\n",
              "      <td>1099.000</td>\n",
              "    </tr>\n",
              "    <tr>\n",
              "      <th>8</th>\n",
              "      <td>NaN</td>\n",
              "      <td>1196.000</td>\n",
              "    </tr>\n",
              "    <tr>\n",
              "      <th>9</th>\n",
              "      <td>NaN</td>\n",
              "      <td>1240.000</td>\n",
              "    </tr>\n",
              "    <tr>\n",
              "      <th>10</th>\n",
              "      <td>NaN</td>\n",
              "      <td>1205.000</td>\n",
              "    </tr>\n",
              "    <tr>\n",
              "      <th>11</th>\n",
              "      <td>3518.000</td>\n",
              "      <td>1205.000</td>\n",
              "    </tr>\n",
              "    <tr>\n",
              "      <th>12</th>\n",
              "      <td>3614.000</td>\n",
              "      <td>1430.000</td>\n",
              "    </tr>\n",
              "    <tr>\n",
              "      <th>13</th>\n",
              "      <td>3614.033</td>\n",
              "      <td>1430.458</td>\n",
              "    </tr>\n",
              "    <tr>\n",
              "      <th>14</th>\n",
              "      <td>3656.000</td>\n",
              "      <td>NaN</td>\n",
              "    </tr>\n",
              "    <tr>\n",
              "      <th>15</th>\n",
              "      <td>3738.000</td>\n",
              "      <td>NaN</td>\n",
              "    </tr>\n",
              "    <tr>\n",
              "      <th>16</th>\n",
              "      <td>3958.000</td>\n",
              "      <td>1785.000</td>\n",
              "    </tr>\n",
              "  </tbody>\n",
              "</table>\n",
              "</div>"
            ],
            "text/plain": [
              "    Sedimentation  Sedimentation_in_Dead_Storage\n",
              "0        2557.000                            NaN\n",
              "1        2668.000                            NaN\n",
              "2             NaN                            NaN\n",
              "3        2833.000                       1034.000\n",
              "4        3072.000                       1015.000\n",
              "5        3226.000                       1025.000\n",
              "6        3221.000                       1071.000\n",
              "7        3382.000                       1099.000\n",
              "8             NaN                       1196.000\n",
              "9             NaN                       1240.000\n",
              "10            NaN                       1205.000\n",
              "11       3518.000                       1205.000\n",
              "12       3614.000                       1430.000\n",
              "13       3614.033                       1430.458\n",
              "14       3656.000                            NaN\n",
              "15       3738.000                            NaN\n",
              "16       3958.000                       1785.000"
            ]
          },
          "metadata": {
            "tags": []
          },
          "execution_count": 6
        }
      ]
    },
    {
      "cell_type": "code",
      "metadata": {
        "id": "wn36xZks6dns",
        "colab_type": "code",
        "colab": {}
      },
      "source": [
        "RFORImp=MissForest()\n",
        "SKLSimple=SimpleImputer(missing_values=np.nan, strategy ='median')"
      ],
      "execution_count": null,
      "outputs": []
    },
    {
      "cell_type": "code",
      "metadata": {
        "id": "HY67DUNE6wl6",
        "colab_type": "code",
        "colab": {
          "base_uri": "https://localhost:8080/",
          "height": 105
        },
        "outputId": "3fac13e6-3abb-4ffa-ab28-85a577c31d64"
      },
      "source": [
        "#executar funções de 'imputar'\n",
        "Simple_Imp = Impute_data.fillna(method='ffill')\n",
        "\n",
        "SKL_Imp = pd.DataFrame(SKLSimple.fit_transform(Impute_data))\n",
        "RFOR_Tab = pd.DataFrame(RFORImp.fit_transform(Impute_data))#Random Forest Imputação e conversão por pandas"
      ],
      "execution_count": null,
      "outputs": [
        {
          "output_type": "stream",
          "text": [
            "Iteration: 0\n",
            "Iteration: 1\n",
            "Iteration: 2\n",
            "Iteration: 3\n",
            "Iteration: 4\n"
          ],
          "name": "stdout"
        }
      ]
    },
    {
      "cell_type": "code",
      "metadata": {
        "id": "htwo3AdL627t",
        "colab_type": "code",
        "colab": {
          "base_uri": "https://localhost:8080/",
          "height": 662
        },
        "outputId": "cfa7c27d-fba1-49f1-9cb4-73730dc8d772"
      },
      "source": [
        "#Plotando Gráficos\n",
        "plt.plot(Simple_Imp.index,Simple_Imp ['Sedimentation'], label='Simple_Imp Sedimentation', linewidth=3, color='midnightblue')\n",
        "plt.plot(Simple_Imp.index,Simple_Imp ['Sedimentation_in_Dead_Storage'], label='Simple_Imp Sediment in Dead_Volume', linewidth=3, color='orange')\n",
        "plt.plot(SKL_Imp.index,SKL_Imp [0], label='Median_Imp Sedimentation', linewidth=3, color='darkgreen')\n",
        "plt.plot(SKL_Imp.index,SKL_Imp [1], label ='Median_Imp Sediment in Dead_Volume', linewidth=3, color='red')\n",
        "plt.plot(RFOR_Tab.index,RFOR_Tab [0], label='RFOR_Tab Sedimentation', linewidth=3, color='blueviolet')\n",
        "plt.plot(RFOR_Tab.index,RFOR_Tab [1], label ='RFOR_Tab Sediment in Dead_Volume', linewidth=3, color='saddlebrown')\n",
        "\n",
        "plt.legend(loc='right',fontsize=12)\n",
        "\n",
        "\n",
        "rcParams['figure.figsize'] = 16,5\n",
        "\n",
        "\n",
        "plt.show()"
      ],
      "execution_count": null,
      "outputs": [
        {
          "output_type": "display_data",
          "data": {
            "text/plain": [
              "<Figure size 1152x576 with 1 Axes>"
            ],
            "image/svg+xml": "<?xml version=\"1.0\" encoding=\"utf-8\" standalone=\"no\"?>\n<!DOCTYPE svg PUBLIC \"-//W3C//DTD SVG 1.1//EN\"\n  \"http://www.w3.org/Graphics/SVG/1.1/DTD/svg11.dtd\">\n<!-- Created with matplotlib (https://matplotlib.org/) -->\n<svg height=\"465.958125pt\" version=\"1.1\" viewBox=\"0 0 939.65 465.958125\" width=\"939.65pt\" xmlns=\"http://www.w3.org/2000/svg\" xmlns:xlink=\"http://www.w3.org/1999/xlink\">\n <defs>\n  <style type=\"text/css\">\n*{stroke-linecap:butt;stroke-linejoin:round;}\n  </style>\n </defs>\n <g id=\"figure_1\">\n  <g id=\"patch_1\">\n   <path d=\"M 0 465.958125 \nL 939.65 465.958125 \nL 939.65 0 \nL 0 0 \nz\n\" style=\"fill:none;\"/>\n  </g>\n  <g id=\"axes_1\">\n   <g id=\"patch_2\">\n    <path d=\"M 39.65 442.08 \nL 932.45 442.08 \nL 932.45 7.2 \nL 39.65 7.2 \nz\n\" style=\"fill:#ffffff;\"/>\n   </g>\n   <g id=\"matplotlib.axis_1\">\n    <g id=\"xtick_1\">\n     <g id=\"line2d_1\">\n      <defs>\n       <path d=\"M 0 0 \nL 0 3.5 \n\" id=\"mda3fa98baf\" style=\"stroke:#000000;stroke-width:0.8;\"/>\n      </defs>\n      <g>\n       <use style=\"stroke:#000000;stroke-width:0.8;\" x=\"80.231818\" xlink:href=\"#mda3fa98baf\" y=\"442.08\"/>\n      </g>\n     </g>\n     <g id=\"text_1\">\n      <!-- 0 -->\n      <defs>\n       <path d=\"M 31.78125 66.40625 \nQ 24.171875 66.40625 20.328125 58.90625 \nQ 16.5 51.421875 16.5 36.375 \nQ 16.5 21.390625 20.328125 13.890625 \nQ 24.171875 6.390625 31.78125 6.390625 \nQ 39.453125 6.390625 43.28125 13.890625 \nQ 47.125 21.390625 47.125 36.375 \nQ 47.125 51.421875 43.28125 58.90625 \nQ 39.453125 66.40625 31.78125 66.40625 \nz\nM 31.78125 74.21875 \nQ 44.046875 74.21875 50.515625 64.515625 \nQ 56.984375 54.828125 56.984375 36.375 \nQ 56.984375 17.96875 50.515625 8.265625 \nQ 44.046875 -1.421875 31.78125 -1.421875 \nQ 19.53125 -1.421875 13.0625 8.265625 \nQ 6.59375 17.96875 6.59375 36.375 \nQ 6.59375 54.828125 13.0625 64.515625 \nQ 19.53125 74.21875 31.78125 74.21875 \nz\n\" id=\"DejaVuSans-48\"/>\n      </defs>\n      <g transform=\"translate(77.050568 456.678437)scale(0.1 -0.1)\">\n       <use xlink:href=\"#DejaVuSans-48\"/>\n      </g>\n     </g>\n    </g>\n    <g id=\"xtick_2\">\n     <g id=\"line2d_2\">\n      <g>\n       <use style=\"stroke:#000000;stroke-width:0.8;\" x=\"181.686364\" xlink:href=\"#mda3fa98baf\" y=\"442.08\"/>\n      </g>\n     </g>\n     <g id=\"text_2\">\n      <!-- 2 -->\n      <defs>\n       <path d=\"M 19.1875 8.296875 \nL 53.609375 8.296875 \nL 53.609375 0 \nL 7.328125 0 \nL 7.328125 8.296875 \nQ 12.9375 14.109375 22.625 23.890625 \nQ 32.328125 33.6875 34.8125 36.53125 \nQ 39.546875 41.84375 41.421875 45.53125 \nQ 43.3125 49.21875 43.3125 52.78125 \nQ 43.3125 58.59375 39.234375 62.25 \nQ 35.15625 65.921875 28.609375 65.921875 \nQ 23.96875 65.921875 18.8125 64.3125 \nQ 13.671875 62.703125 7.8125 59.421875 \nL 7.8125 69.390625 \nQ 13.765625 71.78125 18.9375 73 \nQ 24.125 74.21875 28.421875 74.21875 \nQ 39.75 74.21875 46.484375 68.546875 \nQ 53.21875 62.890625 53.21875 53.421875 \nQ 53.21875 48.921875 51.53125 44.890625 \nQ 49.859375 40.875 45.40625 35.40625 \nQ 44.1875 33.984375 37.640625 27.21875 \nQ 31.109375 20.453125 19.1875 8.296875 \nz\n\" id=\"DejaVuSans-50\"/>\n      </defs>\n      <g transform=\"translate(178.505114 456.678437)scale(0.1 -0.1)\">\n       <use xlink:href=\"#DejaVuSans-50\"/>\n      </g>\n     </g>\n    </g>\n    <g id=\"xtick_3\">\n     <g id=\"line2d_3\">\n      <g>\n       <use style=\"stroke:#000000;stroke-width:0.8;\" x=\"283.140909\" xlink:href=\"#mda3fa98baf\" y=\"442.08\"/>\n      </g>\n     </g>\n     <g id=\"text_3\">\n      <!-- 4 -->\n      <defs>\n       <path d=\"M 37.796875 64.3125 \nL 12.890625 25.390625 \nL 37.796875 25.390625 \nz\nM 35.203125 72.90625 \nL 47.609375 72.90625 \nL 47.609375 25.390625 \nL 58.015625 25.390625 \nL 58.015625 17.1875 \nL 47.609375 17.1875 \nL 47.609375 0 \nL 37.796875 0 \nL 37.796875 17.1875 \nL 4.890625 17.1875 \nL 4.890625 26.703125 \nz\n\" id=\"DejaVuSans-52\"/>\n      </defs>\n      <g transform=\"translate(279.959659 456.678437)scale(0.1 -0.1)\">\n       <use xlink:href=\"#DejaVuSans-52\"/>\n      </g>\n     </g>\n    </g>\n    <g id=\"xtick_4\">\n     <g id=\"line2d_4\">\n      <g>\n       <use style=\"stroke:#000000;stroke-width:0.8;\" x=\"384.595455\" xlink:href=\"#mda3fa98baf\" y=\"442.08\"/>\n      </g>\n     </g>\n     <g id=\"text_4\">\n      <!-- 6 -->\n      <defs>\n       <path d=\"M 33.015625 40.375 \nQ 26.375 40.375 22.484375 35.828125 \nQ 18.609375 31.296875 18.609375 23.390625 \nQ 18.609375 15.53125 22.484375 10.953125 \nQ 26.375 6.390625 33.015625 6.390625 \nQ 39.65625 6.390625 43.53125 10.953125 \nQ 47.40625 15.53125 47.40625 23.390625 \nQ 47.40625 31.296875 43.53125 35.828125 \nQ 39.65625 40.375 33.015625 40.375 \nz\nM 52.59375 71.296875 \nL 52.59375 62.3125 \nQ 48.875 64.0625 45.09375 64.984375 \nQ 41.3125 65.921875 37.59375 65.921875 \nQ 27.828125 65.921875 22.671875 59.328125 \nQ 17.53125 52.734375 16.796875 39.40625 \nQ 19.671875 43.65625 24.015625 45.921875 \nQ 28.375 48.1875 33.59375 48.1875 \nQ 44.578125 48.1875 50.953125 41.515625 \nQ 57.328125 34.859375 57.328125 23.390625 \nQ 57.328125 12.15625 50.6875 5.359375 \nQ 44.046875 -1.421875 33.015625 -1.421875 \nQ 20.359375 -1.421875 13.671875 8.265625 \nQ 6.984375 17.96875 6.984375 36.375 \nQ 6.984375 53.65625 15.1875 63.9375 \nQ 23.390625 74.21875 37.203125 74.21875 \nQ 40.921875 74.21875 44.703125 73.484375 \nQ 48.484375 72.75 52.59375 71.296875 \nz\n\" id=\"DejaVuSans-54\"/>\n      </defs>\n      <g transform=\"translate(381.414205 456.678437)scale(0.1 -0.1)\">\n       <use xlink:href=\"#DejaVuSans-54\"/>\n      </g>\n     </g>\n    </g>\n    <g id=\"xtick_5\">\n     <g id=\"line2d_5\">\n      <g>\n       <use style=\"stroke:#000000;stroke-width:0.8;\" x=\"486.05\" xlink:href=\"#mda3fa98baf\" y=\"442.08\"/>\n      </g>\n     </g>\n     <g id=\"text_5\">\n      <!-- 8 -->\n      <defs>\n       <path d=\"M 31.78125 34.625 \nQ 24.75 34.625 20.71875 30.859375 \nQ 16.703125 27.09375 16.703125 20.515625 \nQ 16.703125 13.921875 20.71875 10.15625 \nQ 24.75 6.390625 31.78125 6.390625 \nQ 38.8125 6.390625 42.859375 10.171875 \nQ 46.921875 13.96875 46.921875 20.515625 \nQ 46.921875 27.09375 42.890625 30.859375 \nQ 38.875 34.625 31.78125 34.625 \nz\nM 21.921875 38.8125 \nQ 15.578125 40.375 12.03125 44.71875 \nQ 8.5 49.078125 8.5 55.328125 \nQ 8.5 64.0625 14.71875 69.140625 \nQ 20.953125 74.21875 31.78125 74.21875 \nQ 42.671875 74.21875 48.875 69.140625 \nQ 55.078125 64.0625 55.078125 55.328125 \nQ 55.078125 49.078125 51.53125 44.71875 \nQ 48 40.375 41.703125 38.8125 \nQ 48.828125 37.15625 52.796875 32.3125 \nQ 56.78125 27.484375 56.78125 20.515625 \nQ 56.78125 9.90625 50.3125 4.234375 \nQ 43.84375 -1.421875 31.78125 -1.421875 \nQ 19.734375 -1.421875 13.25 4.234375 \nQ 6.78125 9.90625 6.78125 20.515625 \nQ 6.78125 27.484375 10.78125 32.3125 \nQ 14.796875 37.15625 21.921875 38.8125 \nz\nM 18.3125 54.390625 \nQ 18.3125 48.734375 21.84375 45.5625 \nQ 25.390625 42.390625 31.78125 42.390625 \nQ 38.140625 42.390625 41.71875 45.5625 \nQ 45.3125 48.734375 45.3125 54.390625 \nQ 45.3125 60.0625 41.71875 63.234375 \nQ 38.140625 66.40625 31.78125 66.40625 \nQ 25.390625 66.40625 21.84375 63.234375 \nQ 18.3125 60.0625 18.3125 54.390625 \nz\n\" id=\"DejaVuSans-56\"/>\n      </defs>\n      <g transform=\"translate(482.86875 456.678437)scale(0.1 -0.1)\">\n       <use xlink:href=\"#DejaVuSans-56\"/>\n      </g>\n     </g>\n    </g>\n    <g id=\"xtick_6\">\n     <g id=\"line2d_6\">\n      <g>\n       <use style=\"stroke:#000000;stroke-width:0.8;\" x=\"587.504545\" xlink:href=\"#mda3fa98baf\" y=\"442.08\"/>\n      </g>\n     </g>\n     <g id=\"text_6\">\n      <!-- 10 -->\n      <defs>\n       <path d=\"M 12.40625 8.296875 \nL 28.515625 8.296875 \nL 28.515625 63.921875 \nL 10.984375 60.40625 \nL 10.984375 69.390625 \nL 28.421875 72.90625 \nL 38.28125 72.90625 \nL 38.28125 8.296875 \nL 54.390625 8.296875 \nL 54.390625 0 \nL 12.40625 0 \nz\n\" id=\"DejaVuSans-49\"/>\n      </defs>\n      <g transform=\"translate(581.142045 456.678437)scale(0.1 -0.1)\">\n       <use xlink:href=\"#DejaVuSans-49\"/>\n       <use x=\"63.623047\" xlink:href=\"#DejaVuSans-48\"/>\n      </g>\n     </g>\n    </g>\n    <g id=\"xtick_7\">\n     <g id=\"line2d_7\">\n      <g>\n       <use style=\"stroke:#000000;stroke-width:0.8;\" x=\"688.959091\" xlink:href=\"#mda3fa98baf\" y=\"442.08\"/>\n      </g>\n     </g>\n     <g id=\"text_7\">\n      <!-- 12 -->\n      <g transform=\"translate(682.596591 456.678437)scale(0.1 -0.1)\">\n       <use xlink:href=\"#DejaVuSans-49\"/>\n       <use x=\"63.623047\" xlink:href=\"#DejaVuSans-50\"/>\n      </g>\n     </g>\n    </g>\n    <g id=\"xtick_8\">\n     <g id=\"line2d_8\">\n      <g>\n       <use style=\"stroke:#000000;stroke-width:0.8;\" x=\"790.413636\" xlink:href=\"#mda3fa98baf\" y=\"442.08\"/>\n      </g>\n     </g>\n     <g id=\"text_8\">\n      <!-- 14 -->\n      <g transform=\"translate(784.051136 456.678437)scale(0.1 -0.1)\">\n       <use xlink:href=\"#DejaVuSans-49\"/>\n       <use x=\"63.623047\" xlink:href=\"#DejaVuSans-52\"/>\n      </g>\n     </g>\n    </g>\n    <g id=\"xtick_9\">\n     <g id=\"line2d_9\">\n      <g>\n       <use style=\"stroke:#000000;stroke-width:0.8;\" x=\"891.868182\" xlink:href=\"#mda3fa98baf\" y=\"442.08\"/>\n      </g>\n     </g>\n     <g id=\"text_9\">\n      <!-- 16 -->\n      <g transform=\"translate(885.505682 456.678437)scale(0.1 -0.1)\">\n       <use xlink:href=\"#DejaVuSans-49\"/>\n       <use x=\"63.623047\" xlink:href=\"#DejaVuSans-54\"/>\n      </g>\n     </g>\n    </g>\n   </g>\n   <g id=\"matplotlib.axis_2\">\n    <g id=\"ytick_1\">\n     <g id=\"line2d_10\">\n      <defs>\n       <path d=\"M 0 0 \nL -3.5 0 \n\" id=\"mdabd0c8968\" style=\"stroke:#000000;stroke-width:0.8;\"/>\n      </defs>\n      <g>\n       <use style=\"stroke:#000000;stroke-width:0.8;\" x=\"39.65\" xlink:href=\"#mdabd0c8968\" y=\"424.32774\"/>\n      </g>\n     </g>\n     <g id=\"text_10\">\n      <!-- 1000 -->\n      <g transform=\"translate(7.2 428.126959)scale(0.1 -0.1)\">\n       <use xlink:href=\"#DejaVuSans-49\"/>\n       <use x=\"63.623047\" xlink:href=\"#DejaVuSans-48\"/>\n       <use x=\"127.246094\" xlink:href=\"#DejaVuSans-48\"/>\n       <use x=\"190.869141\" xlink:href=\"#DejaVuSans-48\"/>\n      </g>\n     </g>\n    </g>\n    <g id=\"ytick_2\">\n     <g id=\"line2d_11\">\n      <g>\n       <use style=\"stroke:#000000;stroke-width:0.8;\" x=\"39.65\" xlink:href=\"#mdabd0c8968\" y=\"357.160656\"/>\n      </g>\n     </g>\n     <g id=\"text_11\">\n      <!-- 1500 -->\n      <defs>\n       <path d=\"M 10.796875 72.90625 \nL 49.515625 72.90625 \nL 49.515625 64.59375 \nL 19.828125 64.59375 \nL 19.828125 46.734375 \nQ 21.96875 47.46875 24.109375 47.828125 \nQ 26.265625 48.1875 28.421875 48.1875 \nQ 40.625 48.1875 47.75 41.5 \nQ 54.890625 34.8125 54.890625 23.390625 \nQ 54.890625 11.625 47.5625 5.09375 \nQ 40.234375 -1.421875 26.90625 -1.421875 \nQ 22.3125 -1.421875 17.546875 -0.640625 \nQ 12.796875 0.140625 7.71875 1.703125 \nL 7.71875 11.625 \nQ 12.109375 9.234375 16.796875 8.0625 \nQ 21.484375 6.890625 26.703125 6.890625 \nQ 35.15625 6.890625 40.078125 11.328125 \nQ 45.015625 15.765625 45.015625 23.390625 \nQ 45.015625 31 40.078125 35.4375 \nQ 35.15625 39.890625 26.703125 39.890625 \nQ 22.75 39.890625 18.8125 39.015625 \nQ 14.890625 38.140625 10.796875 36.28125 \nz\n\" id=\"DejaVuSans-53\"/>\n      </defs>\n      <g transform=\"translate(7.2 360.959875)scale(0.1 -0.1)\">\n       <use xlink:href=\"#DejaVuSans-49\"/>\n       <use x=\"63.623047\" xlink:href=\"#DejaVuSans-53\"/>\n       <use x=\"127.246094\" xlink:href=\"#DejaVuSans-48\"/>\n       <use x=\"190.869141\" xlink:href=\"#DejaVuSans-48\"/>\n      </g>\n     </g>\n    </g>\n    <g id=\"ytick_3\">\n     <g id=\"line2d_12\">\n      <g>\n       <use style=\"stroke:#000000;stroke-width:0.8;\" x=\"39.65\" xlink:href=\"#mdabd0c8968\" y=\"289.993572\"/>\n      </g>\n     </g>\n     <g id=\"text_12\">\n      <!-- 2000 -->\n      <g transform=\"translate(7.2 293.792791)scale(0.1 -0.1)\">\n       <use xlink:href=\"#DejaVuSans-50\"/>\n       <use x=\"63.623047\" xlink:href=\"#DejaVuSans-48\"/>\n       <use x=\"127.246094\" xlink:href=\"#DejaVuSans-48\"/>\n       <use x=\"190.869141\" xlink:href=\"#DejaVuSans-48\"/>\n      </g>\n     </g>\n    </g>\n    <g id=\"ytick_4\">\n     <g id=\"line2d_13\">\n      <g>\n       <use style=\"stroke:#000000;stroke-width:0.8;\" x=\"39.65\" xlink:href=\"#mdabd0c8968\" y=\"222.826489\"/>\n      </g>\n     </g>\n     <g id=\"text_13\">\n      <!-- 2500 -->\n      <g transform=\"translate(7.2 226.625707)scale(0.1 -0.1)\">\n       <use xlink:href=\"#DejaVuSans-50\"/>\n       <use x=\"63.623047\" xlink:href=\"#DejaVuSans-53\"/>\n       <use x=\"127.246094\" xlink:href=\"#DejaVuSans-48\"/>\n       <use x=\"190.869141\" xlink:href=\"#DejaVuSans-48\"/>\n      </g>\n     </g>\n    </g>\n    <g id=\"ytick_5\">\n     <g id=\"line2d_14\">\n      <g>\n       <use style=\"stroke:#000000;stroke-width:0.8;\" x=\"39.65\" xlink:href=\"#mdabd0c8968\" y=\"155.659405\"/>\n      </g>\n     </g>\n     <g id=\"text_14\">\n      <!-- 3000 -->\n      <defs>\n       <path d=\"M 40.578125 39.3125 \nQ 47.65625 37.796875 51.625 33 \nQ 55.609375 28.21875 55.609375 21.1875 \nQ 55.609375 10.40625 48.1875 4.484375 \nQ 40.765625 -1.421875 27.09375 -1.421875 \nQ 22.515625 -1.421875 17.65625 -0.515625 \nQ 12.796875 0.390625 7.625 2.203125 \nL 7.625 11.71875 \nQ 11.71875 9.328125 16.59375 8.109375 \nQ 21.484375 6.890625 26.8125 6.890625 \nQ 36.078125 6.890625 40.9375 10.546875 \nQ 45.796875 14.203125 45.796875 21.1875 \nQ 45.796875 27.640625 41.28125 31.265625 \nQ 36.765625 34.90625 28.71875 34.90625 \nL 20.21875 34.90625 \nL 20.21875 43.015625 \nL 29.109375 43.015625 \nQ 36.375 43.015625 40.234375 45.921875 \nQ 44.09375 48.828125 44.09375 54.296875 \nQ 44.09375 59.90625 40.109375 62.90625 \nQ 36.140625 65.921875 28.71875 65.921875 \nQ 24.65625 65.921875 20.015625 65.03125 \nQ 15.375 64.15625 9.8125 62.3125 \nL 9.8125 71.09375 \nQ 15.4375 72.65625 20.34375 73.4375 \nQ 25.25 74.21875 29.59375 74.21875 \nQ 40.828125 74.21875 47.359375 69.109375 \nQ 53.90625 64.015625 53.90625 55.328125 \nQ 53.90625 49.265625 50.4375 45.09375 \nQ 46.96875 40.921875 40.578125 39.3125 \nz\n\" id=\"DejaVuSans-51\"/>\n      </defs>\n      <g transform=\"translate(7.2 159.458624)scale(0.1 -0.1)\">\n       <use xlink:href=\"#DejaVuSans-51\"/>\n       <use x=\"63.623047\" xlink:href=\"#DejaVuSans-48\"/>\n       <use x=\"127.246094\" xlink:href=\"#DejaVuSans-48\"/>\n       <use x=\"190.869141\" xlink:href=\"#DejaVuSans-48\"/>\n      </g>\n     </g>\n    </g>\n    <g id=\"ytick_6\">\n     <g id=\"line2d_15\">\n      <g>\n       <use style=\"stroke:#000000;stroke-width:0.8;\" x=\"39.65\" xlink:href=\"#mdabd0c8968\" y=\"88.492321\"/>\n      </g>\n     </g>\n     <g id=\"text_15\">\n      <!-- 3500 -->\n      <g transform=\"translate(7.2 92.29154)scale(0.1 -0.1)\">\n       <use xlink:href=\"#DejaVuSans-51\"/>\n       <use x=\"63.623047\" xlink:href=\"#DejaVuSans-53\"/>\n       <use x=\"127.246094\" xlink:href=\"#DejaVuSans-48\"/>\n       <use x=\"190.869141\" xlink:href=\"#DejaVuSans-48\"/>\n      </g>\n     </g>\n    </g>\n    <g id=\"ytick_7\">\n     <g id=\"line2d_16\">\n      <g>\n       <use style=\"stroke:#000000;stroke-width:0.8;\" x=\"39.65\" xlink:href=\"#mdabd0c8968\" y=\"21.325238\"/>\n      </g>\n     </g>\n     <g id=\"text_16\">\n      <!-- 4000 -->\n      <g transform=\"translate(7.2 25.124456)scale(0.1 -0.1)\">\n       <use xlink:href=\"#DejaVuSans-52\"/>\n       <use x=\"63.623047\" xlink:href=\"#DejaVuSans-48\"/>\n       <use x=\"127.246094\" xlink:href=\"#DejaVuSans-48\"/>\n       <use x=\"190.869141\" xlink:href=\"#DejaVuSans-48\"/>\n      </g>\n     </g>\n    </g>\n   </g>\n   <g id=\"line2d_17\">\n    <path clip-path=\"url(#p4c9e30c120)\" d=\"M 80.231818 215.169441 \nL 130.959091 200.258349 \nL 181.686364 200.258349 \nL 232.413636 178.093211 \nL 283.140909 145.987345 \nL 333.868182 125.299883 \nL 384.595455 125.971554 \nL 435.322727 104.343753 \nL 486.05 104.343753 \nL 536.777273 104.343753 \nL 587.504545 104.343753 \nL 638.231818 86.074306 \nL 688.959091 73.178226 \nL 739.686364 73.173793 \nL 790.413636 67.536191 \nL 841.140909 56.52079 \nL 891.868182 26.967273 \n\" style=\"fill:none;stroke:#191970;stroke-linecap:square;stroke-width:3;\"/>\n   </g>\n   <g id=\"line2d_18\">\n    <path clip-path=\"url(#p4c9e30c120)\" d=\"M 232.413636 419.760378 \nL 283.140909 422.312727 \nL 333.868182 420.969386 \nL 384.595455 414.790014 \nL 435.322727 411.028657 \nL 486.05 397.998243 \nL 536.777273 392.08754 \nL 587.504545 396.789235 \nL 638.231818 396.789235 \nL 688.959091 366.564048 \nL 739.686364 366.502523 \nL 790.413636 366.502523 \nL 841.140909 366.502523 \nL 891.868182 318.875418 \n\" style=\"fill:none;stroke:#ffa500;stroke-linecap:square;stroke-width:3;\"/>\n   </g>\n   <g id=\"line2d_19\">\n    <path clip-path=\"url(#p4c9e30c120)\" d=\"M 80.231818 215.169441 \nL 130.959091 200.258349 \nL 181.686364 104.343753 \nL 232.413636 178.093211 \nL 283.140909 145.987345 \nL 333.868182 125.299883 \nL 384.595455 125.971554 \nL 435.322727 104.343753 \nL 486.05 104.343753 \nL 536.777273 104.343753 \nL 587.504545 104.343753 \nL 638.231818 86.074306 \nL 688.959091 73.178226 \nL 739.686364 73.173793 \nL 790.413636 67.536191 \nL 841.140909 56.52079 \nL 891.868182 26.967273 \n\" style=\"fill:none;stroke:#006400;stroke-linecap:square;stroke-width:3;\"/>\n   </g>\n   <g id=\"line2d_20\">\n    <path clip-path=\"url(#p4c9e30c120)\" d=\"M 80.231818 397.393739 \nL 130.959091 397.393739 \nL 181.686364 397.393739 \nL 232.413636 419.760378 \nL 283.140909 422.312727 \nL 333.868182 420.969386 \nL 384.595455 414.790014 \nL 435.322727 411.028657 \nL 486.05 397.998243 \nL 536.777273 392.08754 \nL 587.504545 396.789235 \nL 638.231818 396.789235 \nL 688.959091 366.564048 \nL 739.686364 366.502523 \nL 790.413636 397.393739 \nL 841.140909 397.393739 \nL 891.868182 318.875418 \n\" style=\"fill:none;stroke:#ff0000;stroke-linecap:square;stroke-width:3;\"/>\n   </g>\n   <g id=\"line2d_21\">\n    <path clip-path=\"url(#p4c9e30c120)\" d=\"M 80.231818 215.169441 \nL 130.959091 200.258349 \nL 181.686364 96.585283 \nL 232.413636 178.093211 \nL 283.140909 145.987345 \nL 333.868182 125.299883 \nL 384.595455 125.971554 \nL 435.322727 104.343753 \nL 486.05 96.585283 \nL 536.777273 89.987461 \nL 587.504545 96.585283 \nL 638.231818 86.074306 \nL 688.959091 73.178226 \nL 739.686364 73.173793 \nL 790.413636 67.536191 \nL 841.140909 56.52079 \nL 891.868182 26.967273 \n\" style=\"fill:none;stroke:#8a2be2;stroke-linecap:square;stroke-width:3;\"/>\n   </g>\n   <g id=\"line2d_22\">\n    <path clip-path=\"url(#p4c9e30c120)\" d=\"M 80.231818 419.722765 \nL 130.959091 419.722765 \nL 181.686364 397.397501 \nL 232.413636 419.760378 \nL 283.140909 422.312727 \nL 333.868182 420.969386 \nL 384.595455 414.790014 \nL 435.322727 411.028657 \nL 486.05 397.998243 \nL 536.777273 392.08754 \nL 587.504545 396.789235 \nL 638.231818 396.789235 \nL 688.959091 366.564048 \nL 739.686364 366.502523 \nL 790.413636 370.720317 \nL 841.140909 368.42186 \nL 891.868182 318.875418 \n\" style=\"fill:none;stroke:#8b4513;stroke-linecap:square;stroke-width:3;\"/>\n   </g>\n   <g id=\"patch_3\">\n    <path d=\"M 39.65 442.08 \nL 39.65 7.2 \n\" style=\"fill:none;stroke:#000000;stroke-linecap:square;stroke-linejoin:miter;stroke-width:0.8;\"/>\n   </g>\n   <g id=\"patch_4\">\n    <path d=\"M 932.45 442.08 \nL 932.45 7.2 \n\" style=\"fill:none;stroke:#000000;stroke-linecap:square;stroke-linejoin:miter;stroke-width:0.8;\"/>\n   </g>\n   <g id=\"patch_5\">\n    <path d=\"M 39.65 442.08 \nL 932.45 442.08 \n\" style=\"fill:none;stroke:#000000;stroke-linecap:square;stroke-linejoin:miter;stroke-width:0.8;\"/>\n   </g>\n   <g id=\"patch_6\">\n    <path d=\"M 39.65 7.2 \nL 932.45 7.2 \n\" style=\"fill:none;stroke:#000000;stroke-linecap:square;stroke-linejoin:miter;stroke-width:0.8;\"/>\n   </g>\n   <g id=\"legend_1\">\n    <g id=\"patch_7\">\n     <path d=\"M 651.21125 280.2825 \nL 924.05 280.2825 \nQ 926.45 280.2825 926.45 277.8825 \nL 926.45 171.3975 \nQ 926.45 168.9975 924.05 168.9975 \nL 651.21125 168.9975 \nQ 648.81125 168.9975 648.81125 171.3975 \nL 648.81125 277.8825 \nQ 648.81125 280.2825 651.21125 280.2825 \nz\n\" style=\"fill:#ffffff;opacity:0.8;stroke:#cccccc;stroke-linejoin:miter;\"/>\n    </g>\n    <g id=\"line2d_23\">\n     <path d=\"M 653.61125 178.715625 \nL 677.61125 178.715625 \n\" style=\"fill:none;stroke:#191970;stroke-linecap:square;stroke-width:3;\"/>\n    </g>\n    <g id=\"line2d_24\"/>\n    <g id=\"text_17\">\n     <!-- Simple_Imp Sedimentation -->\n     <defs>\n      <path d=\"M 53.515625 70.515625 \nL 53.515625 60.890625 \nQ 47.90625 63.578125 42.921875 64.890625 \nQ 37.9375 66.21875 33.296875 66.21875 \nQ 25.25 66.21875 20.875 63.09375 \nQ 16.5 59.96875 16.5 54.203125 \nQ 16.5 49.359375 19.40625 46.890625 \nQ 22.3125 44.4375 30.421875 42.921875 \nL 36.375 41.703125 \nQ 47.40625 39.59375 52.65625 34.296875 \nQ 57.90625 29 57.90625 20.125 \nQ 57.90625 9.515625 50.796875 4.046875 \nQ 43.703125 -1.421875 29.984375 -1.421875 \nQ 24.8125 -1.421875 18.96875 -0.25 \nQ 13.140625 0.921875 6.890625 3.21875 \nL 6.890625 13.375 \nQ 12.890625 10.015625 18.65625 8.296875 \nQ 24.421875 6.59375 29.984375 6.59375 \nQ 38.421875 6.59375 43.015625 9.90625 \nQ 47.609375 13.234375 47.609375 19.390625 \nQ 47.609375 24.75 44.3125 27.78125 \nQ 41.015625 30.8125 33.5 32.328125 \nL 27.484375 33.5 \nQ 16.453125 35.6875 11.515625 40.375 \nQ 6.59375 45.0625 6.59375 53.421875 \nQ 6.59375 63.09375 13.40625 68.65625 \nQ 20.21875 74.21875 32.171875 74.21875 \nQ 37.3125 74.21875 42.625 73.28125 \nQ 47.953125 72.359375 53.515625 70.515625 \nz\n\" id=\"DejaVuSans-83\"/>\n      <path d=\"M 9.421875 54.6875 \nL 18.40625 54.6875 \nL 18.40625 0 \nL 9.421875 0 \nz\nM 9.421875 75.984375 \nL 18.40625 75.984375 \nL 18.40625 64.59375 \nL 9.421875 64.59375 \nz\n\" id=\"DejaVuSans-105\"/>\n      <path d=\"M 52 44.1875 \nQ 55.375 50.25 60.0625 53.125 \nQ 64.75 56 71.09375 56 \nQ 79.640625 56 84.28125 50.015625 \nQ 88.921875 44.046875 88.921875 33.015625 \nL 88.921875 0 \nL 79.890625 0 \nL 79.890625 32.71875 \nQ 79.890625 40.578125 77.09375 44.375 \nQ 74.3125 48.1875 68.609375 48.1875 \nQ 61.625 48.1875 57.5625 43.546875 \nQ 53.515625 38.921875 53.515625 30.90625 \nL 53.515625 0 \nL 44.484375 0 \nL 44.484375 32.71875 \nQ 44.484375 40.625 41.703125 44.40625 \nQ 38.921875 48.1875 33.109375 48.1875 \nQ 26.21875 48.1875 22.15625 43.53125 \nQ 18.109375 38.875 18.109375 30.90625 \nL 18.109375 0 \nL 9.078125 0 \nL 9.078125 54.6875 \nL 18.109375 54.6875 \nL 18.109375 46.1875 \nQ 21.1875 51.21875 25.484375 53.609375 \nQ 29.78125 56 35.6875 56 \nQ 41.65625 56 45.828125 52.96875 \nQ 50 49.953125 52 44.1875 \nz\n\" id=\"DejaVuSans-109\"/>\n      <path d=\"M 18.109375 8.203125 \nL 18.109375 -20.796875 \nL 9.078125 -20.796875 \nL 9.078125 54.6875 \nL 18.109375 54.6875 \nL 18.109375 46.390625 \nQ 20.953125 51.265625 25.265625 53.625 \nQ 29.59375 56 35.59375 56 \nQ 45.5625 56 51.78125 48.09375 \nQ 58.015625 40.1875 58.015625 27.296875 \nQ 58.015625 14.40625 51.78125 6.484375 \nQ 45.5625 -1.421875 35.59375 -1.421875 \nQ 29.59375 -1.421875 25.265625 0.953125 \nQ 20.953125 3.328125 18.109375 8.203125 \nz\nM 48.6875 27.296875 \nQ 48.6875 37.203125 44.609375 42.84375 \nQ 40.53125 48.484375 33.40625 48.484375 \nQ 26.265625 48.484375 22.1875 42.84375 \nQ 18.109375 37.203125 18.109375 27.296875 \nQ 18.109375 17.390625 22.1875 11.75 \nQ 26.265625 6.109375 33.40625 6.109375 \nQ 40.53125 6.109375 44.609375 11.75 \nQ 48.6875 17.390625 48.6875 27.296875 \nz\n\" id=\"DejaVuSans-112\"/>\n      <path d=\"M 9.421875 75.984375 \nL 18.40625 75.984375 \nL 18.40625 0 \nL 9.421875 0 \nz\n\" id=\"DejaVuSans-108\"/>\n      <path d=\"M 56.203125 29.59375 \nL 56.203125 25.203125 \nL 14.890625 25.203125 \nQ 15.484375 15.921875 20.484375 11.0625 \nQ 25.484375 6.203125 34.421875 6.203125 \nQ 39.59375 6.203125 44.453125 7.46875 \nQ 49.3125 8.734375 54.109375 11.28125 \nL 54.109375 2.78125 \nQ 49.265625 0.734375 44.1875 -0.34375 \nQ 39.109375 -1.421875 33.890625 -1.421875 \nQ 20.796875 -1.421875 13.15625 6.1875 \nQ 5.515625 13.8125 5.515625 26.8125 \nQ 5.515625 40.234375 12.765625 48.109375 \nQ 20.015625 56 32.328125 56 \nQ 43.359375 56 49.78125 48.890625 \nQ 56.203125 41.796875 56.203125 29.59375 \nz\nM 47.21875 32.234375 \nQ 47.125 39.59375 43.09375 43.984375 \nQ 39.0625 48.390625 32.421875 48.390625 \nQ 24.90625 48.390625 20.390625 44.140625 \nQ 15.875 39.890625 15.1875 32.171875 \nz\n\" id=\"DejaVuSans-101\"/>\n      <path d=\"M 50.984375 -16.609375 \nL 50.984375 -23.578125 \nL -0.984375 -23.578125 \nL -0.984375 -16.609375 \nz\n\" id=\"DejaVuSans-95\"/>\n      <path d=\"M 9.8125 72.90625 \nL 19.671875 72.90625 \nL 19.671875 0 \nL 9.8125 0 \nz\n\" id=\"DejaVuSans-73\"/>\n      <path id=\"DejaVuSans-32\"/>\n      <path d=\"M 45.40625 46.390625 \nL 45.40625 75.984375 \nL 54.390625 75.984375 \nL 54.390625 0 \nL 45.40625 0 \nL 45.40625 8.203125 \nQ 42.578125 3.328125 38.25 0.953125 \nQ 33.9375 -1.421875 27.875 -1.421875 \nQ 17.96875 -1.421875 11.734375 6.484375 \nQ 5.515625 14.40625 5.515625 27.296875 \nQ 5.515625 40.1875 11.734375 48.09375 \nQ 17.96875 56 27.875 56 \nQ 33.9375 56 38.25 53.625 \nQ 42.578125 51.265625 45.40625 46.390625 \nz\nM 14.796875 27.296875 \nQ 14.796875 17.390625 18.875 11.75 \nQ 22.953125 6.109375 30.078125 6.109375 \nQ 37.203125 6.109375 41.296875 11.75 \nQ 45.40625 17.390625 45.40625 27.296875 \nQ 45.40625 37.203125 41.296875 42.84375 \nQ 37.203125 48.484375 30.078125 48.484375 \nQ 22.953125 48.484375 18.875 42.84375 \nQ 14.796875 37.203125 14.796875 27.296875 \nz\n\" id=\"DejaVuSans-100\"/>\n      <path d=\"M 54.890625 33.015625 \nL 54.890625 0 \nL 45.90625 0 \nL 45.90625 32.71875 \nQ 45.90625 40.484375 42.875 44.328125 \nQ 39.84375 48.1875 33.796875 48.1875 \nQ 26.515625 48.1875 22.3125 43.546875 \nQ 18.109375 38.921875 18.109375 30.90625 \nL 18.109375 0 \nL 9.078125 0 \nL 9.078125 54.6875 \nL 18.109375 54.6875 \nL 18.109375 46.1875 \nQ 21.34375 51.125 25.703125 53.5625 \nQ 30.078125 56 35.796875 56 \nQ 45.21875 56 50.046875 50.171875 \nQ 54.890625 44.34375 54.890625 33.015625 \nz\n\" id=\"DejaVuSans-110\"/>\n      <path d=\"M 18.3125 70.21875 \nL 18.3125 54.6875 \nL 36.8125 54.6875 \nL 36.8125 47.703125 \nL 18.3125 47.703125 \nL 18.3125 18.015625 \nQ 18.3125 11.328125 20.140625 9.421875 \nQ 21.96875 7.515625 27.59375 7.515625 \nL 36.8125 7.515625 \nL 36.8125 0 \nL 27.59375 0 \nQ 17.1875 0 13.234375 3.875 \nQ 9.28125 7.765625 9.28125 18.015625 \nL 9.28125 47.703125 \nL 2.6875 47.703125 \nL 2.6875 54.6875 \nL 9.28125 54.6875 \nL 9.28125 70.21875 \nz\n\" id=\"DejaVuSans-116\"/>\n      <path d=\"M 34.28125 27.484375 \nQ 23.390625 27.484375 19.1875 25 \nQ 14.984375 22.515625 14.984375 16.5 \nQ 14.984375 11.71875 18.140625 8.90625 \nQ 21.296875 6.109375 26.703125 6.109375 \nQ 34.1875 6.109375 38.703125 11.40625 \nQ 43.21875 16.703125 43.21875 25.484375 \nL 43.21875 27.484375 \nz\nM 52.203125 31.203125 \nL 52.203125 0 \nL 43.21875 0 \nL 43.21875 8.296875 \nQ 40.140625 3.328125 35.546875 0.953125 \nQ 30.953125 -1.421875 24.3125 -1.421875 \nQ 15.921875 -1.421875 10.953125 3.296875 \nQ 6 8.015625 6 15.921875 \nQ 6 25.140625 12.171875 29.828125 \nQ 18.359375 34.515625 30.609375 34.515625 \nL 43.21875 34.515625 \nL 43.21875 35.40625 \nQ 43.21875 41.609375 39.140625 45 \nQ 35.0625 48.390625 27.6875 48.390625 \nQ 23 48.390625 18.546875 47.265625 \nQ 14.109375 46.140625 10.015625 43.890625 \nL 10.015625 52.203125 \nQ 14.9375 54.109375 19.578125 55.046875 \nQ 24.21875 56 28.609375 56 \nQ 40.484375 56 46.34375 49.84375 \nQ 52.203125 43.703125 52.203125 31.203125 \nz\n\" id=\"DejaVuSans-97\"/>\n      <path d=\"M 30.609375 48.390625 \nQ 23.390625 48.390625 19.1875 42.75 \nQ 14.984375 37.109375 14.984375 27.296875 \nQ 14.984375 17.484375 19.15625 11.84375 \nQ 23.34375 6.203125 30.609375 6.203125 \nQ 37.796875 6.203125 41.984375 11.859375 \nQ 46.1875 17.53125 46.1875 27.296875 \nQ 46.1875 37.015625 41.984375 42.703125 \nQ 37.796875 48.390625 30.609375 48.390625 \nz\nM 30.609375 56 \nQ 42.328125 56 49.015625 48.375 \nQ 55.71875 40.765625 55.71875 27.296875 \nQ 55.71875 13.875 49.015625 6.21875 \nQ 42.328125 -1.421875 30.609375 -1.421875 \nQ 18.84375 -1.421875 12.171875 6.21875 \nQ 5.515625 13.875 5.515625 27.296875 \nQ 5.515625 40.765625 12.171875 48.375 \nQ 18.84375 56 30.609375 56 \nz\n\" id=\"DejaVuSans-111\"/>\n     </defs>\n     <g transform=\"translate(687.21125 182.915625)scale(0.12 -0.12)\">\n      <use xlink:href=\"#DejaVuSans-83\"/>\n      <use x=\"63.476562\" xlink:href=\"#DejaVuSans-105\"/>\n      <use x=\"91.259766\" xlink:href=\"#DejaVuSans-109\"/>\n      <use x=\"188.671875\" xlink:href=\"#DejaVuSans-112\"/>\n      <use x=\"252.148438\" xlink:href=\"#DejaVuSans-108\"/>\n      <use x=\"279.931641\" xlink:href=\"#DejaVuSans-101\"/>\n      <use x=\"341.455078\" xlink:href=\"#DejaVuSans-95\"/>\n      <use x=\"391.455078\" xlink:href=\"#DejaVuSans-73\"/>\n      <use x=\"420.947266\" xlink:href=\"#DejaVuSans-109\"/>\n      <use x=\"518.359375\" xlink:href=\"#DejaVuSans-112\"/>\n      <use x=\"581.835938\" xlink:href=\"#DejaVuSans-32\"/>\n      <use x=\"613.623047\" xlink:href=\"#DejaVuSans-83\"/>\n      <use x=\"677.099609\" xlink:href=\"#DejaVuSans-101\"/>\n      <use x=\"738.623047\" xlink:href=\"#DejaVuSans-100\"/>\n      <use x=\"802.099609\" xlink:href=\"#DejaVuSans-105\"/>\n      <use x=\"829.882812\" xlink:href=\"#DejaVuSans-109\"/>\n      <use x=\"927.294922\" xlink:href=\"#DejaVuSans-101\"/>\n      <use x=\"988.818359\" xlink:href=\"#DejaVuSans-110\"/>\n      <use x=\"1052.197266\" xlink:href=\"#DejaVuSans-116\"/>\n      <use x=\"1091.40625\" xlink:href=\"#DejaVuSans-97\"/>\n      <use x=\"1152.685547\" xlink:href=\"#DejaVuSans-116\"/>\n      <use x=\"1191.894531\" xlink:href=\"#DejaVuSans-105\"/>\n      <use x=\"1219.677734\" xlink:href=\"#DejaVuSans-111\"/>\n      <use x=\"1280.859375\" xlink:href=\"#DejaVuSans-110\"/>\n     </g>\n    </g>\n    <g id=\"line2d_25\">\n     <path d=\"M 653.61125 196.663125 \nL 677.61125 196.663125 \n\" style=\"fill:none;stroke:#ffa500;stroke-linecap:square;stroke-width:3;\"/>\n    </g>\n    <g id=\"line2d_26\"/>\n    <g id=\"text_18\">\n     <!-- Simple_Imp Sediment in Dead_Volume -->\n     <defs>\n      <path d=\"M 19.671875 64.796875 \nL 19.671875 8.109375 \nL 31.59375 8.109375 \nQ 46.6875 8.109375 53.6875 14.9375 \nQ 60.6875 21.78125 60.6875 36.53125 \nQ 60.6875 51.171875 53.6875 57.984375 \nQ 46.6875 64.796875 31.59375 64.796875 \nz\nM 9.8125 72.90625 \nL 30.078125 72.90625 \nQ 51.265625 72.90625 61.171875 64.09375 \nQ 71.09375 55.28125 71.09375 36.53125 \nQ 71.09375 17.671875 61.125 8.828125 \nQ 51.171875 0 30.078125 0 \nL 9.8125 0 \nz\n\" id=\"DejaVuSans-68\"/>\n      <path d=\"M 28.609375 0 \nL 0.78125 72.90625 \nL 11.078125 72.90625 \nL 34.1875 11.53125 \nL 57.328125 72.90625 \nL 67.578125 72.90625 \nL 39.796875 0 \nz\n\" id=\"DejaVuSans-86\"/>\n      <path d=\"M 8.5 21.578125 \nL 8.5 54.6875 \nL 17.484375 54.6875 \nL 17.484375 21.921875 \nQ 17.484375 14.15625 20.5 10.265625 \nQ 23.53125 6.390625 29.59375 6.390625 \nQ 36.859375 6.390625 41.078125 11.03125 \nQ 45.3125 15.671875 45.3125 23.6875 \nL 45.3125 54.6875 \nL 54.296875 54.6875 \nL 54.296875 0 \nL 45.3125 0 \nL 45.3125 8.40625 \nQ 42.046875 3.421875 37.71875 1 \nQ 33.40625 -1.421875 27.6875 -1.421875 \nQ 18.265625 -1.421875 13.375 4.4375 \nQ 8.5 10.296875 8.5 21.578125 \nz\nM 31.109375 56 \nz\n\" id=\"DejaVuSans-117\"/>\n     </defs>\n     <g transform=\"translate(687.21125 200.863125)scale(0.12 -0.12)\">\n      <use xlink:href=\"#DejaVuSans-83\"/>\n      <use x=\"63.476562\" xlink:href=\"#DejaVuSans-105\"/>\n      <use x=\"91.259766\" xlink:href=\"#DejaVuSans-109\"/>\n      <use x=\"188.671875\" xlink:href=\"#DejaVuSans-112\"/>\n      <use x=\"252.148438\" xlink:href=\"#DejaVuSans-108\"/>\n      <use x=\"279.931641\" xlink:href=\"#DejaVuSans-101\"/>\n      <use x=\"341.455078\" xlink:href=\"#DejaVuSans-95\"/>\n      <use x=\"391.455078\" xlink:href=\"#DejaVuSans-73\"/>\n      <use x=\"420.947266\" xlink:href=\"#DejaVuSans-109\"/>\n      <use x=\"518.359375\" xlink:href=\"#DejaVuSans-112\"/>\n      <use x=\"581.835938\" xlink:href=\"#DejaVuSans-32\"/>\n      <use x=\"613.623047\" xlink:href=\"#DejaVuSans-83\"/>\n      <use x=\"677.099609\" xlink:href=\"#DejaVuSans-101\"/>\n      <use x=\"738.623047\" xlink:href=\"#DejaVuSans-100\"/>\n      <use x=\"802.099609\" xlink:href=\"#DejaVuSans-105\"/>\n      <use x=\"829.882812\" xlink:href=\"#DejaVuSans-109\"/>\n      <use x=\"927.294922\" xlink:href=\"#DejaVuSans-101\"/>\n      <use x=\"988.818359\" xlink:href=\"#DejaVuSans-110\"/>\n      <use x=\"1052.197266\" xlink:href=\"#DejaVuSans-116\"/>\n      <use x=\"1091.40625\" xlink:href=\"#DejaVuSans-32\"/>\n      <use x=\"1123.193359\" xlink:href=\"#DejaVuSans-105\"/>\n      <use x=\"1150.976562\" xlink:href=\"#DejaVuSans-110\"/>\n      <use x=\"1214.355469\" xlink:href=\"#DejaVuSans-32\"/>\n      <use x=\"1246.142578\" xlink:href=\"#DejaVuSans-68\"/>\n      <use x=\"1323.144531\" xlink:href=\"#DejaVuSans-101\"/>\n      <use x=\"1384.667969\" xlink:href=\"#DejaVuSans-97\"/>\n      <use x=\"1445.947266\" xlink:href=\"#DejaVuSans-100\"/>\n      <use x=\"1509.423828\" xlink:href=\"#DejaVuSans-95\"/>\n      <use x=\"1559.423828\" xlink:href=\"#DejaVuSans-86\"/>\n      <use x=\"1620.082031\" xlink:href=\"#DejaVuSans-111\"/>\n      <use x=\"1681.263672\" xlink:href=\"#DejaVuSans-108\"/>\n      <use x=\"1709.046875\" xlink:href=\"#DejaVuSans-117\"/>\n      <use x=\"1772.425781\" xlink:href=\"#DejaVuSans-109\"/>\n      <use x=\"1869.837891\" xlink:href=\"#DejaVuSans-101\"/>\n     </g>\n    </g>\n    <g id=\"line2d_27\">\n     <path d=\"M 653.61125 214.610625 \nL 677.61125 214.610625 \n\" style=\"fill:none;stroke:#006400;stroke-linecap:square;stroke-width:3;\"/>\n    </g>\n    <g id=\"line2d_28\"/>\n    <g id=\"text_19\">\n     <!-- Median_Imp Sedimentation -->\n     <defs>\n      <path d=\"M 9.8125 72.90625 \nL 24.515625 72.90625 \nL 43.109375 23.296875 \nL 61.8125 72.90625 \nL 76.515625 72.90625 \nL 76.515625 0 \nL 66.890625 0 \nL 66.890625 64.015625 \nL 48.09375 14.015625 \nL 38.1875 14.015625 \nL 19.390625 64.015625 \nL 19.390625 0 \nL 9.8125 0 \nz\n\" id=\"DejaVuSans-77\"/>\n     </defs>\n     <g transform=\"translate(687.21125 218.810625)scale(0.12 -0.12)\">\n      <use xlink:href=\"#DejaVuSans-77\"/>\n      <use x=\"86.279297\" xlink:href=\"#DejaVuSans-101\"/>\n      <use x=\"147.802734\" xlink:href=\"#DejaVuSans-100\"/>\n      <use x=\"211.279297\" xlink:href=\"#DejaVuSans-105\"/>\n      <use x=\"239.0625\" xlink:href=\"#DejaVuSans-97\"/>\n      <use x=\"300.341797\" xlink:href=\"#DejaVuSans-110\"/>\n      <use x=\"363.720703\" xlink:href=\"#DejaVuSans-95\"/>\n      <use x=\"413.720703\" xlink:href=\"#DejaVuSans-73\"/>\n      <use x=\"443.212891\" xlink:href=\"#DejaVuSans-109\"/>\n      <use x=\"540.625\" xlink:href=\"#DejaVuSans-112\"/>\n      <use x=\"604.101562\" xlink:href=\"#DejaVuSans-32\"/>\n      <use x=\"635.888672\" xlink:href=\"#DejaVuSans-83\"/>\n      <use x=\"699.365234\" xlink:href=\"#DejaVuSans-101\"/>\n      <use x=\"760.888672\" xlink:href=\"#DejaVuSans-100\"/>\n      <use x=\"824.365234\" xlink:href=\"#DejaVuSans-105\"/>\n      <use x=\"852.148438\" xlink:href=\"#DejaVuSans-109\"/>\n      <use x=\"949.560547\" xlink:href=\"#DejaVuSans-101\"/>\n      <use x=\"1011.083984\" xlink:href=\"#DejaVuSans-110\"/>\n      <use x=\"1074.462891\" xlink:href=\"#DejaVuSans-116\"/>\n      <use x=\"1113.671875\" xlink:href=\"#DejaVuSans-97\"/>\n      <use x=\"1174.951172\" xlink:href=\"#DejaVuSans-116\"/>\n      <use x=\"1214.160156\" xlink:href=\"#DejaVuSans-105\"/>\n      <use x=\"1241.943359\" xlink:href=\"#DejaVuSans-111\"/>\n      <use x=\"1303.125\" xlink:href=\"#DejaVuSans-110\"/>\n     </g>\n    </g>\n    <g id=\"line2d_29\">\n     <path d=\"M 653.61125 232.558125 \nL 677.61125 232.558125 \n\" style=\"fill:none;stroke:#ff0000;stroke-linecap:square;stroke-width:3;\"/>\n    </g>\n    <g id=\"line2d_30\"/>\n    <g id=\"text_20\">\n     <!-- Median_Imp Sediment in Dead_Volume -->\n     <g transform=\"translate(687.21125 236.758125)scale(0.12 -0.12)\">\n      <use xlink:href=\"#DejaVuSans-77\"/>\n      <use x=\"86.279297\" xlink:href=\"#DejaVuSans-101\"/>\n      <use x=\"147.802734\" xlink:href=\"#DejaVuSans-100\"/>\n      <use x=\"211.279297\" xlink:href=\"#DejaVuSans-105\"/>\n      <use x=\"239.0625\" xlink:href=\"#DejaVuSans-97\"/>\n      <use x=\"300.341797\" xlink:href=\"#DejaVuSans-110\"/>\n      <use x=\"363.720703\" xlink:href=\"#DejaVuSans-95\"/>\n      <use x=\"413.720703\" xlink:href=\"#DejaVuSans-73\"/>\n      <use x=\"443.212891\" xlink:href=\"#DejaVuSans-109\"/>\n      <use x=\"540.625\" xlink:href=\"#DejaVuSans-112\"/>\n      <use x=\"604.101562\" xlink:href=\"#DejaVuSans-32\"/>\n      <use x=\"635.888672\" xlink:href=\"#DejaVuSans-83\"/>\n      <use x=\"699.365234\" xlink:href=\"#DejaVuSans-101\"/>\n      <use x=\"760.888672\" xlink:href=\"#DejaVuSans-100\"/>\n      <use x=\"824.365234\" xlink:href=\"#DejaVuSans-105\"/>\n      <use x=\"852.148438\" xlink:href=\"#DejaVuSans-109\"/>\n      <use x=\"949.560547\" xlink:href=\"#DejaVuSans-101\"/>\n      <use x=\"1011.083984\" xlink:href=\"#DejaVuSans-110\"/>\n      <use x=\"1074.462891\" xlink:href=\"#DejaVuSans-116\"/>\n      <use x=\"1113.671875\" xlink:href=\"#DejaVuSans-32\"/>\n      <use x=\"1145.458984\" xlink:href=\"#DejaVuSans-105\"/>\n      <use x=\"1173.242188\" xlink:href=\"#DejaVuSans-110\"/>\n      <use x=\"1236.621094\" xlink:href=\"#DejaVuSans-32\"/>\n      <use x=\"1268.408203\" xlink:href=\"#DejaVuSans-68\"/>\n      <use x=\"1345.410156\" xlink:href=\"#DejaVuSans-101\"/>\n      <use x=\"1406.933594\" xlink:href=\"#DejaVuSans-97\"/>\n      <use x=\"1468.212891\" xlink:href=\"#DejaVuSans-100\"/>\n      <use x=\"1531.689453\" xlink:href=\"#DejaVuSans-95\"/>\n      <use x=\"1581.689453\" xlink:href=\"#DejaVuSans-86\"/>\n      <use x=\"1642.347656\" xlink:href=\"#DejaVuSans-111\"/>\n      <use x=\"1703.529297\" xlink:href=\"#DejaVuSans-108\"/>\n      <use x=\"1731.3125\" xlink:href=\"#DejaVuSans-117\"/>\n      <use x=\"1794.691406\" xlink:href=\"#DejaVuSans-109\"/>\n      <use x=\"1892.103516\" xlink:href=\"#DejaVuSans-101\"/>\n     </g>\n    </g>\n    <g id=\"line2d_31\">\n     <path d=\"M 653.61125 250.505625 \nL 677.61125 250.505625 \n\" style=\"fill:none;stroke:#8a2be2;stroke-linecap:square;stroke-width:3;\"/>\n    </g>\n    <g id=\"line2d_32\"/>\n    <g id=\"text_21\">\n     <!-- RFOR_Tab Sedimentation -->\n     <defs>\n      <path d=\"M 44.390625 34.1875 \nQ 47.5625 33.109375 50.5625 29.59375 \nQ 53.5625 26.078125 56.59375 19.921875 \nL 66.609375 0 \nL 56 0 \nL 46.6875 18.703125 \nQ 43.0625 26.03125 39.671875 28.421875 \nQ 36.28125 30.8125 30.421875 30.8125 \nL 19.671875 30.8125 \nL 19.671875 0 \nL 9.8125 0 \nL 9.8125 72.90625 \nL 32.078125 72.90625 \nQ 44.578125 72.90625 50.734375 67.671875 \nQ 56.890625 62.453125 56.890625 51.90625 \nQ 56.890625 45.015625 53.6875 40.46875 \nQ 50.484375 35.9375 44.390625 34.1875 \nz\nM 19.671875 64.796875 \nL 19.671875 38.921875 \nL 32.078125 38.921875 \nQ 39.203125 38.921875 42.84375 42.21875 \nQ 46.484375 45.515625 46.484375 51.90625 \nQ 46.484375 58.296875 42.84375 61.546875 \nQ 39.203125 64.796875 32.078125 64.796875 \nz\n\" id=\"DejaVuSans-82\"/>\n      <path d=\"M 9.8125 72.90625 \nL 51.703125 72.90625 \nL 51.703125 64.59375 \nL 19.671875 64.59375 \nL 19.671875 43.109375 \nL 48.578125 43.109375 \nL 48.578125 34.8125 \nL 19.671875 34.8125 \nL 19.671875 0 \nL 9.8125 0 \nz\n\" id=\"DejaVuSans-70\"/>\n      <path d=\"M 39.40625 66.21875 \nQ 28.65625 66.21875 22.328125 58.203125 \nQ 16.015625 50.203125 16.015625 36.375 \nQ 16.015625 22.609375 22.328125 14.59375 \nQ 28.65625 6.59375 39.40625 6.59375 \nQ 50.140625 6.59375 56.421875 14.59375 \nQ 62.703125 22.609375 62.703125 36.375 \nQ 62.703125 50.203125 56.421875 58.203125 \nQ 50.140625 66.21875 39.40625 66.21875 \nz\nM 39.40625 74.21875 \nQ 54.734375 74.21875 63.90625 63.9375 \nQ 73.09375 53.65625 73.09375 36.375 \nQ 73.09375 19.140625 63.90625 8.859375 \nQ 54.734375 -1.421875 39.40625 -1.421875 \nQ 24.03125 -1.421875 14.8125 8.828125 \nQ 5.609375 19.09375 5.609375 36.375 \nQ 5.609375 53.65625 14.8125 63.9375 \nQ 24.03125 74.21875 39.40625 74.21875 \nz\n\" id=\"DejaVuSans-79\"/>\n      <path d=\"M -0.296875 72.90625 \nL 61.375 72.90625 \nL 61.375 64.59375 \nL 35.5 64.59375 \nL 35.5 0 \nL 25.59375 0 \nL 25.59375 64.59375 \nL -0.296875 64.59375 \nz\n\" id=\"DejaVuSans-84\"/>\n      <path d=\"M 48.6875 27.296875 \nQ 48.6875 37.203125 44.609375 42.84375 \nQ 40.53125 48.484375 33.40625 48.484375 \nQ 26.265625 48.484375 22.1875 42.84375 \nQ 18.109375 37.203125 18.109375 27.296875 \nQ 18.109375 17.390625 22.1875 11.75 \nQ 26.265625 6.109375 33.40625 6.109375 \nQ 40.53125 6.109375 44.609375 11.75 \nQ 48.6875 17.390625 48.6875 27.296875 \nz\nM 18.109375 46.390625 \nQ 20.953125 51.265625 25.265625 53.625 \nQ 29.59375 56 35.59375 56 \nQ 45.5625 56 51.78125 48.09375 \nQ 58.015625 40.1875 58.015625 27.296875 \nQ 58.015625 14.40625 51.78125 6.484375 \nQ 45.5625 -1.421875 35.59375 -1.421875 \nQ 29.59375 -1.421875 25.265625 0.953125 \nQ 20.953125 3.328125 18.109375 8.203125 \nL 18.109375 0 \nL 9.078125 0 \nL 9.078125 75.984375 \nL 18.109375 75.984375 \nz\n\" id=\"DejaVuSans-98\"/>\n     </defs>\n     <g transform=\"translate(687.21125 254.705625)scale(0.12 -0.12)\">\n      <use xlink:href=\"#DejaVuSans-82\"/>\n      <use x=\"69.482422\" xlink:href=\"#DejaVuSans-70\"/>\n      <use x=\"127.001953\" xlink:href=\"#DejaVuSans-79\"/>\n      <use x=\"205.712891\" xlink:href=\"#DejaVuSans-82\"/>\n      <use x=\"275.195312\" xlink:href=\"#DejaVuSans-95\"/>\n      <use x=\"325.195312\" xlink:href=\"#DejaVuSans-84\"/>\n      <use x=\"369.779297\" xlink:href=\"#DejaVuSans-97\"/>\n      <use x=\"431.058594\" xlink:href=\"#DejaVuSans-98\"/>\n      <use x=\"494.535156\" xlink:href=\"#DejaVuSans-32\"/>\n      <use x=\"526.322266\" xlink:href=\"#DejaVuSans-83\"/>\n      <use x=\"589.798828\" xlink:href=\"#DejaVuSans-101\"/>\n      <use x=\"651.322266\" xlink:href=\"#DejaVuSans-100\"/>\n      <use x=\"714.798828\" xlink:href=\"#DejaVuSans-105\"/>\n      <use x=\"742.582031\" xlink:href=\"#DejaVuSans-109\"/>\n      <use x=\"839.994141\" xlink:href=\"#DejaVuSans-101\"/>\n      <use x=\"901.517578\" xlink:href=\"#DejaVuSans-110\"/>\n      <use x=\"964.896484\" xlink:href=\"#DejaVuSans-116\"/>\n      <use x=\"1004.105469\" xlink:href=\"#DejaVuSans-97\"/>\n      <use x=\"1065.384766\" xlink:href=\"#DejaVuSans-116\"/>\n      <use x=\"1104.59375\" xlink:href=\"#DejaVuSans-105\"/>\n      <use x=\"1132.376953\" xlink:href=\"#DejaVuSans-111\"/>\n      <use x=\"1193.558594\" xlink:href=\"#DejaVuSans-110\"/>\n     </g>\n    </g>\n    <g id=\"line2d_33\">\n     <path d=\"M 653.61125 268.453125 \nL 677.61125 268.453125 \n\" style=\"fill:none;stroke:#8b4513;stroke-linecap:square;stroke-width:3;\"/>\n    </g>\n    <g id=\"line2d_34\"/>\n    <g id=\"text_22\">\n     <!-- RFOR_Tab Sediment in Dead_Volume -->\n     <g transform=\"translate(687.21125 272.653125)scale(0.12 -0.12)\">\n      <use xlink:href=\"#DejaVuSans-82\"/>\n      <use x=\"69.482422\" xlink:href=\"#DejaVuSans-70\"/>\n      <use x=\"127.001953\" xlink:href=\"#DejaVuSans-79\"/>\n      <use x=\"205.712891\" xlink:href=\"#DejaVuSans-82\"/>\n      <use x=\"275.195312\" xlink:href=\"#DejaVuSans-95\"/>\n      <use x=\"325.195312\" xlink:href=\"#DejaVuSans-84\"/>\n      <use x=\"369.779297\" xlink:href=\"#DejaVuSans-97\"/>\n      <use x=\"431.058594\" xlink:href=\"#DejaVuSans-98\"/>\n      <use x=\"494.535156\" xlink:href=\"#DejaVuSans-32\"/>\n      <use x=\"526.322266\" xlink:href=\"#DejaVuSans-83\"/>\n      <use x=\"589.798828\" xlink:href=\"#DejaVuSans-101\"/>\n      <use x=\"651.322266\" xlink:href=\"#DejaVuSans-100\"/>\n      <use x=\"714.798828\" xlink:href=\"#DejaVuSans-105\"/>\n      <use x=\"742.582031\" xlink:href=\"#DejaVuSans-109\"/>\n      <use x=\"839.994141\" xlink:href=\"#DejaVuSans-101\"/>\n      <use x=\"901.517578\" xlink:href=\"#DejaVuSans-110\"/>\n      <use x=\"964.896484\" xlink:href=\"#DejaVuSans-116\"/>\n      <use x=\"1004.105469\" xlink:href=\"#DejaVuSans-32\"/>\n      <use x=\"1035.892578\" xlink:href=\"#DejaVuSans-105\"/>\n      <use x=\"1063.675781\" xlink:href=\"#DejaVuSans-110\"/>\n      <use x=\"1127.054688\" xlink:href=\"#DejaVuSans-32\"/>\n      <use x=\"1158.841797\" xlink:href=\"#DejaVuSans-68\"/>\n      <use x=\"1235.84375\" xlink:href=\"#DejaVuSans-101\"/>\n      <use x=\"1297.367188\" xlink:href=\"#DejaVuSans-97\"/>\n      <use x=\"1358.646484\" xlink:href=\"#DejaVuSans-100\"/>\n      <use x=\"1422.123047\" xlink:href=\"#DejaVuSans-95\"/>\n      <use x=\"1472.123047\" xlink:href=\"#DejaVuSans-86\"/>\n      <use x=\"1532.78125\" xlink:href=\"#DejaVuSans-111\"/>\n      <use x=\"1593.962891\" xlink:href=\"#DejaVuSans-108\"/>\n      <use x=\"1621.746094\" xlink:href=\"#DejaVuSans-117\"/>\n      <use x=\"1685.125\" xlink:href=\"#DejaVuSans-109\"/>\n      <use x=\"1782.537109\" xlink:href=\"#DejaVuSans-101\"/>\n     </g>\n    </g>\n   </g>\n  </g>\n </g>\n <defs>\n  <clipPath id=\"p4c9e30c120\">\n   <rect height=\"434.88\" width=\"892.8\" x=\"39.65\" y=\"7.2\"/>\n  </clipPath>\n </defs>\n</svg>\n"
          },
          "metadata": {
            "tags": [],
            "needs_background": "light"
          }
        }
      ]
    },
    {
      "cell_type": "code",
      "metadata": {
        "id": "II9HSt1E7WBb",
        "colab_type": "code",
        "colab": {}
      },
      "source": [
        "# pacotes escencias por certas funciones como randomizar ou gerar certas representações gráficas \n",
        "import os\n",
        "import cv2\n",
        "import random\n",
        "from sklearn.model_selection import train_test_split\n",
        "from sklearn.metrics import confusion_matrix\n",
        "\n",
        "\n",
        "# pacotes gerais de ANN\n",
        "import tensorflow as tf \n",
        "from tensorflow import keras\n",
        "import zipfile\n",
        "\n",
        "#from tensorflow.keras import datasets, layers, models\n",
        "\n",
        "# pacotes por certas operções ou câmaras de ANN\n",
        "from tensorflow.keras import optimizers, losses, utils \n",
        "from tensorflow.keras.layers import Dense, Activation, Conv2D, MaxPool2D, Flatten, Dropout\n",
        "from tensorflow.keras.models import Model, Sequential \n",
        "from tensorflow.keras.optimizers import Adam, RMSprop\n",
        "from tensorflow.keras.regularizers import l2"
      ],
      "execution_count": null,
      "outputs": []
    },
    {
      "cell_type": "code",
      "metadata": {
        "id": "eNn7Pi417iGN",
        "colab_type": "code",
        "colab": {}
      },
      "source": [
        "#Importando conjunto de imagens\n",
        "path = '/content/EuroSAT.zip'\n",
        "\n",
        "#Desconpactanddo arquivos\n",
        "zip_object = zipfile.ZipFile(file = path, mode = 'r')\n",
        "zip_object.extractall('./')\n",
        "zip_object.close()"
      ],
      "execution_count": null,
      "outputs": []
    },
    {
      "cell_type": "code",
      "metadata": {
        "id": "k9K0ffk-8VWD",
        "colab_type": "code",
        "colab": {}
      },
      "source": [
        " #lugar superior do conjunto de imagens\n",
        "DATADIR = \"/content/2750\""
      ],
      "execution_count": null,
      "outputs": []
    },
    {
      "cell_type": "code",
      "metadata": {
        "id": "ZxMh4T537bbE",
        "colab_type": "code",
        "colab": {}
      },
      "source": [
        "#DEfinindo as categorias\n",
        "CATEGORIES = [\"River\",\"Forest\",\"AnnualCrop\",\"HerbaceousVegetation\",\"Highway\",\"Industrial\",\"Pasture\",\"PermanentCrop\",\"Residential\",\"SeaLake\"]#conjuntos das categórias"
      ],
      "execution_count": null,
      "outputs": []
    },
    {
      "cell_type": "code",
      "metadata": {
        "id": "WoM-uY7Z7xTI",
        "colab_type": "code",
        "colab": {}
      },
      "source": [
        "training_data = [] #lista vazia\n",
        "show = []"
      ],
      "execution_count": null,
      "outputs": []
    },
    {
      "cell_type": "code",
      "metadata": {
        "id": "RBPJiivp70gV",
        "colab_type": "code",
        "colab": {}
      },
      "source": [
        "def create_image_set():\n",
        "    for category in CATEGORIES:\n",
        "        path = os.path.join(DATADIR, category)\n",
        "        class_num = CATEGORIES.index(category)  \n",
        "        for img in os.listdir(path):\n",
        "            try: # try-except-pass: medida de segurança contra arquivos quebrados\n",
        "                img_array=cv2.imread(os.path.join(path,img))\n",
        "                training_data.append([img_array,class_num])\n",
        "                show.append(img_array)\n",
        "            except Exception as e:\n",
        "                pass\n",
        "#             plt.imshow(img_array)\n",
        "#             plt.show()\n",
        "#             break\n",
        "#         break\n",
        "\n",
        "create_image_set()"
      ],
      "execution_count": null,
      "outputs": []
    },
    {
      "cell_type": "code",
      "metadata": {
        "id": "T1cnX7_vA8L8",
        "colab_type": "code",
        "colab": {
          "base_uri": "https://localhost:8080/",
          "height": 444
        },
        "outputId": "afce78e7-a416-41e0-a7e7-f8937b4813a5"
      },
      "source": [
        "print(plt.imshow(show[10930]))"
      ],
      "execution_count": null,
      "outputs": [
        {
          "output_type": "stream",
          "text": [
            "AxesImage(144,45;892.8x271.8)\n"
          ],
          "name": "stdout"
        },
        {
          "output_type": "display_data",
          "data": {
            "text/plain": [
              "<Figure size 1152x360 with 1 Axes>"
            ],
            "image/svg+xml": "<?xml version=\"1.0\" encoding=\"utf-8\" standalone=\"no\"?>\n<!DOCTYPE svg PUBLIC \"-//W3C//DTD SVG 1.1//EN\"\n  \"http://www.w3.org/Graphics/SVG/1.1/DTD/svg11.dtd\">\n<!-- Created with matplotlib (https://matplotlib.org/) -->\n<svg height=\"304.553906pt\" version=\"1.1\" viewBox=\"0 0 305.925 304.553906\" width=\"305.925pt\" xmlns=\"http://www.w3.org/2000/svg\" xmlns:xlink=\"http://www.w3.org/1999/xlink\">\n <defs>\n  <style type=\"text/css\">\n*{stroke-linecap:butt;stroke-linejoin:round;}\n  </style>\n </defs>\n <g id=\"figure_1\">\n  <g id=\"patch_1\">\n   <path d=\"M 0 304.553906 \nL 305.925 304.553906 \nL 305.925 0 \nL 0 0 \nz\n\" style=\"fill:none;\"/>\n  </g>\n  <g id=\"axes_1\">\n   <g id=\"patch_2\">\n    <path d=\"M 26.925 280.675781 \nL 298.725 280.675781 \nL 298.725 8.875781 \nL 26.925 8.875781 \nz\n\" style=\"fill:#ffffff;\"/>\n   </g>\n   <g clip-path=\"url(#pc7886031e2)\">\n    <image height=\"272\" id=\"image00095aaf5a\" transform=\"scale(1 -1)translate(0 -272)\" width=\"272\" x=\"26.925\" xlink:href=\"data:image/png;base64,\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\" y=\"-8.675781\"/>\n   </g>\n   <g id=\"matplotlib.axis_1\">\n    <g id=\"xtick_1\">\n     <g id=\"line2d_1\">\n      <defs>\n       <path d=\"M 0 0 \nL 0 3.5 \n\" id=\"m0fa9c9d250\" style=\"stroke:#000000;stroke-width:0.8;\"/>\n      </defs>\n      <g>\n       <use style=\"stroke:#000000;stroke-width:0.8;\" x=\"29.048438\" xlink:href=\"#m0fa9c9d250\" y=\"280.675781\"/>\n      </g>\n     </g>\n     <g id=\"text_1\">\n      <!-- 0 -->\n      <defs>\n       <path d=\"M 31.78125 66.40625 \nQ 24.171875 66.40625 20.328125 58.90625 \nQ 16.5 51.421875 16.5 36.375 \nQ 16.5 21.390625 20.328125 13.890625 \nQ 24.171875 6.390625 31.78125 6.390625 \nQ 39.453125 6.390625 43.28125 13.890625 \nQ 47.125 21.390625 47.125 36.375 \nQ 47.125 51.421875 43.28125 58.90625 \nQ 39.453125 66.40625 31.78125 66.40625 \nz\nM 31.78125 74.21875 \nQ 44.046875 74.21875 50.515625 64.515625 \nQ 56.984375 54.828125 56.984375 36.375 \nQ 56.984375 17.96875 50.515625 8.265625 \nQ 44.046875 -1.421875 31.78125 -1.421875 \nQ 19.53125 -1.421875 13.0625 8.265625 \nQ 6.59375 17.96875 6.59375 36.375 \nQ 6.59375 54.828125 13.0625 64.515625 \nQ 19.53125 74.21875 31.78125 74.21875 \nz\n\" id=\"DejaVuSans-48\"/>\n      </defs>\n      <g transform=\"translate(25.867188 295.274219)scale(0.1 -0.1)\">\n       <use xlink:href=\"#DejaVuSans-48\"/>\n      </g>\n     </g>\n    </g>\n    <g id=\"xtick_2\">\n     <g id=\"line2d_2\">\n      <g>\n       <use style=\"stroke:#000000;stroke-width:0.8;\" x=\"71.517188\" xlink:href=\"#m0fa9c9d250\" y=\"280.675781\"/>\n      </g>\n     </g>\n     <g id=\"text_2\">\n      <!-- 10 -->\n      <defs>\n       <path d=\"M 12.40625 8.296875 \nL 28.515625 8.296875 \nL 28.515625 63.921875 \nL 10.984375 60.40625 \nL 10.984375 69.390625 \nL 28.421875 72.90625 \nL 38.28125 72.90625 \nL 38.28125 8.296875 \nL 54.390625 8.296875 \nL 54.390625 0 \nL 12.40625 0 \nz\n\" id=\"DejaVuSans-49\"/>\n      </defs>\n      <g transform=\"translate(65.154688 295.274219)scale(0.1 -0.1)\">\n       <use xlink:href=\"#DejaVuSans-49\"/>\n       <use x=\"63.623047\" xlink:href=\"#DejaVuSans-48\"/>\n      </g>\n     </g>\n    </g>\n    <g id=\"xtick_3\">\n     <g id=\"line2d_3\">\n      <g>\n       <use style=\"stroke:#000000;stroke-width:0.8;\" x=\"113.985938\" xlink:href=\"#m0fa9c9d250\" y=\"280.675781\"/>\n      </g>\n     </g>\n     <g id=\"text_3\">\n      <!-- 20 -->\n      <defs>\n       <path d=\"M 19.1875 8.296875 \nL 53.609375 8.296875 \nL 53.609375 0 \nL 7.328125 0 \nL 7.328125 8.296875 \nQ 12.9375 14.109375 22.625 23.890625 \nQ 32.328125 33.6875 34.8125 36.53125 \nQ 39.546875 41.84375 41.421875 45.53125 \nQ 43.3125 49.21875 43.3125 52.78125 \nQ 43.3125 58.59375 39.234375 62.25 \nQ 35.15625 65.921875 28.609375 65.921875 \nQ 23.96875 65.921875 18.8125 64.3125 \nQ 13.671875 62.703125 7.8125 59.421875 \nL 7.8125 69.390625 \nQ 13.765625 71.78125 18.9375 73 \nQ 24.125 74.21875 28.421875 74.21875 \nQ 39.75 74.21875 46.484375 68.546875 \nQ 53.21875 62.890625 53.21875 53.421875 \nQ 53.21875 48.921875 51.53125 44.890625 \nQ 49.859375 40.875 45.40625 35.40625 \nQ 44.1875 33.984375 37.640625 27.21875 \nQ 31.109375 20.453125 19.1875 8.296875 \nz\n\" id=\"DejaVuSans-50\"/>\n      </defs>\n      <g transform=\"translate(107.623438 295.274219)scale(0.1 -0.1)\">\n       <use xlink:href=\"#DejaVuSans-50\"/>\n       <use x=\"63.623047\" xlink:href=\"#DejaVuSans-48\"/>\n      </g>\n     </g>\n    </g>\n    <g id=\"xtick_4\">\n     <g id=\"line2d_4\">\n      <g>\n       <use style=\"stroke:#000000;stroke-width:0.8;\" x=\"156.454688\" xlink:href=\"#m0fa9c9d250\" y=\"280.675781\"/>\n      </g>\n     </g>\n     <g id=\"text_4\">\n      <!-- 30 -->\n      <defs>\n       <path d=\"M 40.578125 39.3125 \nQ 47.65625 37.796875 51.625 33 \nQ 55.609375 28.21875 55.609375 21.1875 \nQ 55.609375 10.40625 48.1875 4.484375 \nQ 40.765625 -1.421875 27.09375 -1.421875 \nQ 22.515625 -1.421875 17.65625 -0.515625 \nQ 12.796875 0.390625 7.625 2.203125 \nL 7.625 11.71875 \nQ 11.71875 9.328125 16.59375 8.109375 \nQ 21.484375 6.890625 26.8125 6.890625 \nQ 36.078125 6.890625 40.9375 10.546875 \nQ 45.796875 14.203125 45.796875 21.1875 \nQ 45.796875 27.640625 41.28125 31.265625 \nQ 36.765625 34.90625 28.71875 34.90625 \nL 20.21875 34.90625 \nL 20.21875 43.015625 \nL 29.109375 43.015625 \nQ 36.375 43.015625 40.234375 45.921875 \nQ 44.09375 48.828125 44.09375 54.296875 \nQ 44.09375 59.90625 40.109375 62.90625 \nQ 36.140625 65.921875 28.71875 65.921875 \nQ 24.65625 65.921875 20.015625 65.03125 \nQ 15.375 64.15625 9.8125 62.3125 \nL 9.8125 71.09375 \nQ 15.4375 72.65625 20.34375 73.4375 \nQ 25.25 74.21875 29.59375 74.21875 \nQ 40.828125 74.21875 47.359375 69.109375 \nQ 53.90625 64.015625 53.90625 55.328125 \nQ 53.90625 49.265625 50.4375 45.09375 \nQ 46.96875 40.921875 40.578125 39.3125 \nz\n\" id=\"DejaVuSans-51\"/>\n      </defs>\n      <g transform=\"translate(150.092188 295.274219)scale(0.1 -0.1)\">\n       <use xlink:href=\"#DejaVuSans-51\"/>\n       <use x=\"63.623047\" xlink:href=\"#DejaVuSans-48\"/>\n      </g>\n     </g>\n    </g>\n    <g id=\"xtick_5\">\n     <g id=\"line2d_5\">\n      <g>\n       <use style=\"stroke:#000000;stroke-width:0.8;\" x=\"198.923438\" xlink:href=\"#m0fa9c9d250\" y=\"280.675781\"/>\n      </g>\n     </g>\n     <g id=\"text_5\">\n      <!-- 40 -->\n      <defs>\n       <path d=\"M 37.796875 64.3125 \nL 12.890625 25.390625 \nL 37.796875 25.390625 \nz\nM 35.203125 72.90625 \nL 47.609375 72.90625 \nL 47.609375 25.390625 \nL 58.015625 25.390625 \nL 58.015625 17.1875 \nL 47.609375 17.1875 \nL 47.609375 0 \nL 37.796875 0 \nL 37.796875 17.1875 \nL 4.890625 17.1875 \nL 4.890625 26.703125 \nz\n\" id=\"DejaVuSans-52\"/>\n      </defs>\n      <g transform=\"translate(192.560938 295.274219)scale(0.1 -0.1)\">\n       <use xlink:href=\"#DejaVuSans-52\"/>\n       <use x=\"63.623047\" xlink:href=\"#DejaVuSans-48\"/>\n      </g>\n     </g>\n    </g>\n    <g id=\"xtick_6\">\n     <g id=\"line2d_6\">\n      <g>\n       <use style=\"stroke:#000000;stroke-width:0.8;\" x=\"241.392188\" xlink:href=\"#m0fa9c9d250\" y=\"280.675781\"/>\n      </g>\n     </g>\n     <g id=\"text_6\">\n      <!-- 50 -->\n      <defs>\n       <path d=\"M 10.796875 72.90625 \nL 49.515625 72.90625 \nL 49.515625 64.59375 \nL 19.828125 64.59375 \nL 19.828125 46.734375 \nQ 21.96875 47.46875 24.109375 47.828125 \nQ 26.265625 48.1875 28.421875 48.1875 \nQ 40.625 48.1875 47.75 41.5 \nQ 54.890625 34.8125 54.890625 23.390625 \nQ 54.890625 11.625 47.5625 5.09375 \nQ 40.234375 -1.421875 26.90625 -1.421875 \nQ 22.3125 -1.421875 17.546875 -0.640625 \nQ 12.796875 0.140625 7.71875 1.703125 \nL 7.71875 11.625 \nQ 12.109375 9.234375 16.796875 8.0625 \nQ 21.484375 6.890625 26.703125 6.890625 \nQ 35.15625 6.890625 40.078125 11.328125 \nQ 45.015625 15.765625 45.015625 23.390625 \nQ 45.015625 31 40.078125 35.4375 \nQ 35.15625 39.890625 26.703125 39.890625 \nQ 22.75 39.890625 18.8125 39.015625 \nQ 14.890625 38.140625 10.796875 36.28125 \nz\n\" id=\"DejaVuSans-53\"/>\n      </defs>\n      <g transform=\"translate(235.029688 295.274219)scale(0.1 -0.1)\">\n       <use xlink:href=\"#DejaVuSans-53\"/>\n       <use x=\"63.623047\" xlink:href=\"#DejaVuSans-48\"/>\n      </g>\n     </g>\n    </g>\n    <g id=\"xtick_7\">\n     <g id=\"line2d_7\">\n      <g>\n       <use style=\"stroke:#000000;stroke-width:0.8;\" x=\"283.860938\" xlink:href=\"#m0fa9c9d250\" y=\"280.675781\"/>\n      </g>\n     </g>\n     <g id=\"text_7\">\n      <!-- 60 -->\n      <defs>\n       <path d=\"M 33.015625 40.375 \nQ 26.375 40.375 22.484375 35.828125 \nQ 18.609375 31.296875 18.609375 23.390625 \nQ 18.609375 15.53125 22.484375 10.953125 \nQ 26.375 6.390625 33.015625 6.390625 \nQ 39.65625 6.390625 43.53125 10.953125 \nQ 47.40625 15.53125 47.40625 23.390625 \nQ 47.40625 31.296875 43.53125 35.828125 \nQ 39.65625 40.375 33.015625 40.375 \nz\nM 52.59375 71.296875 \nL 52.59375 62.3125 \nQ 48.875 64.0625 45.09375 64.984375 \nQ 41.3125 65.921875 37.59375 65.921875 \nQ 27.828125 65.921875 22.671875 59.328125 \nQ 17.53125 52.734375 16.796875 39.40625 \nQ 19.671875 43.65625 24.015625 45.921875 \nQ 28.375 48.1875 33.59375 48.1875 \nQ 44.578125 48.1875 50.953125 41.515625 \nQ 57.328125 34.859375 57.328125 23.390625 \nQ 57.328125 12.15625 50.6875 5.359375 \nQ 44.046875 -1.421875 33.015625 -1.421875 \nQ 20.359375 -1.421875 13.671875 8.265625 \nQ 6.984375 17.96875 6.984375 36.375 \nQ 6.984375 53.65625 15.1875 63.9375 \nQ 23.390625 74.21875 37.203125 74.21875 \nQ 40.921875 74.21875 44.703125 73.484375 \nQ 48.484375 72.75 52.59375 71.296875 \nz\n\" id=\"DejaVuSans-54\"/>\n      </defs>\n      <g transform=\"translate(277.498438 295.274219)scale(0.1 -0.1)\">\n       <use xlink:href=\"#DejaVuSans-54\"/>\n       <use x=\"63.623047\" xlink:href=\"#DejaVuSans-48\"/>\n      </g>\n     </g>\n    </g>\n   </g>\n   <g id=\"matplotlib.axis_2\">\n    <g id=\"ytick_1\">\n     <g id=\"line2d_8\">\n      <defs>\n       <path d=\"M 0 0 \nL -3.5 0 \n\" id=\"mb357299e99\" style=\"stroke:#000000;stroke-width:0.8;\"/>\n      </defs>\n      <g>\n       <use style=\"stroke:#000000;stroke-width:0.8;\" x=\"26.925\" xlink:href=\"#mb357299e99\" y=\"10.999219\"/>\n      </g>\n     </g>\n     <g id=\"text_8\">\n      <!-- 0 -->\n      <g transform=\"translate(13.5625 14.798438)scale(0.1 -0.1)\">\n       <use xlink:href=\"#DejaVuSans-48\"/>\n      </g>\n     </g>\n    </g>\n    <g id=\"ytick_2\">\n     <g id=\"line2d_9\">\n      <g>\n       <use style=\"stroke:#000000;stroke-width:0.8;\" x=\"26.925\" xlink:href=\"#mb357299e99\" y=\"53.467969\"/>\n      </g>\n     </g>\n     <g id=\"text_9\">\n      <!-- 10 -->\n      <g transform=\"translate(7.2 57.267188)scale(0.1 -0.1)\">\n       <use xlink:href=\"#DejaVuSans-49\"/>\n       <use x=\"63.623047\" xlink:href=\"#DejaVuSans-48\"/>\n      </g>\n     </g>\n    </g>\n    <g id=\"ytick_3\">\n     <g id=\"line2d_10\">\n      <g>\n       <use style=\"stroke:#000000;stroke-width:0.8;\" x=\"26.925\" xlink:href=\"#mb357299e99\" y=\"95.936719\"/>\n      </g>\n     </g>\n     <g id=\"text_10\">\n      <!-- 20 -->\n      <g transform=\"translate(7.2 99.735938)scale(0.1 -0.1)\">\n       <use xlink:href=\"#DejaVuSans-50\"/>\n       <use x=\"63.623047\" xlink:href=\"#DejaVuSans-48\"/>\n      </g>\n     </g>\n    </g>\n    <g id=\"ytick_4\">\n     <g id=\"line2d_11\">\n      <g>\n       <use style=\"stroke:#000000;stroke-width:0.8;\" x=\"26.925\" xlink:href=\"#mb357299e99\" y=\"138.405469\"/>\n      </g>\n     </g>\n     <g id=\"text_11\">\n      <!-- 30 -->\n      <g transform=\"translate(7.2 142.204688)scale(0.1 -0.1)\">\n       <use xlink:href=\"#DejaVuSans-51\"/>\n       <use x=\"63.623047\" xlink:href=\"#DejaVuSans-48\"/>\n      </g>\n     </g>\n    </g>\n    <g id=\"ytick_5\">\n     <g id=\"line2d_12\">\n      <g>\n       <use style=\"stroke:#000000;stroke-width:0.8;\" x=\"26.925\" xlink:href=\"#mb357299e99\" y=\"180.874219\"/>\n      </g>\n     </g>\n     <g id=\"text_12\">\n      <!-- 40 -->\n      <g transform=\"translate(7.2 184.673438)scale(0.1 -0.1)\">\n       <use xlink:href=\"#DejaVuSans-52\"/>\n       <use x=\"63.623047\" xlink:href=\"#DejaVuSans-48\"/>\n      </g>\n     </g>\n    </g>\n    <g id=\"ytick_6\">\n     <g id=\"line2d_13\">\n      <g>\n       <use style=\"stroke:#000000;stroke-width:0.8;\" x=\"26.925\" xlink:href=\"#mb357299e99\" y=\"223.342969\"/>\n      </g>\n     </g>\n     <g id=\"text_13\">\n      <!-- 50 -->\n      <g transform=\"translate(7.2 227.142188)scale(0.1 -0.1)\">\n       <use xlink:href=\"#DejaVuSans-53\"/>\n       <use x=\"63.623047\" xlink:href=\"#DejaVuSans-48\"/>\n      </g>\n     </g>\n    </g>\n    <g id=\"ytick_7\">\n     <g id=\"line2d_14\">\n      <g>\n       <use style=\"stroke:#000000;stroke-width:0.8;\" x=\"26.925\" xlink:href=\"#mb357299e99\" y=\"265.811719\"/>\n      </g>\n     </g>\n     <g id=\"text_14\">\n      <!-- 60 -->\n      <g transform=\"translate(7.2 269.610938)scale(0.1 -0.1)\">\n       <use xlink:href=\"#DejaVuSans-54\"/>\n       <use x=\"63.623047\" xlink:href=\"#DejaVuSans-48\"/>\n      </g>\n     </g>\n    </g>\n   </g>\n   <g id=\"patch_3\">\n    <path d=\"M 26.925 280.675781 \nL 26.925 8.875781 \n\" style=\"fill:none;stroke:#000000;stroke-linecap:square;stroke-linejoin:miter;stroke-width:0.8;\"/>\n   </g>\n   <g id=\"patch_4\">\n    <path d=\"M 298.725 280.675781 \nL 298.725 8.875781 \n\" style=\"fill:none;stroke:#000000;stroke-linecap:square;stroke-linejoin:miter;stroke-width:0.8;\"/>\n   </g>\n   <g id=\"patch_5\">\n    <path d=\"M 26.925 280.675781 \nL 298.725 280.675781 \n\" style=\"fill:none;stroke:#000000;stroke-linecap:square;stroke-linejoin:miter;stroke-width:0.8;\"/>\n   </g>\n   <g id=\"patch_6\">\n    <path d=\"M 26.925 8.875781 \nL 298.725 8.875781 \n\" style=\"fill:none;stroke:#000000;stroke-linecap:square;stroke-linejoin:miter;stroke-width:0.8;\"/>\n   </g>\n  </g>\n </g>\n <defs>\n  <clipPath id=\"pc7886031e2\">\n   <rect height=\"271.8\" width=\"271.8\" x=\"26.925\" y=\"8.875781\"/>\n  </clipPath>\n </defs>\n</svg>\n"
          },
          "metadata": {
            "tags": [],
            "needs_background": "light"
          }
        }
      ]
    },
    {
      "cell_type": "code",
      "metadata": {
        "id": "Lcl9hho5BA54",
        "colab_type": "code",
        "colab": {
          "base_uri": "https://localhost:8080/",
          "height": 193
        },
        "outputId": "94cbcc14-baf2-46fa-8afb-a203910a151f"
      },
      "source": [
        "print(training_data)"
      ],
      "execution_count": null,
      "outputs": [
        {
          "output_type": "stream",
          "text": [
            "IOPub data rate exceeded.\n",
            "The notebook server will temporarily stop sending output\n",
            "to the client in order to avoid crashing it.\n",
            "To change this limit, set the config variable\n",
            "`--NotebookApp.iopub_data_rate_limit`.\n",
            "\n",
            "Current values:\n",
            "NotebookApp.iopub_data_rate_limit=1000000.0 (bytes/sec)\n",
            "NotebookApp.rate_limit_window=3.0 (secs)\n",
            "\n"
          ],
          "name": "stderr"
        }
      ]
    },
    {
      "cell_type": "code",
      "metadata": {
        "id": "YbovrAKrBKuk",
        "colab_type": "code",
        "colab": {}
      },
      "source": [
        "random.shuffle(training_data) #randomizar ordem das imagens"
      ],
      "execution_count": null,
      "outputs": []
    },
    {
      "cell_type": "code",
      "metadata": {
        "id": "JlhcS5ysBMmI",
        "colab_type": "code",
        "colab": {
          "base_uri": "https://localhost:8080/",
          "height": 263
        },
        "outputId": "8e693a9a-ac75-452b-8f3e-413a338f5a46"
      },
      "source": [
        "#crear duas listas. X: Imagens existentes. y: Marcas existentes\n",
        "\n",
        "X = []\n",
        "y = []\n",
        "\n",
        "for features, label in training_data:\n",
        "    X.append(features)\n",
        "    y.append(label)\n",
        "    \n",
        "#crear marcação de One-Hot-Encoding\n",
        "    \n",
        "ye=pd.DataFrame(y)\n",
        "    \n",
        "New=pd.DataFrame(columns=CATEGORIES)\n",
        "ye=pd.concat([ye, New],axis=1)\n",
        "\n",
        "ye.loc[ye['River'].isna()==True, ('River','Forest','AnnualCrop','HerbaceousVegetation','Highway','Industrial','Pasture','PermanentCrop','Residential','SeaLake')] = 0\n",
        "ye.loc[ye[0] ==0, 'River'] = 1\n",
        "ye.loc[ye[0] ==1, 'Forest'] = 1\n",
        "ye.loc[ye[0] ==2, 'AnnualCrop'] = 1\n",
        "ye.loc[ye[0] ==3, 'HerbaceousVegetation'] = 1\n",
        "ye.loc[ye[0] ==4, 'Highway'] = 1\n",
        "ye.loc[ye[0] ==5, 'Industrial'] = 1\n",
        "ye.loc[ye[0] ==6, 'Pasture'] = 1\n",
        "ye.loc[ye[0] ==7, 'PermanentCrop'] = 1\n",
        "ye.loc[ye[0] ==8, 'Residential'] = 1\n",
        "ye.loc[ye[0] ==9, 'SeaLake'] = 1\n",
        "\n",
        "ye=ye.drop(ye.columns[0], axis=1)                                    \n",
        "\n",
        "#mudar pelo tipo de dado float32 que permite numeros do conjunto real\n",
        "y=ye.astype('float32')      \n",
        "print(y)\n",
        "\n",
        "\n",
        "\n",
        "#conversão dos conjunto num numpy.array, necessario para executar a ANN    \n",
        "X = np.array(X)\n",
        "y = np.array(y)"
      ],
      "execution_count": null,
      "outputs": [
        {
          "output_type": "stream",
          "text": [
            "       River  Forest  AnnualCrop  ...  PermanentCrop  Residential  SeaLake\n",
            "0        0.0     0.0         0.0  ...            0.0          0.0      0.0\n",
            "1        0.0     0.0         0.0  ...            0.0          0.0      0.0\n",
            "2        0.0     0.0         0.0  ...            1.0          0.0      0.0\n",
            "3        1.0     0.0         0.0  ...            0.0          0.0      0.0\n",
            "4        0.0     0.0         0.0  ...            0.0          0.0      0.0\n",
            "...      ...     ...         ...  ...            ...          ...      ...\n",
            "26995    0.0     0.0         0.0  ...            0.0          0.0      1.0\n",
            "26996    0.0     0.0         0.0  ...            0.0          0.0      0.0\n",
            "26997    0.0     0.0         0.0  ...            0.0          0.0      0.0\n",
            "26998    0.0     0.0         0.0  ...            0.0          0.0      0.0\n",
            "26999    0.0     0.0         0.0  ...            0.0          0.0      1.0\n",
            "\n",
            "[27000 rows x 10 columns]\n"
          ],
          "name": "stdout"
        }
      ]
    },
    {
      "cell_type": "code",
      "metadata": {
        "id": "2yAYUEsOBTYo",
        "colab_type": "code",
        "colab": {
          "base_uri": "https://localhost:8080/",
          "height": 52
        },
        "outputId": "7a82bcdf-5f6b-4ce7-f99d-28dc7612d774"
      },
      "source": [
        "print(y.shape,X.shape)\n",
        "print(np.isnan(y).any()) #controlar, se existem NaN (valores non-númericos) dentro do conjunto"
      ],
      "execution_count": null,
      "outputs": [
        {
          "output_type": "stream",
          "text": [
            "(27000, 10) (27000, 64, 64, 3)\n",
            "False\n"
          ],
          "name": "stdout"
        }
      ]
    },
    {
      "cell_type": "code",
      "metadata": {
        "id": "T9ubJyEeBYL3",
        "colab_type": "code",
        "colab": {}
      },
      "source": [
        "X_train, X_test, y_train, y_test = train_test_split(X, y, test_size=0.15, random_state=196) #crear um conjuntos para treinar e testar"
      ],
      "execution_count": null,
      "outputs": []
    },
    {
      "cell_type": "code",
      "metadata": {
        "id": "M7ePJXyBBaV-",
        "colab_type": "code",
        "colab": {}
      },
      "source": [
        "#reservar os últimos 2500 imagens por validar durante o treinamento\n",
        "X_val = X_train[-2500:]\n",
        "y_val = y_train[-2500:]\n",
        "X_train = X_train[:-2500]\n",
        "y_train = y_train[:-2500]"
      ],
      "execution_count": null,
      "outputs": []
    },
    {
      "cell_type": "code",
      "metadata": {
        "id": "zHKSs1LfBbTh",
        "colab_type": "code",
        "colab": {
          "base_uri": "https://localhost:8080/",
          "height": 1000
        },
        "outputId": "fd98f412-8b6a-4628-89f2-5db89ba3ad98"
      },
      "source": [
        "print (X_train)"
      ],
      "execution_count": null,
      "outputs": [
        {
          "output_type": "stream",
          "text": [
            "[[[[114 111 107]\n",
            "   [114 111 106]\n",
            "   [112 106 101]\n",
            "   ...\n",
            "   [ 76  67  47]\n",
            "   [ 73  57  44]\n",
            "   [ 85  69  57]]\n",
            "\n",
            "  [[115 111 106]\n",
            "   [115 112 104]\n",
            "   [114 107  98]\n",
            "   ...\n",
            "   [ 76  67  47]\n",
            "   [ 71  58  42]\n",
            "   [ 85  69  56]]\n",
            "\n",
            "  [[102  98  87]\n",
            "   [105  99  88]\n",
            "   [ 88  79  66]\n",
            "   ...\n",
            "   [ 75  66  46]\n",
            "   [ 77  65  47]\n",
            "   [ 91  79  61]]\n",
            "\n",
            "  ...\n",
            "\n",
            "  [[ 98  87  79]\n",
            "   [ 98  88  78]\n",
            "   [ 81  72  62]\n",
            "   ...\n",
            "   [126 129 150]\n",
            "   [124 127 148]\n",
            "   [121 125 144]]\n",
            "\n",
            "  [[107  97  90]\n",
            "   [107  97  90]\n",
            "   [102  94  87]\n",
            "   ...\n",
            "   [119 120 140]\n",
            "   [124 125 145]\n",
            "   [124 125 145]]\n",
            "\n",
            "  [[109  99  92]\n",
            "   [107  99  92]\n",
            "   [115 106 102]\n",
            "   ...\n",
            "   [112 114 132]\n",
            "   [118 119 139]\n",
            "   [124 125 145]]]\n",
            "\n",
            "\n",
            " [[[123 116 119]\n",
            "   [125 118 115]\n",
            "   [ 92  88  70]\n",
            "   ...\n",
            "   [111 116 137]\n",
            "   [112 111 121]\n",
            "   [117 114 116]]\n",
            "\n",
            "  [[123 118 117]\n",
            "   [125 119 114]\n",
            "   [ 91  87  69]\n",
            "   ...\n",
            "   [115 117 135]\n",
            "   [112 111 120]\n",
            "   [117 114 116]]\n",
            "\n",
            "  [[124 118 111]\n",
            "   [123 119 108]\n",
            "   [107 102  87]\n",
            "   ...\n",
            "   [133 132 141]\n",
            "   [121 119 125]\n",
            "   [110 109 113]]\n",
            "\n",
            "  ...\n",
            "\n",
            "  [[143 144 148]\n",
            "   [145 144 148]\n",
            "   [140 136 142]\n",
            "   ...\n",
            "   [ 83  79  55]\n",
            "   [ 84  78  59]\n",
            "   [ 82  78  59]]\n",
            "\n",
            "  [[136 132 131]\n",
            "   [136 131 132]\n",
            "   [108  98 104]\n",
            "   ...\n",
            "   [ 81  76  51]\n",
            "   [ 78  71  46]\n",
            "   [ 75  68  43]]\n",
            "\n",
            "  [[128 123 120]\n",
            "   [130 122 122]\n",
            "   [105  94  97]\n",
            "   ...\n",
            "   [ 81  74  47]\n",
            "   [ 76  67  40]\n",
            "   [ 79  68  41]]]\n",
            "\n",
            "\n",
            " [[[ 96  93  65]\n",
            "   [ 96  93  65]\n",
            "   [ 95  91  66]\n",
            "   ...\n",
            "   [ 94  87  68]\n",
            "   [ 92  85  68]\n",
            "   [ 92  85  68]]\n",
            "\n",
            "  [[ 96  92  67]\n",
            "   [ 96  92  67]\n",
            "   [ 94  90  65]\n",
            "   ...\n",
            "   [ 92  86  67]\n",
            "   [ 92  85  68]\n",
            "   [ 92  85  68]]\n",
            "\n",
            "  [[ 95  93  69]\n",
            "   [ 95  93  69]\n",
            "   [ 94  92  68]\n",
            "   ...\n",
            "   [ 93  86  69]\n",
            "   [ 91  85  66]\n",
            "   [ 93  86  67]]\n",
            "\n",
            "  ...\n",
            "\n",
            "  [[103 109  68]\n",
            "   [104 111  68]\n",
            "   [103 107  65]\n",
            "   ...\n",
            "   [110 118  81]\n",
            "   [107 118  80]\n",
            "   [107 118  80]]\n",
            "\n",
            "  [[104 111  68]\n",
            "   [104 111  68]\n",
            "   [104 111  68]\n",
            "   ...\n",
            "   [108 119  81]\n",
            "   [110 118  81]\n",
            "   [110 118  81]]\n",
            "\n",
            "  [[105 112  67]\n",
            "   [105 112  67]\n",
            "   [106 112  71]\n",
            "   ...\n",
            "   [111 121  85]\n",
            "   [111 119  82]\n",
            "   [111 119  82]]]\n",
            "\n",
            "\n",
            " ...\n",
            "\n",
            "\n",
            " [[[ 86  83  75]\n",
            "   [ 86  83  75]\n",
            "   [ 84  82  72]\n",
            "   ...\n",
            "   [ 73  66  51]\n",
            "   [ 77  70  55]\n",
            "   [ 80  73  58]]\n",
            "\n",
            "  [[ 86  83  75]\n",
            "   [ 86  84  74]\n",
            "   [ 84  82  72]\n",
            "   ...\n",
            "   [ 73  66  51]\n",
            "   [ 77  70  55]\n",
            "   [ 80  73  56]]\n",
            "\n",
            "  [[ 86  84  74]\n",
            "   [ 86  84  74]\n",
            "   [ 84  83  73]\n",
            "   ...\n",
            "   [ 75  71  53]\n",
            "   [ 79  75  57]\n",
            "   [ 79  75  56]]\n",
            "\n",
            "  ...\n",
            "\n",
            "  [[ 81  73  60]\n",
            "   [ 79  73  60]\n",
            "   [ 79  73  60]\n",
            "   ...\n",
            "   [ 74  73  53]\n",
            "   [ 76  75  55]\n",
            "   [ 81  82  62]]\n",
            "\n",
            "  [[ 80  71  57]\n",
            "   [ 79  72  57]\n",
            "   [ 81  75  62]\n",
            "   ...\n",
            "   [ 80  76  57]\n",
            "   [ 81  77  58]\n",
            "   [ 84  83  62]]\n",
            "\n",
            "  [[ 74  65  51]\n",
            "   [ 73  66  51]\n",
            "   [ 76  68  55]\n",
            "   ...\n",
            "   [ 75  71  52]\n",
            "   [ 76  72  53]\n",
            "   [ 77  74  53]]]\n",
            "\n",
            "\n",
            " [[[ 73  62  34]\n",
            "   [ 74  62  34]\n",
            "   [ 73  57  34]\n",
            "   ...\n",
            "   [ 74  60  37]\n",
            "   [ 78  59  38]\n",
            "   [ 73  54  33]]\n",
            "\n",
            "  [[ 73  62  35]\n",
            "   [ 74  61  35]\n",
            "   [ 73  57  34]\n",
            "   ...\n",
            "   [ 74  60  37]\n",
            "   [ 76  59  38]\n",
            "   [ 71  54  33]]\n",
            "\n",
            "  [[ 81  67  44]\n",
            "   [ 81  67  44]\n",
            "   [ 79  65  42]\n",
            "   ...\n",
            "   [ 73  59  37]\n",
            "   [ 74  60  38]\n",
            "   [ 73  59  37]]\n",
            "\n",
            "  ...\n",
            "\n",
            "  [[ 70  55  36]\n",
            "   [ 71  56  37]\n",
            "   [ 74  59  40]\n",
            "   ...\n",
            "   [ 75  63  35]\n",
            "   [ 76  65  38]\n",
            "   [ 76  65  38]]\n",
            "\n",
            "  [[ 76  62  40]\n",
            "   [ 76  62  40]\n",
            "   [ 72  57  38]\n",
            "   ...\n",
            "   [ 75  63  35]\n",
            "   [ 76  63  37]\n",
            "   [ 74  61  35]]\n",
            "\n",
            "  [[ 76  62  40]\n",
            "   [ 76  62  40]\n",
            "   [ 76  61  42]\n",
            "   ...\n",
            "   [ 76  64  36]\n",
            "   [ 76  63  37]\n",
            "   [ 73  60  34]]]\n",
            "\n",
            "\n",
            " [[[125 125 119]\n",
            "   [123 124 120]\n",
            "   [133 136 140]\n",
            "   ...\n",
            "   [117 116 102]\n",
            "   [118 115 101]\n",
            "   [116 113  99]]\n",
            "\n",
            "  [[123 124 122]\n",
            "   [121 123 123]\n",
            "   [131 134 138]\n",
            "   ...\n",
            "   [119 116 101]\n",
            "   [118 115 100]\n",
            "   [116 113  98]]\n",
            "\n",
            "  [[119 120 124]\n",
            "   [117 120 124]\n",
            "   [130 134 139]\n",
            "   ...\n",
            "   [117 115  97]\n",
            "   [119 115  97]\n",
            "   [117 113  95]]\n",
            "\n",
            "  ...\n",
            "\n",
            "  [[178 207 234]\n",
            "   [178 207 234]\n",
            "   [202 226 254]\n",
            "   ...\n",
            "   [106 104 110]\n",
            "   [107 103 108]\n",
            "   [117 113 118]]\n",
            "\n",
            "  [[172 193 215]\n",
            "   [172 193 215]\n",
            "   [177 198 220]\n",
            "   ...\n",
            "   [125 124 133]\n",
            "   [120 118 124]\n",
            "   [115 114 118]]\n",
            "\n",
            "  [[154 171 190]\n",
            "   [154 171 190]\n",
            "   [146 163 182]\n",
            "   ...\n",
            "   [136 137 147]\n",
            "   [127 127 133]\n",
            "   [113 112 116]]]]\n"
          ],
          "name": "stdout"
        }
      ]
    },
    {
      "cell_type": "markdown",
      "metadata": {
        "id": "8zp5BqF2Boai",
        "colab_type": "text"
      },
      "source": [
        "##Contruindo o Modelo"
      ]
    },
    {
      "cell_type": "code",
      "metadata": {
        "id": "5_uEu-GTBjau",
        "colab_type": "code",
        "colab": {
          "base_uri": "https://localhost:8080/",
          "height": 914
        },
        "outputId": "3ebb1fec-ed95-4aca-93ce-bfc44eab4529"
      },
      "source": [
        "input_shape=[64, 64, 3] #forma dum imagen utilizada: 64pixel*64pixel*3cores\n",
        "\n",
        "model = Sequential() #modo de escrever a ANN\n",
        "\n",
        "model.add(Conv2D(28, (3, 3), padding='same',input_shape=input_shape)) \n",
        "model.add(Activation('relu')) \n",
        "model.add(Conv2D(28, (3, 3), padding='same')) \n",
        "model.add(Activation('relu')) \n",
        "model.add(MaxPool2D(2,2)) \n",
        "\n",
        "model.add(Conv2D(56, (3, 3), padding='same')) \n",
        "model.add(Activation('relu')) \n",
        "model.add(Conv2D(56, (3, 3), padding='same')) \n",
        "model.add(Activation('relu')) \n",
        "model.add(MaxPool2D(2,2))\n",
        "\n",
        "model.add(Conv2D(112, (3, 3), padding='same')) \n",
        "model.add(Activation('relu')) \n",
        "model.add(Conv2D(112, (3, 3), padding='same')) \n",
        "model.add(Activation('relu')) \n",
        "model.add(MaxPool2D(2,2)) \n",
        "\n",
        "model.add(Flatten()) \n",
        "model.add(Dense(784)) \n",
        "model.add(Activation('relu')) \n",
        "model.add(Dropout(0.6)) \n",
        "model.add(Dense(10)) \n",
        "\n",
        "model.add(Activation('sigmoid')) \n",
        "adam = optimizers.Adam(lr=0.001) \n",
        "model.compile(optimizer=adam, loss=losses.binary_crossentropy, metrics=['accuracy'])\n",
        "\n",
        "\n",
        "          \n",
        "print(model.summary())"
      ],
      "execution_count": null,
      "outputs": [
        {
          "output_type": "stream",
          "text": [
            "Model: \"sequential\"\n",
            "_________________________________________________________________\n",
            "Layer (type)                 Output Shape              Param #   \n",
            "=================================================================\n",
            "conv2d (Conv2D)              (None, 64, 64, 28)        784       \n",
            "_________________________________________________________________\n",
            "activation (Activation)      (None, 64, 64, 28)        0         \n",
            "_________________________________________________________________\n",
            "conv2d_1 (Conv2D)            (None, 64, 64, 28)        7084      \n",
            "_________________________________________________________________\n",
            "activation_1 (Activation)    (None, 64, 64, 28)        0         \n",
            "_________________________________________________________________\n",
            "max_pooling2d (MaxPooling2D) (None, 32, 32, 28)        0         \n",
            "_________________________________________________________________\n",
            "conv2d_2 (Conv2D)            (None, 32, 32, 56)        14168     \n",
            "_________________________________________________________________\n",
            "activation_2 (Activation)    (None, 32, 32, 56)        0         \n",
            "_________________________________________________________________\n",
            "conv2d_3 (Conv2D)            (None, 32, 32, 56)        28280     \n",
            "_________________________________________________________________\n",
            "activation_3 (Activation)    (None, 32, 32, 56)        0         \n",
            "_________________________________________________________________\n",
            "max_pooling2d_1 (MaxPooling2 (None, 16, 16, 56)        0         \n",
            "_________________________________________________________________\n",
            "conv2d_4 (Conv2D)            (None, 16, 16, 112)       56560     \n",
            "_________________________________________________________________\n",
            "activation_4 (Activation)    (None, 16, 16, 112)       0         \n",
            "_________________________________________________________________\n",
            "conv2d_5 (Conv2D)            (None, 16, 16, 112)       113008    \n",
            "_________________________________________________________________\n",
            "activation_5 (Activation)    (None, 16, 16, 112)       0         \n",
            "_________________________________________________________________\n",
            "max_pooling2d_2 (MaxPooling2 (None, 8, 8, 112)         0         \n",
            "_________________________________________________________________\n",
            "flatten (Flatten)            (None, 7168)              0         \n",
            "_________________________________________________________________\n",
            "dense (Dense)                (None, 784)               5620496   \n",
            "_________________________________________________________________\n",
            "activation_6 (Activation)    (None, 784)               0         \n",
            "_________________________________________________________________\n",
            "dropout (Dropout)            (None, 784)               0         \n",
            "_________________________________________________________________\n",
            "dense_1 (Dense)              (None, 10)                7850      \n",
            "_________________________________________________________________\n",
            "activation_7 (Activation)    (None, 10)                0         \n",
            "=================================================================\n",
            "Total params: 5,848,230\n",
            "Trainable params: 5,848,230\n",
            "Non-trainable params: 0\n",
            "_________________________________________________________________\n",
            "None\n"
          ],
          "name": "stdout"
        }
      ]
    },
    {
      "cell_type": "code",
      "metadata": {
        "id": "4_0I_bJgBsMO",
        "colab_type": "code",
        "colab": {
          "base_uri": "https://localhost:8080/",
          "height": 545
        },
        "outputId": "634e528c-cf46-49a2-8e71-0e542d1d1148"
      },
      "source": [
        "#Treinamento\n",
        "history = model.fit(X_train, y_train, epochs=15,\n",
        "                    validation_data=(X_val, y_val))"
      ],
      "execution_count": null,
      "outputs": [
        {
          "output_type": "stream",
          "text": [
            "Epoch 1/15\n",
            "640/640 [==============================] - 509s 795ms/step - loss: 0.2240 - accuracy: 0.5263 - val_loss: 0.1728 - val_accuracy: 0.6268\n",
            "Epoch 2/15\n",
            "640/640 [==============================] - 501s 783ms/step - loss: 0.1282 - accuracy: 0.7331 - val_loss: 0.1429 - val_accuracy: 0.7132\n",
            "Epoch 3/15\n",
            "640/640 [==============================] - 507s 792ms/step - loss: 0.1002 - accuracy: 0.8028 - val_loss: 0.0929 - val_accuracy: 0.8036\n",
            "Epoch 4/15\n",
            "640/640 [==============================] - 515s 805ms/step - loss: 0.0812 - accuracy: 0.8472 - val_loss: 0.0850 - val_accuracy: 0.8440\n",
            "Epoch 5/15\n",
            "640/640 [==============================] - 540s 844ms/step - loss: 0.0721 - accuracy: 0.8632 - val_loss: 0.0976 - val_accuracy: 0.8212\n",
            "Epoch 6/15\n",
            "640/640 [==============================] - 536s 837ms/step - loss: 0.0640 - accuracy: 0.8809 - val_loss: 0.0899 - val_accuracy: 0.8228\n",
            "Epoch 7/15\n",
            "640/640 [==============================] - 535s 836ms/step - loss: 0.0546 - accuracy: 0.9007 - val_loss: 0.0766 - val_accuracy: 0.8644\n",
            "Epoch 8/15\n",
            "640/640 [==============================] - 544s 850ms/step - loss: 0.0478 - accuracy: 0.9161 - val_loss: 0.0722 - val_accuracy: 0.8672\n",
            "Epoch 9/15\n",
            "640/640 [==============================] - 540s 844ms/step - loss: 0.0422 - accuracy: 0.9271 - val_loss: 0.0655 - val_accuracy: 0.8824\n",
            "Epoch 10/15\n",
            "640/640 [==============================] - 546s 854ms/step - loss: 0.0384 - accuracy: 0.9344 - val_loss: 0.0778 - val_accuracy: 0.8692\n",
            "Epoch 11/15\n",
            "640/640 [==============================] - 551s 861ms/step - loss: 0.0346 - accuracy: 0.9436 - val_loss: 0.0838 - val_accuracy: 0.8568\n",
            "Epoch 12/15\n",
            "640/640 [==============================] - 538s 841ms/step - loss: 0.0329 - accuracy: 0.9470 - val_loss: 0.0816 - val_accuracy: 0.8728\n",
            "Epoch 13/15\n",
            "640/640 [==============================] - 539s 843ms/step - loss: 0.0304 - accuracy: 0.9519 - val_loss: 0.0837 - val_accuracy: 0.8716\n",
            "Epoch 14/15\n",
            "640/640 [==============================] - 549s 858ms/step - loss: 0.0283 - accuracy: 0.9570 - val_loss: 0.1474 - val_accuracy: 0.7816\n",
            "Epoch 15/15\n",
            "640/640 [==============================] - 552s 862ms/step - loss: 0.0340 - accuracy: 0.9444 - val_loss: 0.1018 - val_accuracy: 0.8536\n"
          ],
          "name": "stdout"
        }
      ]
    },
    {
      "cell_type": "code",
      "metadata": {
        "id": "wEP7EKo6Byb6",
        "colab_type": "code",
        "colab": {
          "base_uri": "https://localhost:8080/",
          "height": 564
        },
        "outputId": "1f68e76e-e751-4f81-8dae-b2277703e765"
      },
      "source": [
        "# Curvas do Loss\n",
        "plt.figure(figsize=[8,6])\n",
        "plt.plot(history.history['loss'],'r',linewidth=3.0)\n",
        "plt.plot(history.history['val_loss'],'b',linewidth=3.0)\n",
        "plt.legend(['Training loss', 'Validation Loss'],fontsize=18)\n",
        "plt.xlabel('Epochs ',fontsize=16)\n",
        "plt.ylabel('Loss',fontsize=16)\n",
        "plt.title('Loss Curves',fontsize=16)\n"
      ],
      "execution_count": null,
      "outputs": [
        {
          "output_type": "execute_result",
          "data": {
            "text/plain": [
              "Text(0.5, 1.0, 'Loss Curves')"
            ]
          },
          "metadata": {
            "tags": []
          },
          "execution_count": 58
        },
        {
          "output_type": "display_data",
          "data": {
            "text/plain": [
              "<Figure size 576x432 with 1 Axes>"
            ],
            "image/svg+xml": "<?xml version=\"1.0\" encoding=\"utf-8\" standalone=\"no\"?>\n<!DOCTYPE svg PUBLIC \"-//W3C//DTD SVG 1.1//EN\"\n  \"http://www.w3.org/Graphics/SVG/1.1/DTD/svg11.dtd\">\n<!-- Created with matplotlib (https://matplotlib.org/) -->\n<svg height=\"394.880625pt\" version=\"1.1\" viewBox=\"0 0 515.913125 394.880625\" width=\"515.913125pt\" xmlns=\"http://www.w3.org/2000/svg\" xmlns:xlink=\"http://www.w3.org/1999/xlink\">\n <defs>\n  <style type=\"text/css\">\n*{stroke-linecap:butt;stroke-linejoin:round;}\n  </style>\n </defs>\n <g id=\"figure_1\">\n  <g id=\"patch_1\">\n   <path d=\"M 0 394.880625 \nL 515.913125 394.880625 \nL 515.913125 0 \nL 0 0 \nz\n\" style=\"fill:none;\"/>\n  </g>\n  <g id=\"axes_1\">\n   <g id=\"patch_2\">\n    <path d=\"M 62.313125 351.5175 \nL 508.713125 351.5175 \nL 508.713125 25.3575 \nL 62.313125 25.3575 \nz\n\" style=\"fill:#ffffff;\"/>\n   </g>\n   <g id=\"matplotlib.axis_1\">\n    <g id=\"xtick_1\">\n     <g id=\"line2d_1\">\n      <defs>\n       <path d=\"M 0 0 \nL 0 3.5 \n\" id=\"ma9c58f57fc\" style=\"stroke:#000000;stroke-width:0.8;\"/>\n      </defs>\n      <g>\n       <use style=\"stroke:#000000;stroke-width:0.8;\" x=\"82.604034\" xlink:href=\"#ma9c58f57fc\" y=\"351.5175\"/>\n      </g>\n     </g>\n     <g id=\"text_1\">\n      <!-- 0 -->\n      <defs>\n       <path d=\"M 31.78125 66.40625 \nQ 24.171875 66.40625 20.328125 58.90625 \nQ 16.5 51.421875 16.5 36.375 \nQ 16.5 21.390625 20.328125 13.890625 \nQ 24.171875 6.390625 31.78125 6.390625 \nQ 39.453125 6.390625 43.28125 13.890625 \nQ 47.125 21.390625 47.125 36.375 \nQ 47.125 51.421875 43.28125 58.90625 \nQ 39.453125 66.40625 31.78125 66.40625 \nz\nM 31.78125 74.21875 \nQ 44.046875 74.21875 50.515625 64.515625 \nQ 56.984375 54.828125 56.984375 36.375 \nQ 56.984375 17.96875 50.515625 8.265625 \nQ 44.046875 -1.421875 31.78125 -1.421875 \nQ 19.53125 -1.421875 13.0625 8.265625 \nQ 6.59375 17.96875 6.59375 36.375 \nQ 6.59375 54.828125 13.0625 64.515625 \nQ 19.53125 74.21875 31.78125 74.21875 \nz\n\" id=\"DejaVuSans-48\"/>\n      </defs>\n      <g transform=\"translate(79.422784 366.115938)scale(0.1 -0.1)\">\n       <use xlink:href=\"#DejaVuSans-48\"/>\n      </g>\n     </g>\n    </g>\n    <g id=\"xtick_2\">\n     <g id=\"line2d_2\">\n      <g>\n       <use style=\"stroke:#000000;stroke-width:0.8;\" x=\"140.57806\" xlink:href=\"#ma9c58f57fc\" y=\"351.5175\"/>\n      </g>\n     </g>\n     <g id=\"text_2\">\n      <!-- 2 -->\n      <defs>\n       <path d=\"M 19.1875 8.296875 \nL 53.609375 8.296875 \nL 53.609375 0 \nL 7.328125 0 \nL 7.328125 8.296875 \nQ 12.9375 14.109375 22.625 23.890625 \nQ 32.328125 33.6875 34.8125 36.53125 \nQ 39.546875 41.84375 41.421875 45.53125 \nQ 43.3125 49.21875 43.3125 52.78125 \nQ 43.3125 58.59375 39.234375 62.25 \nQ 35.15625 65.921875 28.609375 65.921875 \nQ 23.96875 65.921875 18.8125 64.3125 \nQ 13.671875 62.703125 7.8125 59.421875 \nL 7.8125 69.390625 \nQ 13.765625 71.78125 18.9375 73 \nQ 24.125 74.21875 28.421875 74.21875 \nQ 39.75 74.21875 46.484375 68.546875 \nQ 53.21875 62.890625 53.21875 53.421875 \nQ 53.21875 48.921875 51.53125 44.890625 \nQ 49.859375 40.875 45.40625 35.40625 \nQ 44.1875 33.984375 37.640625 27.21875 \nQ 31.109375 20.453125 19.1875 8.296875 \nz\n\" id=\"DejaVuSans-50\"/>\n      </defs>\n      <g transform=\"translate(137.39681 366.115938)scale(0.1 -0.1)\">\n       <use xlink:href=\"#DejaVuSans-50\"/>\n      </g>\n     </g>\n    </g>\n    <g id=\"xtick_3\">\n     <g id=\"line2d_3\">\n      <g>\n       <use style=\"stroke:#000000;stroke-width:0.8;\" x=\"198.552086\" xlink:href=\"#ma9c58f57fc\" y=\"351.5175\"/>\n      </g>\n     </g>\n     <g id=\"text_3\">\n      <!-- 4 -->\n      <defs>\n       <path d=\"M 37.796875 64.3125 \nL 12.890625 25.390625 \nL 37.796875 25.390625 \nz\nM 35.203125 72.90625 \nL 47.609375 72.90625 \nL 47.609375 25.390625 \nL 58.015625 25.390625 \nL 58.015625 17.1875 \nL 47.609375 17.1875 \nL 47.609375 0 \nL 37.796875 0 \nL 37.796875 17.1875 \nL 4.890625 17.1875 \nL 4.890625 26.703125 \nz\n\" id=\"DejaVuSans-52\"/>\n      </defs>\n      <g transform=\"translate(195.370836 366.115938)scale(0.1 -0.1)\">\n       <use xlink:href=\"#DejaVuSans-52\"/>\n      </g>\n     </g>\n    </g>\n    <g id=\"xtick_4\">\n     <g id=\"line2d_4\">\n      <g>\n       <use style=\"stroke:#000000;stroke-width:0.8;\" x=\"256.526112\" xlink:href=\"#ma9c58f57fc\" y=\"351.5175\"/>\n      </g>\n     </g>\n     <g id=\"text_4\">\n      <!-- 6 -->\n      <defs>\n       <path d=\"M 33.015625 40.375 \nQ 26.375 40.375 22.484375 35.828125 \nQ 18.609375 31.296875 18.609375 23.390625 \nQ 18.609375 15.53125 22.484375 10.953125 \nQ 26.375 6.390625 33.015625 6.390625 \nQ 39.65625 6.390625 43.53125 10.953125 \nQ 47.40625 15.53125 47.40625 23.390625 \nQ 47.40625 31.296875 43.53125 35.828125 \nQ 39.65625 40.375 33.015625 40.375 \nz\nM 52.59375 71.296875 \nL 52.59375 62.3125 \nQ 48.875 64.0625 45.09375 64.984375 \nQ 41.3125 65.921875 37.59375 65.921875 \nQ 27.828125 65.921875 22.671875 59.328125 \nQ 17.53125 52.734375 16.796875 39.40625 \nQ 19.671875 43.65625 24.015625 45.921875 \nQ 28.375 48.1875 33.59375 48.1875 \nQ 44.578125 48.1875 50.953125 41.515625 \nQ 57.328125 34.859375 57.328125 23.390625 \nQ 57.328125 12.15625 50.6875 5.359375 \nQ 44.046875 -1.421875 33.015625 -1.421875 \nQ 20.359375 -1.421875 13.671875 8.265625 \nQ 6.984375 17.96875 6.984375 36.375 \nQ 6.984375 53.65625 15.1875 63.9375 \nQ 23.390625 74.21875 37.203125 74.21875 \nQ 40.921875 74.21875 44.703125 73.484375 \nQ 48.484375 72.75 52.59375 71.296875 \nz\n\" id=\"DejaVuSans-54\"/>\n      </defs>\n      <g transform=\"translate(253.344862 366.115938)scale(0.1 -0.1)\">\n       <use xlink:href=\"#DejaVuSans-54\"/>\n      </g>\n     </g>\n    </g>\n    <g id=\"xtick_5\">\n     <g id=\"line2d_5\">\n      <g>\n       <use style=\"stroke:#000000;stroke-width:0.8;\" x=\"314.500138\" xlink:href=\"#ma9c58f57fc\" y=\"351.5175\"/>\n      </g>\n     </g>\n     <g id=\"text_5\">\n      <!-- 8 -->\n      <defs>\n       <path d=\"M 31.78125 34.625 \nQ 24.75 34.625 20.71875 30.859375 \nQ 16.703125 27.09375 16.703125 20.515625 \nQ 16.703125 13.921875 20.71875 10.15625 \nQ 24.75 6.390625 31.78125 6.390625 \nQ 38.8125 6.390625 42.859375 10.171875 \nQ 46.921875 13.96875 46.921875 20.515625 \nQ 46.921875 27.09375 42.890625 30.859375 \nQ 38.875 34.625 31.78125 34.625 \nz\nM 21.921875 38.8125 \nQ 15.578125 40.375 12.03125 44.71875 \nQ 8.5 49.078125 8.5 55.328125 \nQ 8.5 64.0625 14.71875 69.140625 \nQ 20.953125 74.21875 31.78125 74.21875 \nQ 42.671875 74.21875 48.875 69.140625 \nQ 55.078125 64.0625 55.078125 55.328125 \nQ 55.078125 49.078125 51.53125 44.71875 \nQ 48 40.375 41.703125 38.8125 \nQ 48.828125 37.15625 52.796875 32.3125 \nQ 56.78125 27.484375 56.78125 20.515625 \nQ 56.78125 9.90625 50.3125 4.234375 \nQ 43.84375 -1.421875 31.78125 -1.421875 \nQ 19.734375 -1.421875 13.25 4.234375 \nQ 6.78125 9.90625 6.78125 20.515625 \nQ 6.78125 27.484375 10.78125 32.3125 \nQ 14.796875 37.15625 21.921875 38.8125 \nz\nM 18.3125 54.390625 \nQ 18.3125 48.734375 21.84375 45.5625 \nQ 25.390625 42.390625 31.78125 42.390625 \nQ 38.140625 42.390625 41.71875 45.5625 \nQ 45.3125 48.734375 45.3125 54.390625 \nQ 45.3125 60.0625 41.71875 63.234375 \nQ 38.140625 66.40625 31.78125 66.40625 \nQ 25.390625 66.40625 21.84375 63.234375 \nQ 18.3125 60.0625 18.3125 54.390625 \nz\n\" id=\"DejaVuSans-56\"/>\n      </defs>\n      <g transform=\"translate(311.318888 366.115938)scale(0.1 -0.1)\">\n       <use xlink:href=\"#DejaVuSans-56\"/>\n      </g>\n     </g>\n    </g>\n    <g id=\"xtick_6\">\n     <g id=\"line2d_6\">\n      <g>\n       <use style=\"stroke:#000000;stroke-width:0.8;\" x=\"372.474164\" xlink:href=\"#ma9c58f57fc\" y=\"351.5175\"/>\n      </g>\n     </g>\n     <g id=\"text_6\">\n      <!-- 10 -->\n      <defs>\n       <path d=\"M 12.40625 8.296875 \nL 28.515625 8.296875 \nL 28.515625 63.921875 \nL 10.984375 60.40625 \nL 10.984375 69.390625 \nL 28.421875 72.90625 \nL 38.28125 72.90625 \nL 38.28125 8.296875 \nL 54.390625 8.296875 \nL 54.390625 0 \nL 12.40625 0 \nz\n\" id=\"DejaVuSans-49\"/>\n      </defs>\n      <g transform=\"translate(366.111664 366.115938)scale(0.1 -0.1)\">\n       <use xlink:href=\"#DejaVuSans-49\"/>\n       <use x=\"63.623047\" xlink:href=\"#DejaVuSans-48\"/>\n      </g>\n     </g>\n    </g>\n    <g id=\"xtick_7\">\n     <g id=\"line2d_7\">\n      <g>\n       <use style=\"stroke:#000000;stroke-width:0.8;\" x=\"430.44819\" xlink:href=\"#ma9c58f57fc\" y=\"351.5175\"/>\n      </g>\n     </g>\n     <g id=\"text_7\">\n      <!-- 12 -->\n      <g transform=\"translate(424.08569 366.115938)scale(0.1 -0.1)\">\n       <use xlink:href=\"#DejaVuSans-49\"/>\n       <use x=\"63.623047\" xlink:href=\"#DejaVuSans-50\"/>\n      </g>\n     </g>\n    </g>\n    <g id=\"xtick_8\">\n     <g id=\"line2d_8\">\n      <g>\n       <use style=\"stroke:#000000;stroke-width:0.8;\" x=\"488.422216\" xlink:href=\"#ma9c58f57fc\" y=\"351.5175\"/>\n      </g>\n     </g>\n     <g id=\"text_8\">\n      <!-- 14 -->\n      <g transform=\"translate(482.059716 366.115938)scale(0.1 -0.1)\">\n       <use xlink:href=\"#DejaVuSans-49\"/>\n       <use x=\"63.623047\" xlink:href=\"#DejaVuSans-52\"/>\n      </g>\n     </g>\n    </g>\n    <g id=\"text_9\">\n     <!-- Epochs  -->\n     <defs>\n      <path d=\"M 9.8125 72.90625 \nL 55.90625 72.90625 \nL 55.90625 64.59375 \nL 19.671875 64.59375 \nL 19.671875 43.015625 \nL 54.390625 43.015625 \nL 54.390625 34.71875 \nL 19.671875 34.71875 \nL 19.671875 8.296875 \nL 56.78125 8.296875 \nL 56.78125 0 \nL 9.8125 0 \nz\n\" id=\"DejaVuSans-69\"/>\n      <path d=\"M 18.109375 8.203125 \nL 18.109375 -20.796875 \nL 9.078125 -20.796875 \nL 9.078125 54.6875 \nL 18.109375 54.6875 \nL 18.109375 46.390625 \nQ 20.953125 51.265625 25.265625 53.625 \nQ 29.59375 56 35.59375 56 \nQ 45.5625 56 51.78125 48.09375 \nQ 58.015625 40.1875 58.015625 27.296875 \nQ 58.015625 14.40625 51.78125 6.484375 \nQ 45.5625 -1.421875 35.59375 -1.421875 \nQ 29.59375 -1.421875 25.265625 0.953125 \nQ 20.953125 3.328125 18.109375 8.203125 \nz\nM 48.6875 27.296875 \nQ 48.6875 37.203125 44.609375 42.84375 \nQ 40.53125 48.484375 33.40625 48.484375 \nQ 26.265625 48.484375 22.1875 42.84375 \nQ 18.109375 37.203125 18.109375 27.296875 \nQ 18.109375 17.390625 22.1875 11.75 \nQ 26.265625 6.109375 33.40625 6.109375 \nQ 40.53125 6.109375 44.609375 11.75 \nQ 48.6875 17.390625 48.6875 27.296875 \nz\n\" id=\"DejaVuSans-112\"/>\n      <path d=\"M 30.609375 48.390625 \nQ 23.390625 48.390625 19.1875 42.75 \nQ 14.984375 37.109375 14.984375 27.296875 \nQ 14.984375 17.484375 19.15625 11.84375 \nQ 23.34375 6.203125 30.609375 6.203125 \nQ 37.796875 6.203125 41.984375 11.859375 \nQ 46.1875 17.53125 46.1875 27.296875 \nQ 46.1875 37.015625 41.984375 42.703125 \nQ 37.796875 48.390625 30.609375 48.390625 \nz\nM 30.609375 56 \nQ 42.328125 56 49.015625 48.375 \nQ 55.71875 40.765625 55.71875 27.296875 \nQ 55.71875 13.875 49.015625 6.21875 \nQ 42.328125 -1.421875 30.609375 -1.421875 \nQ 18.84375 -1.421875 12.171875 6.21875 \nQ 5.515625 13.875 5.515625 27.296875 \nQ 5.515625 40.765625 12.171875 48.375 \nQ 18.84375 56 30.609375 56 \nz\n\" id=\"DejaVuSans-111\"/>\n      <path d=\"M 48.78125 52.59375 \nL 48.78125 44.1875 \nQ 44.96875 46.296875 41.140625 47.34375 \nQ 37.3125 48.390625 33.40625 48.390625 \nQ 24.65625 48.390625 19.8125 42.84375 \nQ 14.984375 37.3125 14.984375 27.296875 \nQ 14.984375 17.28125 19.8125 11.734375 \nQ 24.65625 6.203125 33.40625 6.203125 \nQ 37.3125 6.203125 41.140625 7.25 \nQ 44.96875 8.296875 48.78125 10.40625 \nL 48.78125 2.09375 \nQ 45.015625 0.34375 40.984375 -0.53125 \nQ 36.96875 -1.421875 32.421875 -1.421875 \nQ 20.0625 -1.421875 12.78125 6.34375 \nQ 5.515625 14.109375 5.515625 27.296875 \nQ 5.515625 40.671875 12.859375 48.328125 \nQ 20.21875 56 33.015625 56 \nQ 37.15625 56 41.109375 55.140625 \nQ 45.0625 54.296875 48.78125 52.59375 \nz\n\" id=\"DejaVuSans-99\"/>\n      <path d=\"M 54.890625 33.015625 \nL 54.890625 0 \nL 45.90625 0 \nL 45.90625 32.71875 \nQ 45.90625 40.484375 42.875 44.328125 \nQ 39.84375 48.1875 33.796875 48.1875 \nQ 26.515625 48.1875 22.3125 43.546875 \nQ 18.109375 38.921875 18.109375 30.90625 \nL 18.109375 0 \nL 9.078125 0 \nL 9.078125 75.984375 \nL 18.109375 75.984375 \nL 18.109375 46.1875 \nQ 21.34375 51.125 25.703125 53.5625 \nQ 30.078125 56 35.796875 56 \nQ 45.21875 56 50.046875 50.171875 \nQ 54.890625 44.34375 54.890625 33.015625 \nz\n\" id=\"DejaVuSans-104\"/>\n      <path d=\"M 44.28125 53.078125 \nL 44.28125 44.578125 \nQ 40.484375 46.53125 36.375 47.5 \nQ 32.28125 48.484375 27.875 48.484375 \nQ 21.1875 48.484375 17.84375 46.4375 \nQ 14.5 44.390625 14.5 40.28125 \nQ 14.5 37.15625 16.890625 35.375 \nQ 19.28125 33.59375 26.515625 31.984375 \nL 29.59375 31.296875 \nQ 39.15625 29.25 43.1875 25.515625 \nQ 47.21875 21.78125 47.21875 15.09375 \nQ 47.21875 7.46875 41.1875 3.015625 \nQ 35.15625 -1.421875 24.609375 -1.421875 \nQ 20.21875 -1.421875 15.453125 -0.5625 \nQ 10.6875 0.296875 5.421875 2 \nL 5.421875 11.28125 \nQ 10.40625 8.6875 15.234375 7.390625 \nQ 20.0625 6.109375 24.8125 6.109375 \nQ 31.15625 6.109375 34.5625 8.28125 \nQ 37.984375 10.453125 37.984375 14.40625 \nQ 37.984375 18.0625 35.515625 20.015625 \nQ 33.0625 21.96875 24.703125 23.78125 \nL 21.578125 24.515625 \nQ 13.234375 26.265625 9.515625 29.90625 \nQ 5.8125 33.546875 5.8125 39.890625 \nQ 5.8125 47.609375 11.28125 51.796875 \nQ 16.75 56 26.8125 56 \nQ 31.78125 56 36.171875 55.265625 \nQ 40.578125 54.546875 44.28125 53.078125 \nz\n\" id=\"DejaVuSans-115\"/>\n      <path id=\"DejaVuSans-32\"/>\n     </defs>\n     <g transform=\"translate(254.305625 384.353125)scale(0.16 -0.16)\">\n      <use xlink:href=\"#DejaVuSans-69\"/>\n      <use x=\"63.183594\" xlink:href=\"#DejaVuSans-112\"/>\n      <use x=\"126.660156\" xlink:href=\"#DejaVuSans-111\"/>\n      <use x=\"187.841797\" xlink:href=\"#DejaVuSans-99\"/>\n      <use x=\"242.822266\" xlink:href=\"#DejaVuSans-104\"/>\n      <use x=\"306.201172\" xlink:href=\"#DejaVuSans-115\"/>\n      <use x=\"358.300781\" xlink:href=\"#DejaVuSans-32\"/>\n     </g>\n    </g>\n   </g>\n   <g id=\"matplotlib.axis_2\">\n    <g id=\"ytick_1\">\n     <g id=\"line2d_9\">\n      <defs>\n       <path d=\"M 0 0 \nL -3.5 0 \n\" id=\"ma60752c391\" style=\"stroke:#000000;stroke-width:0.8;\"/>\n      </defs>\n      <g>\n       <use style=\"stroke:#000000;stroke-width:0.8;\" x=\"62.313125\" xlink:href=\"#ma60752c391\" y=\"341.641672\"/>\n      </g>\n     </g>\n     <g id=\"text_10\">\n      <!-- 0.025 -->\n      <defs>\n       <path d=\"M 10.6875 12.40625 \nL 21 12.40625 \nL 21 0 \nL 10.6875 0 \nz\n\" id=\"DejaVuSans-46\"/>\n       <path d=\"M 10.796875 72.90625 \nL 49.515625 72.90625 \nL 49.515625 64.59375 \nL 19.828125 64.59375 \nL 19.828125 46.734375 \nQ 21.96875 47.46875 24.109375 47.828125 \nQ 26.265625 48.1875 28.421875 48.1875 \nQ 40.625 48.1875 47.75 41.5 \nQ 54.890625 34.8125 54.890625 23.390625 \nQ 54.890625 11.625 47.5625 5.09375 \nQ 40.234375 -1.421875 26.90625 -1.421875 \nQ 22.3125 -1.421875 17.546875 -0.640625 \nQ 12.796875 0.140625 7.71875 1.703125 \nL 7.71875 11.625 \nQ 12.109375 9.234375 16.796875 8.0625 \nQ 21.484375 6.890625 26.703125 6.890625 \nQ 35.15625 6.890625 40.078125 11.328125 \nQ 45.015625 15.765625 45.015625 23.390625 \nQ 45.015625 31 40.078125 35.4375 \nQ 35.15625 39.890625 26.703125 39.890625 \nQ 22.75 39.890625 18.8125 39.015625 \nQ 14.890625 38.140625 10.796875 36.28125 \nz\n\" id=\"DejaVuSans-53\"/>\n      </defs>\n      <g transform=\"translate(26.685 345.440891)scale(0.1 -0.1)\">\n       <use xlink:href=\"#DejaVuSans-48\"/>\n       <use x=\"63.623047\" xlink:href=\"#DejaVuSans-46\"/>\n       <use x=\"95.410156\" xlink:href=\"#DejaVuSans-48\"/>\n       <use x=\"159.033203\" xlink:href=\"#DejaVuSans-50\"/>\n       <use x=\"222.65625\" xlink:href=\"#DejaVuSans-53\"/>\n      </g>\n     </g>\n    </g>\n    <g id=\"ytick_2\">\n     <g id=\"line2d_10\">\n      <g>\n       <use style=\"stroke:#000000;stroke-width:0.8;\" x=\"62.313125\" xlink:href=\"#ma60752c391\" y=\"303.776664\"/>\n      </g>\n     </g>\n     <g id=\"text_11\">\n      <!-- 0.050 -->\n      <g transform=\"translate(26.685 307.575883)scale(0.1 -0.1)\">\n       <use xlink:href=\"#DejaVuSans-48\"/>\n       <use x=\"63.623047\" xlink:href=\"#DejaVuSans-46\"/>\n       <use x=\"95.410156\" xlink:href=\"#DejaVuSans-48\"/>\n       <use x=\"159.033203\" xlink:href=\"#DejaVuSans-53\"/>\n       <use x=\"222.65625\" xlink:href=\"#DejaVuSans-48\"/>\n      </g>\n     </g>\n    </g>\n    <g id=\"ytick_3\">\n     <g id=\"line2d_11\">\n      <g>\n       <use style=\"stroke:#000000;stroke-width:0.8;\" x=\"62.313125\" xlink:href=\"#ma60752c391\" y=\"265.911655\"/>\n      </g>\n     </g>\n     <g id=\"text_12\">\n      <!-- 0.075 -->\n      <defs>\n       <path d=\"M 8.203125 72.90625 \nL 55.078125 72.90625 \nL 55.078125 68.703125 \nL 28.609375 0 \nL 18.3125 0 \nL 43.21875 64.59375 \nL 8.203125 64.59375 \nz\n\" id=\"DejaVuSans-55\"/>\n      </defs>\n      <g transform=\"translate(26.685 269.710874)scale(0.1 -0.1)\">\n       <use xlink:href=\"#DejaVuSans-48\"/>\n       <use x=\"63.623047\" xlink:href=\"#DejaVuSans-46\"/>\n       <use x=\"95.410156\" xlink:href=\"#DejaVuSans-48\"/>\n       <use x=\"159.033203\" xlink:href=\"#DejaVuSans-55\"/>\n       <use x=\"222.65625\" xlink:href=\"#DejaVuSans-53\"/>\n      </g>\n     </g>\n    </g>\n    <g id=\"ytick_4\">\n     <g id=\"line2d_12\">\n      <g>\n       <use style=\"stroke:#000000;stroke-width:0.8;\" x=\"62.313125\" xlink:href=\"#ma60752c391\" y=\"228.046647\"/>\n      </g>\n     </g>\n     <g id=\"text_13\">\n      <!-- 0.100 -->\n      <g transform=\"translate(26.685 231.845866)scale(0.1 -0.1)\">\n       <use xlink:href=\"#DejaVuSans-48\"/>\n       <use x=\"63.623047\" xlink:href=\"#DejaVuSans-46\"/>\n       <use x=\"95.410156\" xlink:href=\"#DejaVuSans-49\"/>\n       <use x=\"159.033203\" xlink:href=\"#DejaVuSans-48\"/>\n       <use x=\"222.65625\" xlink:href=\"#DejaVuSans-48\"/>\n      </g>\n     </g>\n    </g>\n    <g id=\"ytick_5\">\n     <g id=\"line2d_13\">\n      <g>\n       <use style=\"stroke:#000000;stroke-width:0.8;\" x=\"62.313125\" xlink:href=\"#ma60752c391\" y=\"190.181639\"/>\n      </g>\n     </g>\n     <g id=\"text_14\">\n      <!-- 0.125 -->\n      <g transform=\"translate(26.685 193.980858)scale(0.1 -0.1)\">\n       <use xlink:href=\"#DejaVuSans-48\"/>\n       <use x=\"63.623047\" xlink:href=\"#DejaVuSans-46\"/>\n       <use x=\"95.410156\" xlink:href=\"#DejaVuSans-49\"/>\n       <use x=\"159.033203\" xlink:href=\"#DejaVuSans-50\"/>\n       <use x=\"222.65625\" xlink:href=\"#DejaVuSans-53\"/>\n      </g>\n     </g>\n    </g>\n    <g id=\"ytick_6\">\n     <g id=\"line2d_14\">\n      <g>\n       <use style=\"stroke:#000000;stroke-width:0.8;\" x=\"62.313125\" xlink:href=\"#ma60752c391\" y=\"152.316631\"/>\n      </g>\n     </g>\n     <g id=\"text_15\">\n      <!-- 0.150 -->\n      <g transform=\"translate(26.685 156.115849)scale(0.1 -0.1)\">\n       <use xlink:href=\"#DejaVuSans-48\"/>\n       <use x=\"63.623047\" xlink:href=\"#DejaVuSans-46\"/>\n       <use x=\"95.410156\" xlink:href=\"#DejaVuSans-49\"/>\n       <use x=\"159.033203\" xlink:href=\"#DejaVuSans-53\"/>\n       <use x=\"222.65625\" xlink:href=\"#DejaVuSans-48\"/>\n      </g>\n     </g>\n    </g>\n    <g id=\"ytick_7\">\n     <g id=\"line2d_15\">\n      <g>\n       <use style=\"stroke:#000000;stroke-width:0.8;\" x=\"62.313125\" xlink:href=\"#ma60752c391\" y=\"114.451622\"/>\n      </g>\n     </g>\n     <g id=\"text_16\">\n      <!-- 0.175 -->\n      <g transform=\"translate(26.685 118.250841)scale(0.1 -0.1)\">\n       <use xlink:href=\"#DejaVuSans-48\"/>\n       <use x=\"63.623047\" xlink:href=\"#DejaVuSans-46\"/>\n       <use x=\"95.410156\" xlink:href=\"#DejaVuSans-49\"/>\n       <use x=\"159.033203\" xlink:href=\"#DejaVuSans-55\"/>\n       <use x=\"222.65625\" xlink:href=\"#DejaVuSans-53\"/>\n      </g>\n     </g>\n    </g>\n    <g id=\"ytick_8\">\n     <g id=\"line2d_16\">\n      <g>\n       <use style=\"stroke:#000000;stroke-width:0.8;\" x=\"62.313125\" xlink:href=\"#ma60752c391\" y=\"76.586614\"/>\n      </g>\n     </g>\n     <g id=\"text_17\">\n      <!-- 0.200 -->\n      <g transform=\"translate(26.685 80.385833)scale(0.1 -0.1)\">\n       <use xlink:href=\"#DejaVuSans-48\"/>\n       <use x=\"63.623047\" xlink:href=\"#DejaVuSans-46\"/>\n       <use x=\"95.410156\" xlink:href=\"#DejaVuSans-50\"/>\n       <use x=\"159.033203\" xlink:href=\"#DejaVuSans-48\"/>\n       <use x=\"222.65625\" xlink:href=\"#DejaVuSans-48\"/>\n      </g>\n     </g>\n    </g>\n    <g id=\"ytick_9\">\n     <g id=\"line2d_17\">\n      <g>\n       <use style=\"stroke:#000000;stroke-width:0.8;\" x=\"62.313125\" xlink:href=\"#ma60752c391\" y=\"38.721606\"/>\n      </g>\n     </g>\n     <g id=\"text_18\">\n      <!-- 0.225 -->\n      <g transform=\"translate(26.685 42.520824)scale(0.1 -0.1)\">\n       <use xlink:href=\"#DejaVuSans-48\"/>\n       <use x=\"63.623047\" xlink:href=\"#DejaVuSans-46\"/>\n       <use x=\"95.410156\" xlink:href=\"#DejaVuSans-50\"/>\n       <use x=\"159.033203\" xlink:href=\"#DejaVuSans-50\"/>\n       <use x=\"222.65625\" xlink:href=\"#DejaVuSans-53\"/>\n      </g>\n     </g>\n    </g>\n    <g id=\"text_19\">\n     <!-- Loss -->\n     <defs>\n      <path d=\"M 9.8125 72.90625 \nL 19.671875 72.90625 \nL 19.671875 8.296875 \nL 55.171875 8.296875 \nL 55.171875 0 \nL 9.8125 0 \nz\n\" id=\"DejaVuSans-76\"/>\n     </defs>\n     <g transform=\"translate(19.3575 205.985)rotate(-90)scale(0.16 -0.16)\">\n      <use xlink:href=\"#DejaVuSans-76\"/>\n      <use x=\"53.962891\" xlink:href=\"#DejaVuSans-111\"/>\n      <use x=\"115.144531\" xlink:href=\"#DejaVuSans-115\"/>\n      <use x=\"167.244141\" xlink:href=\"#DejaVuSans-115\"/>\n     </g>\n    </g>\n   </g>\n   <g id=\"line2d_18\">\n    <path clip-path=\"url(#p850dff1e70)\" d=\"M 82.604034 40.182955 \nL 111.591047 185.333391 \nL 140.57806 227.723633 \nL 169.565073 256.547466 \nL 198.552086 270.328825 \nL 227.539099 282.560789 \nL 256.526112 296.817768 \nL 285.513125 307.170979 \nL 314.500138 315.581644 \nL 343.487151 321.296361 \nL 372.474164 327.084677 \nL 401.461177 329.732603 \nL 430.44819 333.527646 \nL 459.435203 336.692045 \nL 488.422216 328.054993 \n\" style=\"fill:none;stroke:#ff0000;stroke-linecap:square;stroke-width:3;\"/>\n   </g>\n   <g id=\"line2d_19\">\n    <path clip-path=\"url(#p850dff1e70)\" d=\"M 82.604034 117.770827 \nL 111.591047 163.084346 \nL 140.57806 238.839139 \nL 169.565073 250.720185 \nL 198.552086 231.639768 \nL 227.539099 243.375547 \nL 256.526112 263.487629 \nL 285.513125 270.212424 \nL 314.500138 280.315155 \nL 343.487151 261.697228 \nL 372.474164 252.579546 \nL 401.461177 255.864192 \nL 430.44819 252.738772 \nL 459.435203 156.303241 \nL 488.422216 225.381842 \n\" style=\"fill:none;stroke:#0000ff;stroke-linecap:square;stroke-width:3;\"/>\n   </g>\n   <g id=\"patch_3\">\n    <path d=\"M 62.313125 351.5175 \nL 62.313125 25.3575 \n\" style=\"fill:none;stroke:#000000;stroke-linecap:square;stroke-linejoin:miter;stroke-width:0.8;\"/>\n   </g>\n   <g id=\"patch_4\">\n    <path d=\"M 508.713125 351.5175 \nL 508.713125 25.3575 \n\" style=\"fill:none;stroke:#000000;stroke-linecap:square;stroke-linejoin:miter;stroke-width:0.8;\"/>\n   </g>\n   <g id=\"patch_5\">\n    <path d=\"M 62.313125 351.5175 \nL 508.713125 351.5175 \n\" style=\"fill:none;stroke:#000000;stroke-linecap:square;stroke-linejoin:miter;stroke-width:0.8;\"/>\n   </g>\n   <g id=\"patch_6\">\n    <path d=\"M 62.313125 25.3575 \nL 508.713125 25.3575 \n\" style=\"fill:none;stroke:#000000;stroke-linecap:square;stroke-linejoin:miter;stroke-width:0.8;\"/>\n   </g>\n   <g id=\"text_20\">\n    <!-- Loss Curves -->\n    <defs>\n     <path d=\"M 64.40625 67.28125 \nL 64.40625 56.890625 \nQ 59.421875 61.53125 53.78125 63.8125 \nQ 48.140625 66.109375 41.796875 66.109375 \nQ 29.296875 66.109375 22.65625 58.46875 \nQ 16.015625 50.828125 16.015625 36.375 \nQ 16.015625 21.96875 22.65625 14.328125 \nQ 29.296875 6.6875 41.796875 6.6875 \nQ 48.140625 6.6875 53.78125 8.984375 \nQ 59.421875 11.28125 64.40625 15.921875 \nL 64.40625 5.609375 \nQ 59.234375 2.09375 53.4375 0.328125 \nQ 47.65625 -1.421875 41.21875 -1.421875 \nQ 24.65625 -1.421875 15.125 8.703125 \nQ 5.609375 18.84375 5.609375 36.375 \nQ 5.609375 53.953125 15.125 64.078125 \nQ 24.65625 74.21875 41.21875 74.21875 \nQ 47.75 74.21875 53.53125 72.484375 \nQ 59.328125 70.75 64.40625 67.28125 \nz\n\" id=\"DejaVuSans-67\"/>\n     <path d=\"M 8.5 21.578125 \nL 8.5 54.6875 \nL 17.484375 54.6875 \nL 17.484375 21.921875 \nQ 17.484375 14.15625 20.5 10.265625 \nQ 23.53125 6.390625 29.59375 6.390625 \nQ 36.859375 6.390625 41.078125 11.03125 \nQ 45.3125 15.671875 45.3125 23.6875 \nL 45.3125 54.6875 \nL 54.296875 54.6875 \nL 54.296875 0 \nL 45.3125 0 \nL 45.3125 8.40625 \nQ 42.046875 3.421875 37.71875 1 \nQ 33.40625 -1.421875 27.6875 -1.421875 \nQ 18.265625 -1.421875 13.375 4.4375 \nQ 8.5 10.296875 8.5 21.578125 \nz\nM 31.109375 56 \nz\n\" id=\"DejaVuSans-117\"/>\n     <path d=\"M 41.109375 46.296875 \nQ 39.59375 47.171875 37.8125 47.578125 \nQ 36.03125 48 33.890625 48 \nQ 26.265625 48 22.1875 43.046875 \nQ 18.109375 38.09375 18.109375 28.8125 \nL 18.109375 0 \nL 9.078125 0 \nL 9.078125 54.6875 \nL 18.109375 54.6875 \nL 18.109375 46.1875 \nQ 20.953125 51.171875 25.484375 53.578125 \nQ 30.03125 56 36.53125 56 \nQ 37.453125 56 38.578125 55.875 \nQ 39.703125 55.765625 41.0625 55.515625 \nz\n\" id=\"DejaVuSans-114\"/>\n     <path d=\"M 2.984375 54.6875 \nL 12.5 54.6875 \nL 29.59375 8.796875 \nL 46.6875 54.6875 \nL 56.203125 54.6875 \nL 35.6875 0 \nL 23.484375 0 \nz\n\" id=\"DejaVuSans-118\"/>\n     <path d=\"M 56.203125 29.59375 \nL 56.203125 25.203125 \nL 14.890625 25.203125 \nQ 15.484375 15.921875 20.484375 11.0625 \nQ 25.484375 6.203125 34.421875 6.203125 \nQ 39.59375 6.203125 44.453125 7.46875 \nQ 49.3125 8.734375 54.109375 11.28125 \nL 54.109375 2.78125 \nQ 49.265625 0.734375 44.1875 -0.34375 \nQ 39.109375 -1.421875 33.890625 -1.421875 \nQ 20.796875 -1.421875 13.15625 6.1875 \nQ 5.515625 13.8125 5.515625 26.8125 \nQ 5.515625 40.234375 12.765625 48.109375 \nQ 20.015625 56 32.328125 56 \nQ 43.359375 56 49.78125 48.890625 \nQ 56.203125 41.796875 56.203125 29.59375 \nz\nM 47.21875 32.234375 \nQ 47.125 39.59375 43.09375 43.984375 \nQ 39.0625 48.390625 32.421875 48.390625 \nQ 24.90625 48.390625 20.390625 44.140625 \nQ 15.875 39.890625 15.1875 32.171875 \nz\n\" id=\"DejaVuSans-101\"/>\n    </defs>\n    <g transform=\"translate(237.653125 19.3575)scale(0.16 -0.16)\">\n     <use xlink:href=\"#DejaVuSans-76\"/>\n     <use x=\"53.962891\" xlink:href=\"#DejaVuSans-111\"/>\n     <use x=\"115.144531\" xlink:href=\"#DejaVuSans-115\"/>\n     <use x=\"167.244141\" xlink:href=\"#DejaVuSans-115\"/>\n     <use x=\"219.34375\" xlink:href=\"#DejaVuSans-32\"/>\n     <use x=\"251.130859\" xlink:href=\"#DejaVuSans-67\"/>\n     <use x=\"320.955078\" xlink:href=\"#DejaVuSans-117\"/>\n     <use x=\"384.333984\" xlink:href=\"#DejaVuSans-114\"/>\n     <use x=\"425.447266\" xlink:href=\"#DejaVuSans-118\"/>\n     <use x=\"484.626953\" xlink:href=\"#DejaVuSans-101\"/>\n     <use x=\"546.150391\" xlink:href=\"#DejaVuSans-115\"/>\n    </g>\n   </g>\n   <g id=\"legend_1\">\n    <g id=\"patch_7\">\n     <path d=\"M 304.424375 92.59875 \nL 496.113125 92.59875 \nQ 499.713125 92.59875 499.713125 88.99875 \nL 499.713125 37.9575 \nQ 499.713125 34.3575 496.113125 34.3575 \nL 304.424375 34.3575 \nQ 300.824375 34.3575 300.824375 37.9575 \nL 300.824375 88.99875 \nQ 300.824375 92.59875 304.424375 92.59875 \nz\n\" style=\"fill:#ffffff;opacity:0.8;stroke:#cccccc;stroke-linejoin:miter;\"/>\n    </g>\n    <g id=\"line2d_20\">\n     <path d=\"M 308.024375 48.934687 \nL 344.024375 48.934687 \n\" style=\"fill:none;stroke:#ff0000;stroke-linecap:square;stroke-width:3;\"/>\n    </g>\n    <g id=\"line2d_21\"/>\n    <g id=\"text_21\">\n     <!-- Training loss -->\n     <defs>\n      <path d=\"M -0.296875 72.90625 \nL 61.375 72.90625 \nL 61.375 64.59375 \nL 35.5 64.59375 \nL 35.5 0 \nL 25.59375 0 \nL 25.59375 64.59375 \nL -0.296875 64.59375 \nz\n\" id=\"DejaVuSans-84\"/>\n      <path d=\"M 34.28125 27.484375 \nQ 23.390625 27.484375 19.1875 25 \nQ 14.984375 22.515625 14.984375 16.5 \nQ 14.984375 11.71875 18.140625 8.90625 \nQ 21.296875 6.109375 26.703125 6.109375 \nQ 34.1875 6.109375 38.703125 11.40625 \nQ 43.21875 16.703125 43.21875 25.484375 \nL 43.21875 27.484375 \nz\nM 52.203125 31.203125 \nL 52.203125 0 \nL 43.21875 0 \nL 43.21875 8.296875 \nQ 40.140625 3.328125 35.546875 0.953125 \nQ 30.953125 -1.421875 24.3125 -1.421875 \nQ 15.921875 -1.421875 10.953125 3.296875 \nQ 6 8.015625 6 15.921875 \nQ 6 25.140625 12.171875 29.828125 \nQ 18.359375 34.515625 30.609375 34.515625 \nL 43.21875 34.515625 \nL 43.21875 35.40625 \nQ 43.21875 41.609375 39.140625 45 \nQ 35.0625 48.390625 27.6875 48.390625 \nQ 23 48.390625 18.546875 47.265625 \nQ 14.109375 46.140625 10.015625 43.890625 \nL 10.015625 52.203125 \nQ 14.9375 54.109375 19.578125 55.046875 \nQ 24.21875 56 28.609375 56 \nQ 40.484375 56 46.34375 49.84375 \nQ 52.203125 43.703125 52.203125 31.203125 \nz\n\" id=\"DejaVuSans-97\"/>\n      <path d=\"M 9.421875 54.6875 \nL 18.40625 54.6875 \nL 18.40625 0 \nL 9.421875 0 \nz\nM 9.421875 75.984375 \nL 18.40625 75.984375 \nL 18.40625 64.59375 \nL 9.421875 64.59375 \nz\n\" id=\"DejaVuSans-105\"/>\n      <path d=\"M 54.890625 33.015625 \nL 54.890625 0 \nL 45.90625 0 \nL 45.90625 32.71875 \nQ 45.90625 40.484375 42.875 44.328125 \nQ 39.84375 48.1875 33.796875 48.1875 \nQ 26.515625 48.1875 22.3125 43.546875 \nQ 18.109375 38.921875 18.109375 30.90625 \nL 18.109375 0 \nL 9.078125 0 \nL 9.078125 54.6875 \nL 18.109375 54.6875 \nL 18.109375 46.1875 \nQ 21.34375 51.125 25.703125 53.5625 \nQ 30.078125 56 35.796875 56 \nQ 45.21875 56 50.046875 50.171875 \nQ 54.890625 44.34375 54.890625 33.015625 \nz\n\" id=\"DejaVuSans-110\"/>\n      <path d=\"M 45.40625 27.984375 \nQ 45.40625 37.75 41.375 43.109375 \nQ 37.359375 48.484375 30.078125 48.484375 \nQ 22.859375 48.484375 18.828125 43.109375 \nQ 14.796875 37.75 14.796875 27.984375 \nQ 14.796875 18.265625 18.828125 12.890625 \nQ 22.859375 7.515625 30.078125 7.515625 \nQ 37.359375 7.515625 41.375 12.890625 \nQ 45.40625 18.265625 45.40625 27.984375 \nz\nM 54.390625 6.78125 \nQ 54.390625 -7.171875 48.1875 -13.984375 \nQ 42 -20.796875 29.203125 -20.796875 \nQ 24.46875 -20.796875 20.265625 -20.09375 \nQ 16.0625 -19.390625 12.109375 -17.921875 \nL 12.109375 -9.1875 \nQ 16.0625 -11.328125 19.921875 -12.34375 \nQ 23.78125 -13.375 27.78125 -13.375 \nQ 36.625 -13.375 41.015625 -8.765625 \nQ 45.40625 -4.15625 45.40625 5.171875 \nL 45.40625 9.625 \nQ 42.625 4.78125 38.28125 2.390625 \nQ 33.9375 0 27.875 0 \nQ 17.828125 0 11.671875 7.65625 \nQ 5.515625 15.328125 5.515625 27.984375 \nQ 5.515625 40.671875 11.671875 48.328125 \nQ 17.828125 56 27.875 56 \nQ 33.9375 56 38.28125 53.609375 \nQ 42.625 51.21875 45.40625 46.390625 \nL 45.40625 54.6875 \nL 54.390625 54.6875 \nz\n\" id=\"DejaVuSans-103\"/>\n      <path d=\"M 9.421875 75.984375 \nL 18.40625 75.984375 \nL 18.40625 0 \nL 9.421875 0 \nz\n\" id=\"DejaVuSans-108\"/>\n     </defs>\n     <g transform=\"translate(358.424375 55.234687)scale(0.18 -0.18)\">\n      <use xlink:href=\"#DejaVuSans-84\"/>\n      <use x=\"46.333984\" xlink:href=\"#DejaVuSans-114\"/>\n      <use x=\"87.447266\" xlink:href=\"#DejaVuSans-97\"/>\n      <use x=\"148.726562\" xlink:href=\"#DejaVuSans-105\"/>\n      <use x=\"176.509766\" xlink:href=\"#DejaVuSans-110\"/>\n      <use x=\"239.888672\" xlink:href=\"#DejaVuSans-105\"/>\n      <use x=\"267.671875\" xlink:href=\"#DejaVuSans-110\"/>\n      <use x=\"331.050781\" xlink:href=\"#DejaVuSans-103\"/>\n      <use x=\"394.527344\" xlink:href=\"#DejaVuSans-32\"/>\n      <use x=\"426.314453\" xlink:href=\"#DejaVuSans-108\"/>\n      <use x=\"454.097656\" xlink:href=\"#DejaVuSans-111\"/>\n      <use x=\"515.279297\" xlink:href=\"#DejaVuSans-115\"/>\n      <use x=\"567.378906\" xlink:href=\"#DejaVuSans-115\"/>\n     </g>\n    </g>\n    <g id=\"line2d_22\">\n     <path d=\"M 308.024375 75.355312 \nL 344.024375 75.355312 \n\" style=\"fill:none;stroke:#0000ff;stroke-linecap:square;stroke-width:3;\"/>\n    </g>\n    <g id=\"line2d_23\"/>\n    <g id=\"text_22\">\n     <!-- Validation Loss -->\n     <defs>\n      <path d=\"M 28.609375 0 \nL 0.78125 72.90625 \nL 11.078125 72.90625 \nL 34.1875 11.53125 \nL 57.328125 72.90625 \nL 67.578125 72.90625 \nL 39.796875 0 \nz\n\" id=\"DejaVuSans-86\"/>\n      <path d=\"M 45.40625 46.390625 \nL 45.40625 75.984375 \nL 54.390625 75.984375 \nL 54.390625 0 \nL 45.40625 0 \nL 45.40625 8.203125 \nQ 42.578125 3.328125 38.25 0.953125 \nQ 33.9375 -1.421875 27.875 -1.421875 \nQ 17.96875 -1.421875 11.734375 6.484375 \nQ 5.515625 14.40625 5.515625 27.296875 \nQ 5.515625 40.1875 11.734375 48.09375 \nQ 17.96875 56 27.875 56 \nQ 33.9375 56 38.25 53.625 \nQ 42.578125 51.265625 45.40625 46.390625 \nz\nM 14.796875 27.296875 \nQ 14.796875 17.390625 18.875 11.75 \nQ 22.953125 6.109375 30.078125 6.109375 \nQ 37.203125 6.109375 41.296875 11.75 \nQ 45.40625 17.390625 45.40625 27.296875 \nQ 45.40625 37.203125 41.296875 42.84375 \nQ 37.203125 48.484375 30.078125 48.484375 \nQ 22.953125 48.484375 18.875 42.84375 \nQ 14.796875 37.203125 14.796875 27.296875 \nz\n\" id=\"DejaVuSans-100\"/>\n      <path d=\"M 18.3125 70.21875 \nL 18.3125 54.6875 \nL 36.8125 54.6875 \nL 36.8125 47.703125 \nL 18.3125 47.703125 \nL 18.3125 18.015625 \nQ 18.3125 11.328125 20.140625 9.421875 \nQ 21.96875 7.515625 27.59375 7.515625 \nL 36.8125 7.515625 \nL 36.8125 0 \nL 27.59375 0 \nQ 17.1875 0 13.234375 3.875 \nQ 9.28125 7.765625 9.28125 18.015625 \nL 9.28125 47.703125 \nL 2.6875 47.703125 \nL 2.6875 54.6875 \nL 9.28125 54.6875 \nL 9.28125 70.21875 \nz\n\" id=\"DejaVuSans-116\"/>\n     </defs>\n     <g transform=\"translate(358.424375 81.655312)scale(0.18 -0.18)\">\n      <use xlink:href=\"#DejaVuSans-86\"/>\n      <use x=\"60.658203\" xlink:href=\"#DejaVuSans-97\"/>\n      <use x=\"121.9375\" xlink:href=\"#DejaVuSans-108\"/>\n      <use x=\"149.720703\" xlink:href=\"#DejaVuSans-105\"/>\n      <use x=\"177.503906\" xlink:href=\"#DejaVuSans-100\"/>\n      <use x=\"240.980469\" xlink:href=\"#DejaVuSans-97\"/>\n      <use x=\"302.259766\" xlink:href=\"#DejaVuSans-116\"/>\n      <use x=\"341.46875\" xlink:href=\"#DejaVuSans-105\"/>\n      <use x=\"369.251953\" xlink:href=\"#DejaVuSans-111\"/>\n      <use x=\"430.433594\" xlink:href=\"#DejaVuSans-110\"/>\n      <use x=\"493.8125\" xlink:href=\"#DejaVuSans-32\"/>\n      <use x=\"525.599609\" xlink:href=\"#DejaVuSans-76\"/>\n      <use x=\"579.5625\" xlink:href=\"#DejaVuSans-111\"/>\n      <use x=\"640.744141\" xlink:href=\"#DejaVuSans-115\"/>\n      <use x=\"692.84375\" xlink:href=\"#DejaVuSans-115\"/>\n     </g>\n    </g>\n   </g>\n  </g>\n </g>\n <defs>\n  <clipPath id=\"p850dff1e70\">\n   <rect height=\"326.16\" width=\"446.4\" x=\"62.313125\" y=\"25.3575\"/>\n  </clipPath>\n </defs>\n</svg>\n"
          },
          "metadata": {
            "tags": [],
            "needs_background": "light"
          }
        }
      ]
    },
    {
      "cell_type": "code",
      "metadata": {
        "id": "uAvmdkBJB81y",
        "colab_type": "code",
        "colab": {
          "base_uri": "https://localhost:8080/",
          "height": 564
        },
        "outputId": "2b0e10cf-4f0b-41b5-dc87-1ad7f98b0753"
      },
      "source": [
        "# Curvas da precisão\n",
        "plt.figure(figsize=[8,6])\n",
        "plt.plot(history.history['accuracy'],'r',linewidth=3.0)\n",
        "plt.plot(history.history['val_accuracy'],'b',linewidth=3.0)\n",
        "plt.legend(['Training Accuracy', 'Validation Accuracy'],fontsize=18)\n",
        "plt.xlabel('Epochs ',fontsize=16)\n",
        "plt.ylabel('Accuracy',fontsize=16)\n",
        "plt.title('Accuracy Curves',fontsize=16)"
      ],
      "execution_count": null,
      "outputs": [
        {
          "output_type": "execute_result",
          "data": {
            "text/plain": [
              "Text(0.5, 1.0, 'Accuracy Curves')"
            ]
          },
          "metadata": {
            "tags": []
          },
          "execution_count": 59
        },
        {
          "output_type": "display_data",
          "data": {
            "text/plain": [
              "<Figure size 576x432 with 1 Axes>"
            ],
            "image/svg+xml": "<?xml version=\"1.0\" encoding=\"utf-8\" standalone=\"no\"?>\n<!DOCTYPE svg PUBLIC \"-//W3C//DTD SVG 1.1//EN\"\n  \"http://www.w3.org/Graphics/SVG/1.1/DTD/svg11.dtd\">\n<!-- Created with matplotlib (https://matplotlib.org/) -->\n<svg height=\"394.880625pt\" version=\"1.1\" viewBox=\"0 0 503.188125 394.880625\" width=\"503.188125pt\" xmlns=\"http://www.w3.org/2000/svg\" xmlns:xlink=\"http://www.w3.org/1999/xlink\">\n <defs>\n  <style type=\"text/css\">\n*{stroke-linecap:butt;stroke-linejoin:round;}\n  </style>\n </defs>\n <g id=\"figure_1\">\n  <g id=\"patch_1\">\n   <path d=\"M 0 394.880625 \nL 503.188125 394.880625 \nL 503.188125 0 \nL 0 0 \nz\n\" style=\"fill:none;\"/>\n  </g>\n  <g id=\"axes_1\">\n   <g id=\"patch_2\">\n    <path d=\"M 49.588125 351.5175 \nL 495.988125 351.5175 \nL 495.988125 25.3575 \nL 49.588125 25.3575 \nz\n\" style=\"fill:#ffffff;\"/>\n   </g>\n   <g id=\"matplotlib.axis_1\">\n    <g id=\"xtick_1\">\n     <g id=\"line2d_1\">\n      <defs>\n       <path d=\"M 0 0 \nL 0 3.5 \n\" id=\"m0de3d72edf\" style=\"stroke:#000000;stroke-width:0.8;\"/>\n      </defs>\n      <g>\n       <use style=\"stroke:#000000;stroke-width:0.8;\" x=\"69.879034\" xlink:href=\"#m0de3d72edf\" y=\"351.5175\"/>\n      </g>\n     </g>\n     <g id=\"text_1\">\n      <!-- 0 -->\n      <defs>\n       <path d=\"M 31.78125 66.40625 \nQ 24.171875 66.40625 20.328125 58.90625 \nQ 16.5 51.421875 16.5 36.375 \nQ 16.5 21.390625 20.328125 13.890625 \nQ 24.171875 6.390625 31.78125 6.390625 \nQ 39.453125 6.390625 43.28125 13.890625 \nQ 47.125 21.390625 47.125 36.375 \nQ 47.125 51.421875 43.28125 58.90625 \nQ 39.453125 66.40625 31.78125 66.40625 \nz\nM 31.78125 74.21875 \nQ 44.046875 74.21875 50.515625 64.515625 \nQ 56.984375 54.828125 56.984375 36.375 \nQ 56.984375 17.96875 50.515625 8.265625 \nQ 44.046875 -1.421875 31.78125 -1.421875 \nQ 19.53125 -1.421875 13.0625 8.265625 \nQ 6.59375 17.96875 6.59375 36.375 \nQ 6.59375 54.828125 13.0625 64.515625 \nQ 19.53125 74.21875 31.78125 74.21875 \nz\n\" id=\"DejaVuSans-48\"/>\n      </defs>\n      <g transform=\"translate(66.697784 366.115938)scale(0.1 -0.1)\">\n       <use xlink:href=\"#DejaVuSans-48\"/>\n      </g>\n     </g>\n    </g>\n    <g id=\"xtick_2\">\n     <g id=\"line2d_2\">\n      <g>\n       <use style=\"stroke:#000000;stroke-width:0.8;\" x=\"127.85306\" xlink:href=\"#m0de3d72edf\" y=\"351.5175\"/>\n      </g>\n     </g>\n     <g id=\"text_2\">\n      <!-- 2 -->\n      <defs>\n       <path d=\"M 19.1875 8.296875 \nL 53.609375 8.296875 \nL 53.609375 0 \nL 7.328125 0 \nL 7.328125 8.296875 \nQ 12.9375 14.109375 22.625 23.890625 \nQ 32.328125 33.6875 34.8125 36.53125 \nQ 39.546875 41.84375 41.421875 45.53125 \nQ 43.3125 49.21875 43.3125 52.78125 \nQ 43.3125 58.59375 39.234375 62.25 \nQ 35.15625 65.921875 28.609375 65.921875 \nQ 23.96875 65.921875 18.8125 64.3125 \nQ 13.671875 62.703125 7.8125 59.421875 \nL 7.8125 69.390625 \nQ 13.765625 71.78125 18.9375 73 \nQ 24.125 74.21875 28.421875 74.21875 \nQ 39.75 74.21875 46.484375 68.546875 \nQ 53.21875 62.890625 53.21875 53.421875 \nQ 53.21875 48.921875 51.53125 44.890625 \nQ 49.859375 40.875 45.40625 35.40625 \nQ 44.1875 33.984375 37.640625 27.21875 \nQ 31.109375 20.453125 19.1875 8.296875 \nz\n\" id=\"DejaVuSans-50\"/>\n      </defs>\n      <g transform=\"translate(124.67181 366.115938)scale(0.1 -0.1)\">\n       <use xlink:href=\"#DejaVuSans-50\"/>\n      </g>\n     </g>\n    </g>\n    <g id=\"xtick_3\">\n     <g id=\"line2d_3\">\n      <g>\n       <use style=\"stroke:#000000;stroke-width:0.8;\" x=\"185.827086\" xlink:href=\"#m0de3d72edf\" y=\"351.5175\"/>\n      </g>\n     </g>\n     <g id=\"text_3\">\n      <!-- 4 -->\n      <defs>\n       <path d=\"M 37.796875 64.3125 \nL 12.890625 25.390625 \nL 37.796875 25.390625 \nz\nM 35.203125 72.90625 \nL 47.609375 72.90625 \nL 47.609375 25.390625 \nL 58.015625 25.390625 \nL 58.015625 17.1875 \nL 47.609375 17.1875 \nL 47.609375 0 \nL 37.796875 0 \nL 37.796875 17.1875 \nL 4.890625 17.1875 \nL 4.890625 26.703125 \nz\n\" id=\"DejaVuSans-52\"/>\n      </defs>\n      <g transform=\"translate(182.645836 366.115938)scale(0.1 -0.1)\">\n       <use xlink:href=\"#DejaVuSans-52\"/>\n      </g>\n     </g>\n    </g>\n    <g id=\"xtick_4\">\n     <g id=\"line2d_4\">\n      <g>\n       <use style=\"stroke:#000000;stroke-width:0.8;\" x=\"243.801112\" xlink:href=\"#m0de3d72edf\" y=\"351.5175\"/>\n      </g>\n     </g>\n     <g id=\"text_4\">\n      <!-- 6 -->\n      <defs>\n       <path d=\"M 33.015625 40.375 \nQ 26.375 40.375 22.484375 35.828125 \nQ 18.609375 31.296875 18.609375 23.390625 \nQ 18.609375 15.53125 22.484375 10.953125 \nQ 26.375 6.390625 33.015625 6.390625 \nQ 39.65625 6.390625 43.53125 10.953125 \nQ 47.40625 15.53125 47.40625 23.390625 \nQ 47.40625 31.296875 43.53125 35.828125 \nQ 39.65625 40.375 33.015625 40.375 \nz\nM 52.59375 71.296875 \nL 52.59375 62.3125 \nQ 48.875 64.0625 45.09375 64.984375 \nQ 41.3125 65.921875 37.59375 65.921875 \nQ 27.828125 65.921875 22.671875 59.328125 \nQ 17.53125 52.734375 16.796875 39.40625 \nQ 19.671875 43.65625 24.015625 45.921875 \nQ 28.375 48.1875 33.59375 48.1875 \nQ 44.578125 48.1875 50.953125 41.515625 \nQ 57.328125 34.859375 57.328125 23.390625 \nQ 57.328125 12.15625 50.6875 5.359375 \nQ 44.046875 -1.421875 33.015625 -1.421875 \nQ 20.359375 -1.421875 13.671875 8.265625 \nQ 6.984375 17.96875 6.984375 36.375 \nQ 6.984375 53.65625 15.1875 63.9375 \nQ 23.390625 74.21875 37.203125 74.21875 \nQ 40.921875 74.21875 44.703125 73.484375 \nQ 48.484375 72.75 52.59375 71.296875 \nz\n\" id=\"DejaVuSans-54\"/>\n      </defs>\n      <g transform=\"translate(240.619862 366.115938)scale(0.1 -0.1)\">\n       <use xlink:href=\"#DejaVuSans-54\"/>\n      </g>\n     </g>\n    </g>\n    <g id=\"xtick_5\">\n     <g id=\"line2d_5\">\n      <g>\n       <use style=\"stroke:#000000;stroke-width:0.8;\" x=\"301.775138\" xlink:href=\"#m0de3d72edf\" y=\"351.5175\"/>\n      </g>\n     </g>\n     <g id=\"text_5\">\n      <!-- 8 -->\n      <defs>\n       <path d=\"M 31.78125 34.625 \nQ 24.75 34.625 20.71875 30.859375 \nQ 16.703125 27.09375 16.703125 20.515625 \nQ 16.703125 13.921875 20.71875 10.15625 \nQ 24.75 6.390625 31.78125 6.390625 \nQ 38.8125 6.390625 42.859375 10.171875 \nQ 46.921875 13.96875 46.921875 20.515625 \nQ 46.921875 27.09375 42.890625 30.859375 \nQ 38.875 34.625 31.78125 34.625 \nz\nM 21.921875 38.8125 \nQ 15.578125 40.375 12.03125 44.71875 \nQ 8.5 49.078125 8.5 55.328125 \nQ 8.5 64.0625 14.71875 69.140625 \nQ 20.953125 74.21875 31.78125 74.21875 \nQ 42.671875 74.21875 48.875 69.140625 \nQ 55.078125 64.0625 55.078125 55.328125 \nQ 55.078125 49.078125 51.53125 44.71875 \nQ 48 40.375 41.703125 38.8125 \nQ 48.828125 37.15625 52.796875 32.3125 \nQ 56.78125 27.484375 56.78125 20.515625 \nQ 56.78125 9.90625 50.3125 4.234375 \nQ 43.84375 -1.421875 31.78125 -1.421875 \nQ 19.734375 -1.421875 13.25 4.234375 \nQ 6.78125 9.90625 6.78125 20.515625 \nQ 6.78125 27.484375 10.78125 32.3125 \nQ 14.796875 37.15625 21.921875 38.8125 \nz\nM 18.3125 54.390625 \nQ 18.3125 48.734375 21.84375 45.5625 \nQ 25.390625 42.390625 31.78125 42.390625 \nQ 38.140625 42.390625 41.71875 45.5625 \nQ 45.3125 48.734375 45.3125 54.390625 \nQ 45.3125 60.0625 41.71875 63.234375 \nQ 38.140625 66.40625 31.78125 66.40625 \nQ 25.390625 66.40625 21.84375 63.234375 \nQ 18.3125 60.0625 18.3125 54.390625 \nz\n\" id=\"DejaVuSans-56\"/>\n      </defs>\n      <g transform=\"translate(298.593888 366.115938)scale(0.1 -0.1)\">\n       <use xlink:href=\"#DejaVuSans-56\"/>\n      </g>\n     </g>\n    </g>\n    <g id=\"xtick_6\">\n     <g id=\"line2d_6\">\n      <g>\n       <use style=\"stroke:#000000;stroke-width:0.8;\" x=\"359.749164\" xlink:href=\"#m0de3d72edf\" y=\"351.5175\"/>\n      </g>\n     </g>\n     <g id=\"text_6\">\n      <!-- 10 -->\n      <defs>\n       <path d=\"M 12.40625 8.296875 \nL 28.515625 8.296875 \nL 28.515625 63.921875 \nL 10.984375 60.40625 \nL 10.984375 69.390625 \nL 28.421875 72.90625 \nL 38.28125 72.90625 \nL 38.28125 8.296875 \nL 54.390625 8.296875 \nL 54.390625 0 \nL 12.40625 0 \nz\n\" id=\"DejaVuSans-49\"/>\n      </defs>\n      <g transform=\"translate(353.386664 366.115938)scale(0.1 -0.1)\">\n       <use xlink:href=\"#DejaVuSans-49\"/>\n       <use x=\"63.623047\" xlink:href=\"#DejaVuSans-48\"/>\n      </g>\n     </g>\n    </g>\n    <g id=\"xtick_7\">\n     <g id=\"line2d_7\">\n      <g>\n       <use style=\"stroke:#000000;stroke-width:0.8;\" x=\"417.72319\" xlink:href=\"#m0de3d72edf\" y=\"351.5175\"/>\n      </g>\n     </g>\n     <g id=\"text_7\">\n      <!-- 12 -->\n      <g transform=\"translate(411.36069 366.115938)scale(0.1 -0.1)\">\n       <use xlink:href=\"#DejaVuSans-49\"/>\n       <use x=\"63.623047\" xlink:href=\"#DejaVuSans-50\"/>\n      </g>\n     </g>\n    </g>\n    <g id=\"xtick_8\">\n     <g id=\"line2d_8\">\n      <g>\n       <use style=\"stroke:#000000;stroke-width:0.8;\" x=\"475.697216\" xlink:href=\"#m0de3d72edf\" y=\"351.5175\"/>\n      </g>\n     </g>\n     <g id=\"text_8\">\n      <!-- 14 -->\n      <g transform=\"translate(469.334716 366.115938)scale(0.1 -0.1)\">\n       <use xlink:href=\"#DejaVuSans-49\"/>\n       <use x=\"63.623047\" xlink:href=\"#DejaVuSans-52\"/>\n      </g>\n     </g>\n    </g>\n    <g id=\"text_9\">\n     <!-- Epochs  -->\n     <defs>\n      <path d=\"M 9.8125 72.90625 \nL 55.90625 72.90625 \nL 55.90625 64.59375 \nL 19.671875 64.59375 \nL 19.671875 43.015625 \nL 54.390625 43.015625 \nL 54.390625 34.71875 \nL 19.671875 34.71875 \nL 19.671875 8.296875 \nL 56.78125 8.296875 \nL 56.78125 0 \nL 9.8125 0 \nz\n\" id=\"DejaVuSans-69\"/>\n      <path d=\"M 18.109375 8.203125 \nL 18.109375 -20.796875 \nL 9.078125 -20.796875 \nL 9.078125 54.6875 \nL 18.109375 54.6875 \nL 18.109375 46.390625 \nQ 20.953125 51.265625 25.265625 53.625 \nQ 29.59375 56 35.59375 56 \nQ 45.5625 56 51.78125 48.09375 \nQ 58.015625 40.1875 58.015625 27.296875 \nQ 58.015625 14.40625 51.78125 6.484375 \nQ 45.5625 -1.421875 35.59375 -1.421875 \nQ 29.59375 -1.421875 25.265625 0.953125 \nQ 20.953125 3.328125 18.109375 8.203125 \nz\nM 48.6875 27.296875 \nQ 48.6875 37.203125 44.609375 42.84375 \nQ 40.53125 48.484375 33.40625 48.484375 \nQ 26.265625 48.484375 22.1875 42.84375 \nQ 18.109375 37.203125 18.109375 27.296875 \nQ 18.109375 17.390625 22.1875 11.75 \nQ 26.265625 6.109375 33.40625 6.109375 \nQ 40.53125 6.109375 44.609375 11.75 \nQ 48.6875 17.390625 48.6875 27.296875 \nz\n\" id=\"DejaVuSans-112\"/>\n      <path d=\"M 30.609375 48.390625 \nQ 23.390625 48.390625 19.1875 42.75 \nQ 14.984375 37.109375 14.984375 27.296875 \nQ 14.984375 17.484375 19.15625 11.84375 \nQ 23.34375 6.203125 30.609375 6.203125 \nQ 37.796875 6.203125 41.984375 11.859375 \nQ 46.1875 17.53125 46.1875 27.296875 \nQ 46.1875 37.015625 41.984375 42.703125 \nQ 37.796875 48.390625 30.609375 48.390625 \nz\nM 30.609375 56 \nQ 42.328125 56 49.015625 48.375 \nQ 55.71875 40.765625 55.71875 27.296875 \nQ 55.71875 13.875 49.015625 6.21875 \nQ 42.328125 -1.421875 30.609375 -1.421875 \nQ 18.84375 -1.421875 12.171875 6.21875 \nQ 5.515625 13.875 5.515625 27.296875 \nQ 5.515625 40.765625 12.171875 48.375 \nQ 18.84375 56 30.609375 56 \nz\n\" id=\"DejaVuSans-111\"/>\n      <path d=\"M 48.78125 52.59375 \nL 48.78125 44.1875 \nQ 44.96875 46.296875 41.140625 47.34375 \nQ 37.3125 48.390625 33.40625 48.390625 \nQ 24.65625 48.390625 19.8125 42.84375 \nQ 14.984375 37.3125 14.984375 27.296875 \nQ 14.984375 17.28125 19.8125 11.734375 \nQ 24.65625 6.203125 33.40625 6.203125 \nQ 37.3125 6.203125 41.140625 7.25 \nQ 44.96875 8.296875 48.78125 10.40625 \nL 48.78125 2.09375 \nQ 45.015625 0.34375 40.984375 -0.53125 \nQ 36.96875 -1.421875 32.421875 -1.421875 \nQ 20.0625 -1.421875 12.78125 6.34375 \nQ 5.515625 14.109375 5.515625 27.296875 \nQ 5.515625 40.671875 12.859375 48.328125 \nQ 20.21875 56 33.015625 56 \nQ 37.15625 56 41.109375 55.140625 \nQ 45.0625 54.296875 48.78125 52.59375 \nz\n\" id=\"DejaVuSans-99\"/>\n      <path d=\"M 54.890625 33.015625 \nL 54.890625 0 \nL 45.90625 0 \nL 45.90625 32.71875 \nQ 45.90625 40.484375 42.875 44.328125 \nQ 39.84375 48.1875 33.796875 48.1875 \nQ 26.515625 48.1875 22.3125 43.546875 \nQ 18.109375 38.921875 18.109375 30.90625 \nL 18.109375 0 \nL 9.078125 0 \nL 9.078125 75.984375 \nL 18.109375 75.984375 \nL 18.109375 46.1875 \nQ 21.34375 51.125 25.703125 53.5625 \nQ 30.078125 56 35.796875 56 \nQ 45.21875 56 50.046875 50.171875 \nQ 54.890625 44.34375 54.890625 33.015625 \nz\n\" id=\"DejaVuSans-104\"/>\n      <path d=\"M 44.28125 53.078125 \nL 44.28125 44.578125 \nQ 40.484375 46.53125 36.375 47.5 \nQ 32.28125 48.484375 27.875 48.484375 \nQ 21.1875 48.484375 17.84375 46.4375 \nQ 14.5 44.390625 14.5 40.28125 \nQ 14.5 37.15625 16.890625 35.375 \nQ 19.28125 33.59375 26.515625 31.984375 \nL 29.59375 31.296875 \nQ 39.15625 29.25 43.1875 25.515625 \nQ 47.21875 21.78125 47.21875 15.09375 \nQ 47.21875 7.46875 41.1875 3.015625 \nQ 35.15625 -1.421875 24.609375 -1.421875 \nQ 20.21875 -1.421875 15.453125 -0.5625 \nQ 10.6875 0.296875 5.421875 2 \nL 5.421875 11.28125 \nQ 10.40625 8.6875 15.234375 7.390625 \nQ 20.0625 6.109375 24.8125 6.109375 \nQ 31.15625 6.109375 34.5625 8.28125 \nQ 37.984375 10.453125 37.984375 14.40625 \nQ 37.984375 18.0625 35.515625 20.015625 \nQ 33.0625 21.96875 24.703125 23.78125 \nL 21.578125 24.515625 \nQ 13.234375 26.265625 9.515625 29.90625 \nQ 5.8125 33.546875 5.8125 39.890625 \nQ 5.8125 47.609375 11.28125 51.796875 \nQ 16.75 56 26.8125 56 \nQ 31.78125 56 36.171875 55.265625 \nQ 40.578125 54.546875 44.28125 53.078125 \nz\n\" id=\"DejaVuSans-115\"/>\n      <path id=\"DejaVuSans-32\"/>\n     </defs>\n     <g transform=\"translate(241.580625 384.353125)scale(0.16 -0.16)\">\n      <use xlink:href=\"#DejaVuSans-69\"/>\n      <use x=\"63.183594\" xlink:href=\"#DejaVuSans-112\"/>\n      <use x=\"126.660156\" xlink:href=\"#DejaVuSans-111\"/>\n      <use x=\"187.841797\" xlink:href=\"#DejaVuSans-99\"/>\n      <use x=\"242.822266\" xlink:href=\"#DejaVuSans-104\"/>\n      <use x=\"306.201172\" xlink:href=\"#DejaVuSans-115\"/>\n      <use x=\"358.300781\" xlink:href=\"#DejaVuSans-32\"/>\n     </g>\n    </g>\n   </g>\n   <g id=\"matplotlib.axis_2\">\n    <g id=\"ytick_1\">\n     <g id=\"line2d_9\">\n      <defs>\n       <path d=\"M 0 0 \nL -3.5 0 \n\" id=\"md5bbd89d02\" style=\"stroke:#000000;stroke-width:0.8;\"/>\n      </defs>\n      <g>\n       <use style=\"stroke:#000000;stroke-width:0.8;\" x=\"49.588125\" xlink:href=\"#md5bbd89d02\" y=\"285.955214\"/>\n      </g>\n     </g>\n     <g id=\"text_10\">\n      <!-- 0.6 -->\n      <defs>\n       <path d=\"M 10.6875 12.40625 \nL 21 12.40625 \nL 21 0 \nL 10.6875 0 \nz\n\" id=\"DejaVuSans-46\"/>\n      </defs>\n      <g transform=\"translate(26.685 289.754433)scale(0.1 -0.1)\">\n       <use xlink:href=\"#DejaVuSans-48\"/>\n       <use x=\"63.623047\" xlink:href=\"#DejaVuSans-46\"/>\n       <use x=\"95.410156\" xlink:href=\"#DejaVuSans-54\"/>\n      </g>\n     </g>\n    </g>\n    <g id=\"ytick_2\">\n     <g id=\"line2d_10\">\n      <g>\n       <use style=\"stroke:#000000;stroke-width:0.8;\" x=\"49.588125\" xlink:href=\"#md5bbd89d02\" y=\"217.105309\"/>\n      </g>\n     </g>\n     <g id=\"text_11\">\n      <!-- 0.7 -->\n      <defs>\n       <path d=\"M 8.203125 72.90625 \nL 55.078125 72.90625 \nL 55.078125 68.703125 \nL 28.609375 0 \nL 18.3125 0 \nL 43.21875 64.59375 \nL 8.203125 64.59375 \nz\n\" id=\"DejaVuSans-55\"/>\n      </defs>\n      <g transform=\"translate(26.685 220.904528)scale(0.1 -0.1)\">\n       <use xlink:href=\"#DejaVuSans-48\"/>\n       <use x=\"63.623047\" xlink:href=\"#DejaVuSans-46\"/>\n       <use x=\"95.410156\" xlink:href=\"#DejaVuSans-55\"/>\n      </g>\n     </g>\n    </g>\n    <g id=\"ytick_3\">\n     <g id=\"line2d_11\">\n      <g>\n       <use style=\"stroke:#000000;stroke-width:0.8;\" x=\"49.588125\" xlink:href=\"#md5bbd89d02\" y=\"148.255404\"/>\n      </g>\n     </g>\n     <g id=\"text_12\">\n      <!-- 0.8 -->\n      <g transform=\"translate(26.685 152.054622)scale(0.1 -0.1)\">\n       <use xlink:href=\"#DejaVuSans-48\"/>\n       <use x=\"63.623047\" xlink:href=\"#DejaVuSans-46\"/>\n       <use x=\"95.410156\" xlink:href=\"#DejaVuSans-56\"/>\n      </g>\n     </g>\n    </g>\n    <g id=\"ytick_4\">\n     <g id=\"line2d_12\">\n      <g>\n       <use style=\"stroke:#000000;stroke-width:0.8;\" x=\"49.588125\" xlink:href=\"#md5bbd89d02\" y=\"79.405498\"/>\n      </g>\n     </g>\n     <g id=\"text_13\">\n      <!-- 0.9 -->\n      <defs>\n       <path d=\"M 10.984375 1.515625 \nL 10.984375 10.5 \nQ 14.703125 8.734375 18.5 7.8125 \nQ 22.3125 6.890625 25.984375 6.890625 \nQ 35.75 6.890625 40.890625 13.453125 \nQ 46.046875 20.015625 46.78125 33.40625 \nQ 43.953125 29.203125 39.59375 26.953125 \nQ 35.25 24.703125 29.984375 24.703125 \nQ 19.046875 24.703125 12.671875 31.3125 \nQ 6.296875 37.9375 6.296875 49.421875 \nQ 6.296875 60.640625 12.9375 67.421875 \nQ 19.578125 74.21875 30.609375 74.21875 \nQ 43.265625 74.21875 49.921875 64.515625 \nQ 56.59375 54.828125 56.59375 36.375 \nQ 56.59375 19.140625 48.40625 8.859375 \nQ 40.234375 -1.421875 26.421875 -1.421875 \nQ 22.703125 -1.421875 18.890625 -0.6875 \nQ 15.09375 0.046875 10.984375 1.515625 \nz\nM 30.609375 32.421875 \nQ 37.25 32.421875 41.125 36.953125 \nQ 45.015625 41.5 45.015625 49.421875 \nQ 45.015625 57.28125 41.125 61.84375 \nQ 37.25 66.40625 30.609375 66.40625 \nQ 23.96875 66.40625 20.09375 61.84375 \nQ 16.21875 57.28125 16.21875 49.421875 \nQ 16.21875 41.5 20.09375 36.953125 \nQ 23.96875 32.421875 30.609375 32.421875 \nz\n\" id=\"DejaVuSans-57\"/>\n      </defs>\n      <g transform=\"translate(26.685 83.204717)scale(0.1 -0.1)\">\n       <use xlink:href=\"#DejaVuSans-48\"/>\n       <use x=\"63.623047\" xlink:href=\"#DejaVuSans-46\"/>\n       <use x=\"95.410156\" xlink:href=\"#DejaVuSans-57\"/>\n      </g>\n     </g>\n    </g>\n    <g id=\"text_14\">\n     <!-- Accuracy -->\n     <defs>\n      <path d=\"M 34.1875 63.1875 \nL 20.796875 26.90625 \nL 47.609375 26.90625 \nz\nM 28.609375 72.90625 \nL 39.796875 72.90625 \nL 67.578125 0 \nL 57.328125 0 \nL 50.6875 18.703125 \nL 17.828125 18.703125 \nL 11.1875 0 \nL 0.78125 0 \nz\n\" id=\"DejaVuSans-65\"/>\n      <path d=\"M 8.5 21.578125 \nL 8.5 54.6875 \nL 17.484375 54.6875 \nL 17.484375 21.921875 \nQ 17.484375 14.15625 20.5 10.265625 \nQ 23.53125 6.390625 29.59375 6.390625 \nQ 36.859375 6.390625 41.078125 11.03125 \nQ 45.3125 15.671875 45.3125 23.6875 \nL 45.3125 54.6875 \nL 54.296875 54.6875 \nL 54.296875 0 \nL 45.3125 0 \nL 45.3125 8.40625 \nQ 42.046875 3.421875 37.71875 1 \nQ 33.40625 -1.421875 27.6875 -1.421875 \nQ 18.265625 -1.421875 13.375 4.4375 \nQ 8.5 10.296875 8.5 21.578125 \nz\nM 31.109375 56 \nz\n\" id=\"DejaVuSans-117\"/>\n      <path d=\"M 41.109375 46.296875 \nQ 39.59375 47.171875 37.8125 47.578125 \nQ 36.03125 48 33.890625 48 \nQ 26.265625 48 22.1875 43.046875 \nQ 18.109375 38.09375 18.109375 28.8125 \nL 18.109375 0 \nL 9.078125 0 \nL 9.078125 54.6875 \nL 18.109375 54.6875 \nL 18.109375 46.1875 \nQ 20.953125 51.171875 25.484375 53.578125 \nQ 30.03125 56 36.53125 56 \nQ 37.453125 56 38.578125 55.875 \nQ 39.703125 55.765625 41.0625 55.515625 \nz\n\" id=\"DejaVuSans-114\"/>\n      <path d=\"M 34.28125 27.484375 \nQ 23.390625 27.484375 19.1875 25 \nQ 14.984375 22.515625 14.984375 16.5 \nQ 14.984375 11.71875 18.140625 8.90625 \nQ 21.296875 6.109375 26.703125 6.109375 \nQ 34.1875 6.109375 38.703125 11.40625 \nQ 43.21875 16.703125 43.21875 25.484375 \nL 43.21875 27.484375 \nz\nM 52.203125 31.203125 \nL 52.203125 0 \nL 43.21875 0 \nL 43.21875 8.296875 \nQ 40.140625 3.328125 35.546875 0.953125 \nQ 30.953125 -1.421875 24.3125 -1.421875 \nQ 15.921875 -1.421875 10.953125 3.296875 \nQ 6 8.015625 6 15.921875 \nQ 6 25.140625 12.171875 29.828125 \nQ 18.359375 34.515625 30.609375 34.515625 \nL 43.21875 34.515625 \nL 43.21875 35.40625 \nQ 43.21875 41.609375 39.140625 45 \nQ 35.0625 48.390625 27.6875 48.390625 \nQ 23 48.390625 18.546875 47.265625 \nQ 14.109375 46.140625 10.015625 43.890625 \nL 10.015625 52.203125 \nQ 14.9375 54.109375 19.578125 55.046875 \nQ 24.21875 56 28.609375 56 \nQ 40.484375 56 46.34375 49.84375 \nQ 52.203125 43.703125 52.203125 31.203125 \nz\n\" id=\"DejaVuSans-97\"/>\n      <path d=\"M 32.171875 -5.078125 \nQ 28.375 -14.84375 24.75 -17.8125 \nQ 21.140625 -20.796875 15.09375 -20.796875 \nL 7.90625 -20.796875 \nL 7.90625 -13.28125 \nL 13.1875 -13.28125 \nQ 16.890625 -13.28125 18.9375 -11.515625 \nQ 21 -9.765625 23.484375 -3.21875 \nL 25.09375 0.875 \nL 2.984375 54.6875 \nL 12.5 54.6875 \nL 29.59375 11.921875 \nL 46.6875 54.6875 \nL 56.203125 54.6875 \nz\n\" id=\"DejaVuSans-121\"/>\n     </defs>\n     <g transform=\"translate(19.3575 224.9625)rotate(-90)scale(0.16 -0.16)\">\n      <use xlink:href=\"#DejaVuSans-65\"/>\n      <use x=\"66.658203\" xlink:href=\"#DejaVuSans-99\"/>\n      <use x=\"121.638672\" xlink:href=\"#DejaVuSans-99\"/>\n      <use x=\"176.619141\" xlink:href=\"#DejaVuSans-117\"/>\n      <use x=\"239.998047\" xlink:href=\"#DejaVuSans-114\"/>\n      <use x=\"281.111328\" xlink:href=\"#DejaVuSans-97\"/>\n      <use x=\"342.390625\" xlink:href=\"#DejaVuSans-99\"/>\n      <use x=\"397.371094\" xlink:href=\"#DejaVuSans-121\"/>\n     </g>\n    </g>\n   </g>\n   <g id=\"line2d_13\">\n    <path clip-path=\"url(#p1fc11d3225)\" d=\"M 69.879034 336.692045 \nL 98.866047 194.312463 \nL 127.85306 146.336347 \nL 156.840073 115.732657 \nL 185.827086 104.757072 \nL 214.814099 92.535786 \nL 243.801112 78.934155 \nL 272.788125 68.328895 \nL 301.775138 60.753738 \nL 330.762151 55.737285 \nL 359.749164 49.407828 \nL 388.736177 47.051113 \nL 417.72319 43.650685 \nL 446.710203 40.182955 \nL 475.697216 48.801783 \n\" style=\"fill:none;stroke:#ff0000;stroke-linecap:square;stroke-width:3;\"/>\n   </g>\n   <g id=\"line2d_14\">\n    <path clip-path=\"url(#p1fc11d3225)\" d=\"M 69.879034 267.503439 \nL 98.866047 208.01714 \nL 127.85306 145.776798 \nL 156.840073 117.961458 \nL 185.827086 133.659215 \nL 214.814099 132.557639 \nL 243.801112 103.916044 \nL 272.788125 101.988256 \nL 301.775138 91.523098 \nL 330.762151 100.611275 \nL 359.749164 109.148644 \nL 388.736177 98.132678 \nL 417.72319 98.95889 \nL 446.710203 160.923787 \nL 475.697216 111.351837 \n\" style=\"fill:none;stroke:#0000ff;stroke-linecap:square;stroke-width:3;\"/>\n   </g>\n   <g id=\"patch_3\">\n    <path d=\"M 49.588125 351.5175 \nL 49.588125 25.3575 \n\" style=\"fill:none;stroke:#000000;stroke-linecap:square;stroke-linejoin:miter;stroke-width:0.8;\"/>\n   </g>\n   <g id=\"patch_4\">\n    <path d=\"M 495.988125 351.5175 \nL 495.988125 25.3575 \n\" style=\"fill:none;stroke:#000000;stroke-linecap:square;stroke-linejoin:miter;stroke-width:0.8;\"/>\n   </g>\n   <g id=\"patch_5\">\n    <path d=\"M 49.588125 351.5175 \nL 495.988125 351.5175 \n\" style=\"fill:none;stroke:#000000;stroke-linecap:square;stroke-linejoin:miter;stroke-width:0.8;\"/>\n   </g>\n   <g id=\"patch_6\">\n    <path d=\"M 49.588125 25.3575 \nL 495.988125 25.3575 \n\" style=\"fill:none;stroke:#000000;stroke-linecap:square;stroke-linejoin:miter;stroke-width:0.8;\"/>\n   </g>\n   <g id=\"text_15\">\n    <!-- Accuracy Curves -->\n    <defs>\n     <path d=\"M 64.40625 67.28125 \nL 64.40625 56.890625 \nQ 59.421875 61.53125 53.78125 63.8125 \nQ 48.140625 66.109375 41.796875 66.109375 \nQ 29.296875 66.109375 22.65625 58.46875 \nQ 16.015625 50.828125 16.015625 36.375 \nQ 16.015625 21.96875 22.65625 14.328125 \nQ 29.296875 6.6875 41.796875 6.6875 \nQ 48.140625 6.6875 53.78125 8.984375 \nQ 59.421875 11.28125 64.40625 15.921875 \nL 64.40625 5.609375 \nQ 59.234375 2.09375 53.4375 0.328125 \nQ 47.65625 -1.421875 41.21875 -1.421875 \nQ 24.65625 -1.421875 15.125 8.703125 \nQ 5.609375 18.84375 5.609375 36.375 \nQ 5.609375 53.953125 15.125 64.078125 \nQ 24.65625 74.21875 41.21875 74.21875 \nQ 47.75 74.21875 53.53125 72.484375 \nQ 59.328125 70.75 64.40625 67.28125 \nz\n\" id=\"DejaVuSans-67\"/>\n     <path d=\"M 2.984375 54.6875 \nL 12.5 54.6875 \nL 29.59375 8.796875 \nL 46.6875 54.6875 \nL 56.203125 54.6875 \nL 35.6875 0 \nL 23.484375 0 \nz\n\" id=\"DejaVuSans-118\"/>\n     <path d=\"M 56.203125 29.59375 \nL 56.203125 25.203125 \nL 14.890625 25.203125 \nQ 15.484375 15.921875 20.484375 11.0625 \nQ 25.484375 6.203125 34.421875 6.203125 \nQ 39.59375 6.203125 44.453125 7.46875 \nQ 49.3125 8.734375 54.109375 11.28125 \nL 54.109375 2.78125 \nQ 49.265625 0.734375 44.1875 -0.34375 \nQ 39.109375 -1.421875 33.890625 -1.421875 \nQ 20.796875 -1.421875 13.15625 6.1875 \nQ 5.515625 13.8125 5.515625 26.8125 \nQ 5.515625 40.234375 12.765625 48.109375 \nQ 20.015625 56 32.328125 56 \nQ 43.359375 56 49.78125 48.890625 \nQ 56.203125 41.796875 56.203125 29.59375 \nz\nM 47.21875 32.234375 \nQ 47.125 39.59375 43.09375 43.984375 \nQ 39.0625 48.390625 32.421875 48.390625 \nQ 24.90625 48.390625 20.390625 44.140625 \nQ 15.875 39.890625 15.1875 32.171875 \nz\n\" id=\"DejaVuSans-101\"/>\n    </defs>\n    <g transform=\"translate(205.950625 19.3575)scale(0.16 -0.16)\">\n     <use xlink:href=\"#DejaVuSans-65\"/>\n     <use x=\"66.658203\" xlink:href=\"#DejaVuSans-99\"/>\n     <use x=\"121.638672\" xlink:href=\"#DejaVuSans-99\"/>\n     <use x=\"176.619141\" xlink:href=\"#DejaVuSans-117\"/>\n     <use x=\"239.998047\" xlink:href=\"#DejaVuSans-114\"/>\n     <use x=\"281.111328\" xlink:href=\"#DejaVuSans-97\"/>\n     <use x=\"342.390625\" xlink:href=\"#DejaVuSans-99\"/>\n     <use x=\"397.371094\" xlink:href=\"#DejaVuSans-121\"/>\n     <use x=\"456.550781\" xlink:href=\"#DejaVuSans-32\"/>\n     <use x=\"488.337891\" xlink:href=\"#DejaVuSans-67\"/>\n     <use x=\"558.162109\" xlink:href=\"#DejaVuSans-117\"/>\n     <use x=\"621.541016\" xlink:href=\"#DejaVuSans-114\"/>\n     <use x=\"662.654297\" xlink:href=\"#DejaVuSans-118\"/>\n     <use x=\"721.833984\" xlink:href=\"#DejaVuSans-101\"/>\n     <use x=\"783.357422\" xlink:href=\"#DejaVuSans-115\"/>\n    </g>\n   </g>\n   <g id=\"legend_1\">\n    <g id=\"patch_7\">\n     <path d=\"M 249 342.5175 \nL 483.388125 342.5175 \nQ 486.988125 342.5175 486.988125 338.9175 \nL 486.988125 287.87625 \nQ 486.988125 284.27625 483.388125 284.27625 \nL 249 284.27625 \nQ 245.4 284.27625 245.4 287.87625 \nL 245.4 338.9175 \nQ 245.4 342.5175 249 342.5175 \nz\n\" style=\"fill:#ffffff;opacity:0.8;stroke:#cccccc;stroke-linejoin:miter;\"/>\n    </g>\n    <g id=\"line2d_15\">\n     <path d=\"M 252.6 298.853437 \nL 288.6 298.853437 \n\" style=\"fill:none;stroke:#ff0000;stroke-linecap:square;stroke-width:3;\"/>\n    </g>\n    <g id=\"line2d_16\"/>\n    <g id=\"text_16\">\n     <!-- Training Accuracy -->\n     <defs>\n      <path d=\"M -0.296875 72.90625 \nL 61.375 72.90625 \nL 61.375 64.59375 \nL 35.5 64.59375 \nL 35.5 0 \nL 25.59375 0 \nL 25.59375 64.59375 \nL -0.296875 64.59375 \nz\n\" id=\"DejaVuSans-84\"/>\n      <path d=\"M 9.421875 54.6875 \nL 18.40625 54.6875 \nL 18.40625 0 \nL 9.421875 0 \nz\nM 9.421875 75.984375 \nL 18.40625 75.984375 \nL 18.40625 64.59375 \nL 9.421875 64.59375 \nz\n\" id=\"DejaVuSans-105\"/>\n      <path d=\"M 54.890625 33.015625 \nL 54.890625 0 \nL 45.90625 0 \nL 45.90625 32.71875 \nQ 45.90625 40.484375 42.875 44.328125 \nQ 39.84375 48.1875 33.796875 48.1875 \nQ 26.515625 48.1875 22.3125 43.546875 \nQ 18.109375 38.921875 18.109375 30.90625 \nL 18.109375 0 \nL 9.078125 0 \nL 9.078125 54.6875 \nL 18.109375 54.6875 \nL 18.109375 46.1875 \nQ 21.34375 51.125 25.703125 53.5625 \nQ 30.078125 56 35.796875 56 \nQ 45.21875 56 50.046875 50.171875 \nQ 54.890625 44.34375 54.890625 33.015625 \nz\n\" id=\"DejaVuSans-110\"/>\n      <path d=\"M 45.40625 27.984375 \nQ 45.40625 37.75 41.375 43.109375 \nQ 37.359375 48.484375 30.078125 48.484375 \nQ 22.859375 48.484375 18.828125 43.109375 \nQ 14.796875 37.75 14.796875 27.984375 \nQ 14.796875 18.265625 18.828125 12.890625 \nQ 22.859375 7.515625 30.078125 7.515625 \nQ 37.359375 7.515625 41.375 12.890625 \nQ 45.40625 18.265625 45.40625 27.984375 \nz\nM 54.390625 6.78125 \nQ 54.390625 -7.171875 48.1875 -13.984375 \nQ 42 -20.796875 29.203125 -20.796875 \nQ 24.46875 -20.796875 20.265625 -20.09375 \nQ 16.0625 -19.390625 12.109375 -17.921875 \nL 12.109375 -9.1875 \nQ 16.0625 -11.328125 19.921875 -12.34375 \nQ 23.78125 -13.375 27.78125 -13.375 \nQ 36.625 -13.375 41.015625 -8.765625 \nQ 45.40625 -4.15625 45.40625 5.171875 \nL 45.40625 9.625 \nQ 42.625 4.78125 38.28125 2.390625 \nQ 33.9375 0 27.875 0 \nQ 17.828125 0 11.671875 7.65625 \nQ 5.515625 15.328125 5.515625 27.984375 \nQ 5.515625 40.671875 11.671875 48.328125 \nQ 17.828125 56 27.875 56 \nQ 33.9375 56 38.28125 53.609375 \nQ 42.625 51.21875 45.40625 46.390625 \nL 45.40625 54.6875 \nL 54.390625 54.6875 \nz\n\" id=\"DejaVuSans-103\"/>\n     </defs>\n     <g transform=\"translate(303 305.153437)scale(0.18 -0.18)\">\n      <use xlink:href=\"#DejaVuSans-84\"/>\n      <use x=\"46.333984\" xlink:href=\"#DejaVuSans-114\"/>\n      <use x=\"87.447266\" xlink:href=\"#DejaVuSans-97\"/>\n      <use x=\"148.726562\" xlink:href=\"#DejaVuSans-105\"/>\n      <use x=\"176.509766\" xlink:href=\"#DejaVuSans-110\"/>\n      <use x=\"239.888672\" xlink:href=\"#DejaVuSans-105\"/>\n      <use x=\"267.671875\" xlink:href=\"#DejaVuSans-110\"/>\n      <use x=\"331.050781\" xlink:href=\"#DejaVuSans-103\"/>\n      <use x=\"394.527344\" xlink:href=\"#DejaVuSans-32\"/>\n      <use x=\"426.314453\" xlink:href=\"#DejaVuSans-65\"/>\n      <use x=\"492.972656\" xlink:href=\"#DejaVuSans-99\"/>\n      <use x=\"547.953125\" xlink:href=\"#DejaVuSans-99\"/>\n      <use x=\"602.933594\" xlink:href=\"#DejaVuSans-117\"/>\n      <use x=\"666.3125\" xlink:href=\"#DejaVuSans-114\"/>\n      <use x=\"707.425781\" xlink:href=\"#DejaVuSans-97\"/>\n      <use x=\"768.705078\" xlink:href=\"#DejaVuSans-99\"/>\n      <use x=\"823.685547\" xlink:href=\"#DejaVuSans-121\"/>\n     </g>\n    </g>\n    <g id=\"line2d_17\">\n     <path d=\"M 252.6 325.274063 \nL 288.6 325.274063 \n\" style=\"fill:none;stroke:#0000ff;stroke-linecap:square;stroke-width:3;\"/>\n    </g>\n    <g id=\"line2d_18\"/>\n    <g id=\"text_17\">\n     <!-- Validation Accuracy -->\n     <defs>\n      <path d=\"M 28.609375 0 \nL 0.78125 72.90625 \nL 11.078125 72.90625 \nL 34.1875 11.53125 \nL 57.328125 72.90625 \nL 67.578125 72.90625 \nL 39.796875 0 \nz\n\" id=\"DejaVuSans-86\"/>\n      <path d=\"M 9.421875 75.984375 \nL 18.40625 75.984375 \nL 18.40625 0 \nL 9.421875 0 \nz\n\" id=\"DejaVuSans-108\"/>\n      <path d=\"M 45.40625 46.390625 \nL 45.40625 75.984375 \nL 54.390625 75.984375 \nL 54.390625 0 \nL 45.40625 0 \nL 45.40625 8.203125 \nQ 42.578125 3.328125 38.25 0.953125 \nQ 33.9375 -1.421875 27.875 -1.421875 \nQ 17.96875 -1.421875 11.734375 6.484375 \nQ 5.515625 14.40625 5.515625 27.296875 \nQ 5.515625 40.1875 11.734375 48.09375 \nQ 17.96875 56 27.875 56 \nQ 33.9375 56 38.25 53.625 \nQ 42.578125 51.265625 45.40625 46.390625 \nz\nM 14.796875 27.296875 \nQ 14.796875 17.390625 18.875 11.75 \nQ 22.953125 6.109375 30.078125 6.109375 \nQ 37.203125 6.109375 41.296875 11.75 \nQ 45.40625 17.390625 45.40625 27.296875 \nQ 45.40625 37.203125 41.296875 42.84375 \nQ 37.203125 48.484375 30.078125 48.484375 \nQ 22.953125 48.484375 18.875 42.84375 \nQ 14.796875 37.203125 14.796875 27.296875 \nz\n\" id=\"DejaVuSans-100\"/>\n      <path d=\"M 18.3125 70.21875 \nL 18.3125 54.6875 \nL 36.8125 54.6875 \nL 36.8125 47.703125 \nL 18.3125 47.703125 \nL 18.3125 18.015625 \nQ 18.3125 11.328125 20.140625 9.421875 \nQ 21.96875 7.515625 27.59375 7.515625 \nL 36.8125 7.515625 \nL 36.8125 0 \nL 27.59375 0 \nQ 17.1875 0 13.234375 3.875 \nQ 9.28125 7.765625 9.28125 18.015625 \nL 9.28125 47.703125 \nL 2.6875 47.703125 \nL 2.6875 54.6875 \nL 9.28125 54.6875 \nL 9.28125 70.21875 \nz\n\" id=\"DejaVuSans-116\"/>\n     </defs>\n     <g transform=\"translate(303 331.574063)scale(0.18 -0.18)\">\n      <use xlink:href=\"#DejaVuSans-86\"/>\n      <use x=\"60.658203\" xlink:href=\"#DejaVuSans-97\"/>\n      <use x=\"121.9375\" xlink:href=\"#DejaVuSans-108\"/>\n      <use x=\"149.720703\" xlink:href=\"#DejaVuSans-105\"/>\n      <use x=\"177.503906\" xlink:href=\"#DejaVuSans-100\"/>\n      <use x=\"240.980469\" xlink:href=\"#DejaVuSans-97\"/>\n      <use x=\"302.259766\" xlink:href=\"#DejaVuSans-116\"/>\n      <use x=\"341.46875\" xlink:href=\"#DejaVuSans-105\"/>\n      <use x=\"369.251953\" xlink:href=\"#DejaVuSans-111\"/>\n      <use x=\"430.433594\" xlink:href=\"#DejaVuSans-110\"/>\n      <use x=\"493.8125\" xlink:href=\"#DejaVuSans-32\"/>\n      <use x=\"525.599609\" xlink:href=\"#DejaVuSans-65\"/>\n      <use x=\"592.257812\" xlink:href=\"#DejaVuSans-99\"/>\n      <use x=\"647.238281\" xlink:href=\"#DejaVuSans-99\"/>\n      <use x=\"702.21875\" xlink:href=\"#DejaVuSans-117\"/>\n      <use x=\"765.597656\" xlink:href=\"#DejaVuSans-114\"/>\n      <use x=\"806.710938\" xlink:href=\"#DejaVuSans-97\"/>\n      <use x=\"867.990234\" xlink:href=\"#DejaVuSans-99\"/>\n      <use x=\"922.970703\" xlink:href=\"#DejaVuSans-121\"/>\n     </g>\n    </g>\n   </g>\n  </g>\n </g>\n <defs>\n  <clipPath id=\"p1fc11d3225\">\n   <rect height=\"326.16\" width=\"446.4\" x=\"49.588125\" y=\"25.3575\"/>\n  </clipPath>\n </defs>\n</svg>\n"
          },
          "metadata": {
            "tags": [],
            "needs_background": "light"
          }
        }
      ]
    },
    {
      "cell_type": "code",
      "metadata": {
        "id": "5bqBvYr_Bz4P",
        "colab_type": "code",
        "colab": {
          "base_uri": "https://localhost:8080/",
          "height": 34
        },
        "outputId": "0e16f667-aa18-4a95-f397-36234014f33a"
      },
      "source": [
        "# Predição por X_test\n",
        "preds2 = model.predict(X_test, verbose=1)"
      ],
      "execution_count": null,
      "outputs": [
        {
          "output_type": "stream",
          "text": [
            "127/127 [==============================] - 26s 202ms/step\n"
          ],
          "name": "stdout"
        }
      ]
    },
    {
      "cell_type": "code",
      "metadata": {
        "id": "Djl1enTZCA1L",
        "colab_type": "code",
        "colab": {
          "base_uri": "https://localhost:8080/",
          "height": 34
        },
        "outputId": "91da8f5d-badf-4a2b-d2c1-cf9e091df22c"
      },
      "source": [
        "#a matrix de confusão, mostrando o rácio de sucesso da ANN\n",
        "print(y_test.shape)\n",
        "\n",
        "y_test= np.array([np.argmax(y) for y in y_test])\n",
        "y_predict=np.array([ np.argmax(p) for p in preds2])"
      ],
      "execution_count": null,
      "outputs": [
        {
          "output_type": "stream",
          "text": [
            "(4050, 10)\n"
          ],
          "name": "stdout"
        }
      ]
    },
    {
      "cell_type": "code",
      "metadata": {
        "id": "nXFCCCpWCFtO",
        "colab_type": "code",
        "colab": {
          "base_uri": "https://localhost:8080/",
          "height": 52
        },
        "outputId": "c7153f28-987c-4d12-9914-4a3212b26ea9"
      },
      "source": [
        "print(y_test.shape)\n",
        "print(y_predict.shape)"
      ],
      "execution_count": null,
      "outputs": [
        {
          "output_type": "stream",
          "text": [
            "(4050,)\n",
            "(4050,)\n"
          ],
          "name": "stdout"
        }
      ]
    },
    {
      "cell_type": "code",
      "metadata": {
        "id": "Lqq3s6ufB2Xa",
        "colab_type": "code",
        "colab": {
          "base_uri": "https://localhost:8080/",
          "height": 480
        },
        "outputId": "73294a00-1aa0-49d3-aeab-cc2b5bcf4384"
      },
      "source": [
        "confusion=confusion_matrix(y_test, y_predict)\n",
        "sns.heatmap(confusion, annot=True, annot_kws={\"size\": 14}, fmt='g', linewidths=.5, \n",
        "            yticklabels='r''f''a''v''h''i''p''c''d''s',xticklabels='r''f''a''v''h''i''p''c''d''s')\n",
        "\n",
        "plt.ylabel('True label')\n",
        "plt.xlabel('Predicted label')"
      ],
      "execution_count": null,
      "outputs": [
        {
          "output_type": "execute_result",
          "data": {
            "text/plain": [
              "Text(0.5, 24.0, 'Predicted label')"
            ]
          },
          "metadata": {
            "tags": []
          },
          "execution_count": 63
        },
        {
          "output_type": "display_data",
          "data": {
            "text/plain": [
              "<Figure size 1152x360 with 2 Axes>"
            ],
            "image/svg+xml": "<?xml version=\"1.0\" encoding=\"utf-8\" standalone=\"no\"?>\n<!DOCTYPE svg PUBLIC \"-//W3C//DTD SVG 1.1//EN\"\n  \"http://www.w3.org/Graphics/SVG/1.1/DTD/svg11.dtd\">\n<!-- Created with matplotlib (https://matplotlib.org/) -->\n<svg height=\"316.55625pt\" version=\"1.1\" viewBox=\"0 0 843.31375 316.55625\" width=\"843.31375pt\" xmlns=\"http://www.w3.org/2000/svg\" xmlns:xlink=\"http://www.w3.org/1999/xlink\">\n <defs>\n  <style type=\"text/css\">\n*{stroke-linecap:butt;stroke-linejoin:round;}\n  </style>\n </defs>\n <g id=\"figure_1\">\n  <g id=\"patch_1\">\n   <path d=\"M 0 316.55625 \nL 843.31375 316.55625 \nL 843.31375 0 \nL 0 0 \nz\n\" style=\"fill:none;\"/>\n  </g>\n  <g id=\"axes_1\">\n   <g id=\"patch_2\">\n    <path d=\"M 37.55625 279 \nL 751.79625 279 \nL 751.79625 7.2 \nL 37.55625 7.2 \nz\n\" style=\"fill:#ffffff;\"/>\n   </g>\n   <g id=\"QuadMesh_1\">\n    <path clip-path=\"url(#p545b444bb4)\" d=\"M 37.55625 7.2 \nL 108.98025 7.2 \nL 108.98025 34.38 \nL 37.55625 34.38 \nL 37.55625 7.2 \n\" style=\"fill:#eb483e;stroke:#ffffff;stroke-width:0.5;\"/>\n    <path clip-path=\"url(#p545b444bb4)\" d=\"M 108.98025 7.2 \nL 180.40425 7.2 \nL 180.40425 34.38 \nL 108.98025 34.38 \nL 108.98025 7.2 \n\" style=\"fill:#04051a;stroke:#ffffff;stroke-width:0.5;\"/>\n    <path clip-path=\"url(#p545b444bb4)\" d=\"M 180.40425 7.2 \nL 251.82825 7.2 \nL 251.82825 34.38 \nL 180.40425 34.38 \nL 180.40425 7.2 \n\" style=\"fill:#281535;stroke:#ffffff;stroke-width:0.5;\"/>\n    <path clip-path=\"url(#p545b444bb4)\" d=\"M 251.82825 7.2 \nL 323.25225 7.2 \nL 323.25225 34.38 \nL 251.82825 34.38 \nL 251.82825 7.2 \n\" style=\"fill:#06071c;stroke:#ffffff;stroke-width:0.5;\"/>\n    <path clip-path=\"url(#p545b444bb4)\" d=\"M 323.25225 7.2 \nL 394.67625 7.2 \nL 394.67625 34.38 \nL 323.25225 34.38 \nL 323.25225 7.2 \n\" style=\"fill:#06071c;stroke:#ffffff;stroke-width:0.5;\"/>\n    <path clip-path=\"url(#p545b444bb4)\" d=\"M 394.67625 7.2 \nL 466.10025 7.2 \nL 466.10025 34.38 \nL 394.67625 34.38 \nL 394.67625 7.2 \n\" style=\"fill:#03051a;stroke:#ffffff;stroke-width:0.5;\"/>\n    <path clip-path=\"url(#p545b444bb4)\" d=\"M 466.10025 7.2 \nL 537.52425 7.2 \nL 537.52425 34.38 \nL 466.10025 34.38 \nL 466.10025 7.2 \n\" style=\"fill:#08081e;stroke:#ffffff;stroke-width:0.5;\"/>\n    <path clip-path=\"url(#p545b444bb4)\" d=\"M 537.52425 7.2 \nL 608.94825 7.2 \nL 608.94825 34.38 \nL 537.52425 34.38 \nL 537.52425 7.2 \n\" style=\"fill:#05061b;stroke:#ffffff;stroke-width:0.5;\"/>\n    <path clip-path=\"url(#p545b444bb4)\" d=\"M 608.94825 7.2 \nL 680.37225 7.2 \nL 680.37225 34.38 \nL 608.94825 34.38 \nL 608.94825 7.2 \n\" style=\"fill:#03051a;stroke:#ffffff;stroke-width:0.5;\"/>\n    <path clip-path=\"url(#p545b444bb4)\" d=\"M 680.37225 7.2 \nL 751.79625 7.2 \nL 751.79625 34.38 \nL 680.37225 34.38 \nL 680.37225 7.2 \n\" style=\"fill:#03051a;stroke:#ffffff;stroke-width:0.5;\"/>\n    <path clip-path=\"url(#p545b444bb4)\" d=\"M 37.55625 34.38 \nL 108.98025 34.38 \nL 108.98025 61.56 \nL 37.55625 61.56 \nL 37.55625 34.38 \n\" style=\"fill:#03051a;stroke:#ffffff;stroke-width:0.5;\"/>\n    <path clip-path=\"url(#p545b444bb4)\" d=\"M 108.98025 34.38 \nL 180.40425 34.38 \nL 180.40425 61.56 \nL 108.98025 61.56 \nL 108.98025 34.38 \n\" style=\"fill:#fae8d8;stroke:#ffffff;stroke-width:0.5;\"/>\n    <path clip-path=\"url(#p545b444bb4)\" d=\"M 180.40425 34.38 \nL 251.82825 34.38 \nL 251.82825 61.56 \nL 180.40425 61.56 \nL 180.40425 34.38 \n\" style=\"fill:#03051a;stroke:#ffffff;stroke-width:0.5;\"/>\n    <path clip-path=\"url(#p545b444bb4)\" d=\"M 251.82825 34.38 \nL 323.25225 34.38 \nL 323.25225 61.56 \nL 251.82825 61.56 \nL 251.82825 34.38 \n\" style=\"fill:#100b23;stroke:#ffffff;stroke-width:0.5;\"/>\n    <path clip-path=\"url(#p545b444bb4)\" d=\"M 323.25225 34.38 \nL 394.67625 34.38 \nL 394.67625 61.56 \nL 323.25225 61.56 \nL 323.25225 34.38 \n\" style=\"fill:#03051a;stroke:#ffffff;stroke-width:0.5;\"/>\n    <path clip-path=\"url(#p545b444bb4)\" d=\"M 394.67625 34.38 \nL 466.10025 34.38 \nL 466.10025 61.56 \nL 394.67625 61.56 \nL 394.67625 34.38 \n\" style=\"fill:#03051a;stroke:#ffffff;stroke-width:0.5;\"/>\n    <path clip-path=\"url(#p545b444bb4)\" d=\"M 466.10025 34.38 \nL 537.52425 34.38 \nL 537.52425 61.56 \nL 466.10025 61.56 \nL 466.10025 34.38 \n\" style=\"fill:#03051a;stroke:#ffffff;stroke-width:0.5;\"/>\n    <path clip-path=\"url(#p545b444bb4)\" d=\"M 537.52425 34.38 \nL 608.94825 34.38 \nL 608.94825 61.56 \nL 537.52425 61.56 \nL 537.52425 34.38 \n\" style=\"fill:#03051a;stroke:#ffffff;stroke-width:0.5;\"/>\n    <path clip-path=\"url(#p545b444bb4)\" d=\"M 608.94825 34.38 \nL 680.37225 34.38 \nL 680.37225 61.56 \nL 608.94825 61.56 \nL 608.94825 34.38 \n\" style=\"fill:#03051a;stroke:#ffffff;stroke-width:0.5;\"/>\n    <path clip-path=\"url(#p545b444bb4)\" d=\"M 680.37225 34.38 \nL 751.79625 34.38 \nL 751.79625 61.56 \nL 680.37225 61.56 \nL 680.37225 34.38 \n\" style=\"fill:#03051a;stroke:#ffffff;stroke-width:0.5;\"/>\n    <path clip-path=\"url(#p545b444bb4)\" d=\"M 37.55625 61.56 \nL 108.98025 61.56 \nL 108.98025 88.74 \nL 37.55625 88.74 \nL 37.55625 61.56 \n\" style=\"fill:#04051a;stroke:#ffffff;stroke-width:0.5;\"/>\n    <path clip-path=\"url(#p545b444bb4)\" d=\"M 108.98025 61.56 \nL 180.40425 61.56 \nL 180.40425 88.74 \nL 108.98025 88.74 \nL 108.98025 61.56 \n\" style=\"fill:#03051a;stroke:#ffffff;stroke-width:0.5;\"/>\n    <path clip-path=\"url(#p545b444bb4)\" d=\"M 180.40425 61.56 \nL 251.82825 61.56 \nL 251.82825 88.74 \nL 180.40425 88.74 \nL 180.40425 61.56 \n\" style=\"fill:#faebdd;stroke:#ffffff;stroke-width:0.5;\"/>\n    <path clip-path=\"url(#p545b444bb4)\" d=\"M 251.82825 61.56 \nL 323.25225 61.56 \nL 323.25225 88.74 \nL 251.82825 88.74 \nL 251.82825 61.56 \n\" style=\"fill:#06071c;stroke:#ffffff;stroke-width:0.5;\"/>\n    <path clip-path=\"url(#p545b444bb4)\" d=\"M 323.25225 61.56 \nL 394.67625 61.56 \nL 394.67625 88.74 \nL 323.25225 88.74 \nL 323.25225 61.56 \n\" style=\"fill:#03051a;stroke:#ffffff;stroke-width:0.5;\"/>\n    <path clip-path=\"url(#p545b444bb4)\" d=\"M 394.67625 61.56 \nL 466.10025 61.56 \nL 466.10025 88.74 \nL 394.67625 88.74 \nL 394.67625 61.56 \n\" style=\"fill:#03051a;stroke:#ffffff;stroke-width:0.5;\"/>\n    <path clip-path=\"url(#p545b444bb4)\" d=\"M 466.10025 61.56 \nL 537.52425 61.56 \nL 537.52425 88.74 \nL 466.10025 88.74 \nL 466.10025 61.56 \n\" style=\"fill:#08081e;stroke:#ffffff;stroke-width:0.5;\"/>\n    <path clip-path=\"url(#p545b444bb4)\" d=\"M 537.52425 61.56 \nL 608.94825 61.56 \nL 608.94825 88.74 \nL 537.52425 88.74 \nL 537.52425 61.56 \n\" style=\"fill:#05061b;stroke:#ffffff;stroke-width:0.5;\"/>\n    <path clip-path=\"url(#p545b444bb4)\" d=\"M 608.94825 61.56 \nL 680.37225 61.56 \nL 680.37225 88.74 \nL 608.94825 88.74 \nL 608.94825 61.56 \n\" style=\"fill:#03051a;stroke:#ffffff;stroke-width:0.5;\"/>\n    <path clip-path=\"url(#p545b444bb4)\" d=\"M 680.37225 61.56 \nL 751.79625 61.56 \nL 751.79625 88.74 \nL 680.37225 88.74 \nL 680.37225 61.56 \n\" style=\"fill:#04051a;stroke:#ffffff;stroke-width:0.5;\"/>\n    <path clip-path=\"url(#p545b444bb4)\" d=\"M 37.55625 88.74 \nL 108.98025 88.74 \nL 108.98025 115.92 \nL 37.55625 115.92 \nL 37.55625 88.74 \n\" style=\"fill:#04051a;stroke:#ffffff;stroke-width:0.5;\"/>\n    <path clip-path=\"url(#p545b444bb4)\" d=\"M 108.98025 88.74 \nL 180.40425 88.74 \nL 180.40425 115.92 \nL 108.98025 115.92 \nL 108.98025 88.74 \n\" style=\"fill:#04051a;stroke:#ffffff;stroke-width:0.5;\"/>\n    <path clip-path=\"url(#p545b444bb4)\" d=\"M 180.40425 88.74 \nL 251.82825 88.74 \nL 251.82825 115.92 \nL 180.40425 115.92 \nL 180.40425 88.74 \n\" style=\"fill:#06071c;stroke:#ffffff;stroke-width:0.5;\"/>\n    <path clip-path=\"url(#p545b444bb4)\" d=\"M 251.82825 88.74 \nL 323.25225 88.74 \nL 323.25225 115.92 \nL 251.82825 115.92 \nL 251.82825 88.74 \n\" style=\"fill:#f69c73;stroke:#ffffff;stroke-width:0.5;\"/>\n    <path clip-path=\"url(#p545b444bb4)\" d=\"M 323.25225 88.74 \nL 394.67625 88.74 \nL 394.67625 115.92 \nL 323.25225 115.92 \nL 323.25225 88.74 \n\" style=\"fill:#05061b;stroke:#ffffff;stroke-width:0.5;\"/>\n    <path clip-path=\"url(#p545b444bb4)\" d=\"M 394.67625 88.74 \nL 466.10025 88.74 \nL 466.10025 115.92 \nL 394.67625 115.92 \nL 394.67625 88.74 \n\" style=\"fill:#05061b;stroke:#ffffff;stroke-width:0.5;\"/>\n    <path clip-path=\"url(#p545b444bb4)\" d=\"M 466.10025 88.74 \nL 537.52425 88.74 \nL 537.52425 115.92 \nL 466.10025 115.92 \nL 466.10025 88.74 \n\" style=\"fill:#03051a;stroke:#ffffff;stroke-width:0.5;\"/>\n    <path clip-path=\"url(#p545b444bb4)\" d=\"M 537.52425 88.74 \nL 608.94825 88.74 \nL 608.94825 115.92 \nL 537.52425 115.92 \nL 537.52425 88.74 \n\" style=\"fill:#1b112b;stroke:#ffffff;stroke-width:0.5;\"/>\n    <path clip-path=\"url(#p545b444bb4)\" d=\"M 608.94825 88.74 \nL 680.37225 88.74 \nL 680.37225 115.92 \nL 608.94825 115.92 \nL 608.94825 88.74 \n\" style=\"fill:#04051a;stroke:#ffffff;stroke-width:0.5;\"/>\n    <path clip-path=\"url(#p545b444bb4)\" d=\"M 680.37225 88.74 \nL 751.79625 88.74 \nL 751.79625 115.92 \nL 680.37225 115.92 \nL 680.37225 88.74 \n\" style=\"fill:#03051a;stroke:#ffffff;stroke-width:0.5;\"/>\n    <path clip-path=\"url(#p545b444bb4)\" d=\"M 37.55625 115.92 \nL 108.98025 115.92 \nL 108.98025 143.1 \nL 37.55625 143.1 \nL 37.55625 115.92 \n\" style=\"fill:#100b23;stroke:#ffffff;stroke-width:0.5;\"/>\n    <path clip-path=\"url(#p545b444bb4)\" d=\"M 108.98025 115.92 \nL 180.40425 115.92 \nL 180.40425 143.1 \nL 108.98025 143.1 \nL 108.98025 115.92 \n\" style=\"fill:#03051a;stroke:#ffffff;stroke-width:0.5;\"/>\n    <path clip-path=\"url(#p545b444bb4)\" d=\"M 180.40425 115.92 \nL 251.82825 115.92 \nL 251.82825 143.1 \nL 180.40425 143.1 \nL 180.40425 115.92 \n\" style=\"fill:#180f29;stroke:#ffffff;stroke-width:0.5;\"/>\n    <path clip-path=\"url(#p545b444bb4)\" d=\"M 251.82825 115.92 \nL 323.25225 115.92 \nL 323.25225 143.1 \nL 251.82825 143.1 \nL 251.82825 115.92 \n\" style=\"fill:#100b23;stroke:#ffffff;stroke-width:0.5;\"/>\n    <path clip-path=\"url(#p545b444bb4)\" d=\"M 323.25225 115.92 \nL 394.67625 115.92 \nL 394.67625 143.1 \nL 323.25225 143.1 \nL 323.25225 115.92 \n\" style=\"fill:#e53940;stroke:#ffffff;stroke-width:0.5;\"/>\n    <path clip-path=\"url(#p545b444bb4)\" d=\"M 394.67625 115.92 \nL 466.10025 115.92 \nL 466.10025 143.1 \nL 394.67625 143.1 \nL 394.67625 115.92 \n\" style=\"fill:#06071c;stroke:#ffffff;stroke-width:0.5;\"/>\n    <path clip-path=\"url(#p545b444bb4)\" d=\"M 466.10025 115.92 \nL 537.52425 115.92 \nL 537.52425 143.1 \nL 466.10025 143.1 \nL 466.10025 115.92 \n\" style=\"fill:#0a091f;stroke:#ffffff;stroke-width:0.5;\"/>\n    <path clip-path=\"url(#p545b444bb4)\" d=\"M 537.52425 115.92 \nL 608.94825 115.92 \nL 608.94825 143.1 \nL 537.52425 143.1 \nL 537.52425 115.92 \n\" style=\"fill:#0e0b22;stroke:#ffffff;stroke-width:0.5;\"/>\n    <path clip-path=\"url(#p545b444bb4)\" d=\"M 608.94825 115.92 \nL 680.37225 115.92 \nL 680.37225 143.1 \nL 608.94825 143.1 \nL 608.94825 115.92 \n\" style=\"fill:#05061b;stroke:#ffffff;stroke-width:0.5;\"/>\n    <path clip-path=\"url(#p545b444bb4)\" d=\"M 680.37225 115.92 \nL 751.79625 115.92 \nL 751.79625 143.1 \nL 680.37225 143.1 \nL 680.37225 115.92 \n\" style=\"fill:#03051a;stroke:#ffffff;stroke-width:0.5;\"/>\n    <path clip-path=\"url(#p545b444bb4)\" d=\"M 37.55625 143.1 \nL 108.98025 143.1 \nL 108.98025 170.28 \nL 37.55625 170.28 \nL 37.55625 143.1 \n\" style=\"fill:#04051a;stroke:#ffffff;stroke-width:0.5;\"/>\n    <path clip-path=\"url(#p545b444bb4)\" d=\"M 108.98025 143.1 \nL 180.40425 143.1 \nL 180.40425 170.28 \nL 108.98025 170.28 \nL 108.98025 143.1 \n\" style=\"fill:#03051a;stroke:#ffffff;stroke-width:0.5;\"/>\n    <path clip-path=\"url(#p545b444bb4)\" d=\"M 180.40425 143.1 \nL 251.82825 143.1 \nL 251.82825 170.28 \nL 180.40425 170.28 \nL 180.40425 143.1 \n\" style=\"fill:#03051a;stroke:#ffffff;stroke-width:0.5;\"/>\n    <path clip-path=\"url(#p545b444bb4)\" d=\"M 251.82825 143.1 \nL 323.25225 143.1 \nL 323.25225 170.28 \nL 251.82825 170.28 \nL 251.82825 143.1 \n\" style=\"fill:#06071c;stroke:#ffffff;stroke-width:0.5;\"/>\n    <path clip-path=\"url(#p545b444bb4)\" d=\"M 323.25225 143.1 \nL 394.67625 143.1 \nL 394.67625 170.28 \nL 323.25225 170.28 \nL 323.25225 143.1 \n\" style=\"fill:#08081e;stroke:#ffffff;stroke-width:0.5;\"/>\n    <path clip-path=\"url(#p545b444bb4)\" d=\"M 394.67625 143.1 \nL 466.10025 143.1 \nL 466.10025 170.28 \nL 394.67625 170.28 \nL 394.67625 143.1 \n\" style=\"fill:#f5976e;stroke:#ffffff;stroke-width:0.5;\"/>\n    <path clip-path=\"url(#p545b444bb4)\" d=\"M 466.10025 143.1 \nL 537.52425 143.1 \nL 537.52425 170.28 \nL 466.10025 170.28 \nL 466.10025 143.1 \n\" style=\"fill:#03051a;stroke:#ffffff;stroke-width:0.5;\"/>\n    <path clip-path=\"url(#p545b444bb4)\" d=\"M 537.52425 143.1 \nL 608.94825 143.1 \nL 608.94825 170.28 \nL 537.52425 170.28 \nL 537.52425 143.1 \n\" style=\"fill:#110c24;stroke:#ffffff;stroke-width:0.5;\"/>\n    <path clip-path=\"url(#p545b444bb4)\" d=\"M 608.94825 143.1 \nL 680.37225 143.1 \nL 680.37225 170.28 \nL 608.94825 170.28 \nL 608.94825 143.1 \n\" style=\"fill:#110c24;stroke:#ffffff;stroke-width:0.5;\"/>\n    <path clip-path=\"url(#p545b444bb4)\" d=\"M 680.37225 143.1 \nL 751.79625 143.1 \nL 751.79625 170.28 \nL 680.37225 170.28 \nL 680.37225 143.1 \n\" style=\"fill:#03051a;stroke:#ffffff;stroke-width:0.5;\"/>\n    <path clip-path=\"url(#p545b444bb4)\" d=\"M 37.55625 170.28 \nL 108.98025 170.28 \nL 108.98025 197.46 \nL 37.55625 197.46 \nL 37.55625 170.28 \n\" style=\"fill:#04051a;stroke:#ffffff;stroke-width:0.5;\"/>\n    <path clip-path=\"url(#p545b444bb4)\" d=\"M 108.98025 170.28 \nL 180.40425 170.28 \nL 180.40425 197.46 \nL 108.98025 197.46 \nL 108.98025 170.28 \n\" style=\"fill:#05061b;stroke:#ffffff;stroke-width:0.5;\"/>\n    <path clip-path=\"url(#p545b444bb4)\" d=\"M 180.40425 170.28 \nL 251.82825 170.28 \nL 251.82825 197.46 \nL 180.40425 197.46 \nL 180.40425 170.28 \n\" style=\"fill:#110c24;stroke:#ffffff;stroke-width:0.5;\"/>\n    <path clip-path=\"url(#p545b444bb4)\" d=\"M 251.82825 170.28 \nL 323.25225 170.28 \nL 323.25225 197.46 \nL 251.82825 197.46 \nL 251.82825 170.28 \n\" style=\"fill:#130d25;stroke:#ffffff;stroke-width:0.5;\"/>\n    <path clip-path=\"url(#p545b444bb4)\" d=\"M 323.25225 170.28 \nL 394.67625 170.28 \nL 394.67625 197.46 \nL 323.25225 197.46 \nL 323.25225 170.28 \n\" style=\"fill:#03051a;stroke:#ffffff;stroke-width:0.5;\"/>\n    <path clip-path=\"url(#p545b444bb4)\" d=\"M 394.67625 170.28 \nL 466.10025 170.28 \nL 466.10025 197.46 \nL 394.67625 197.46 \nL 394.67625 170.28 \n\" style=\"fill:#03051a;stroke:#ffffff;stroke-width:0.5;\"/>\n    <path clip-path=\"url(#p545b444bb4)\" d=\"M 466.10025 170.28 \nL 537.52425 170.28 \nL 537.52425 197.46 \nL 466.10025 197.46 \nL 466.10025 170.28 \n\" style=\"fill:#d62449;stroke:#ffffff;stroke-width:0.5;\"/>\n    <path clip-path=\"url(#p545b444bb4)\" d=\"M 537.52425 170.28 \nL 608.94825 170.28 \nL 608.94825 197.46 \nL 537.52425 197.46 \nL 537.52425 170.28 \n\" style=\"fill:#0b0920;stroke:#ffffff;stroke-width:0.5;\"/>\n    <path clip-path=\"url(#p545b444bb4)\" d=\"M 608.94825 170.28 \nL 680.37225 170.28 \nL 680.37225 197.46 \nL 608.94825 197.46 \nL 608.94825 170.28 \n\" style=\"fill:#03051a;stroke:#ffffff;stroke-width:0.5;\"/>\n    <path clip-path=\"url(#p545b444bb4)\" d=\"M 680.37225 170.28 \nL 751.79625 170.28 \nL 751.79625 197.46 \nL 680.37225 197.46 \nL 680.37225 170.28 \n\" style=\"fill:#04051a;stroke:#ffffff;stroke-width:0.5;\"/>\n    <path clip-path=\"url(#p545b444bb4)\" d=\"M 37.55625 197.46 \nL 108.98025 197.46 \nL 108.98025 224.64 \nL 37.55625 224.64 \nL 37.55625 197.46 \n\" style=\"fill:#03051a;stroke:#ffffff;stroke-width:0.5;\"/>\n    <path clip-path=\"url(#p545b444bb4)\" d=\"M 108.98025 197.46 \nL 180.40425 197.46 \nL 180.40425 224.64 \nL 108.98025 224.64 \nL 108.98025 197.46 \n\" style=\"fill:#03051a;stroke:#ffffff;stroke-width:0.5;\"/>\n    <path clip-path=\"url(#p545b444bb4)\" d=\"M 180.40425 197.46 \nL 251.82825 197.46 \nL 251.82825 224.64 \nL 180.40425 224.64 \nL 180.40425 197.46 \n\" style=\"fill:#130d25;stroke:#ffffff;stroke-width:0.5;\"/>\n    <path clip-path=\"url(#p545b444bb4)\" d=\"M 251.82825 197.46 \nL 323.25225 197.46 \nL 323.25225 224.64 \nL 251.82825 224.64 \nL 251.82825 197.46 \n\" style=\"fill:#221331;stroke:#ffffff;stroke-width:0.5;\"/>\n    <path clip-path=\"url(#p545b444bb4)\" d=\"M 323.25225 197.46 \nL 394.67625 197.46 \nL 394.67625 224.64 \nL 323.25225 224.64 \nL 323.25225 197.46 \n\" style=\"fill:#06071c;stroke:#ffffff;stroke-width:0.5;\"/>\n    <path clip-path=\"url(#p545b444bb4)\" d=\"M 394.67625 197.46 \nL 466.10025 197.46 \nL 466.10025 224.64 \nL 394.67625 224.64 \nL 394.67625 197.46 \n\" style=\"fill:#04051a;stroke:#ffffff;stroke-width:0.5;\"/>\n    <path clip-path=\"url(#p545b444bb4)\" d=\"M 466.10025 197.46 \nL 537.52425 197.46 \nL 537.52425 224.64 \nL 466.10025 224.64 \nL 466.10025 197.46 \n\" style=\"fill:#03051a;stroke:#ffffff;stroke-width:0.5;\"/>\n    <path clip-path=\"url(#p545b444bb4)\" d=\"M 537.52425 197.46 \nL 608.94825 197.46 \nL 608.94825 224.64 \nL 537.52425 224.64 \nL 537.52425 197.46 \n\" style=\"fill:#e53940;stroke:#ffffff;stroke-width:0.5;\"/>\n    <path clip-path=\"url(#p545b444bb4)\" d=\"M 608.94825 197.46 \nL 680.37225 197.46 \nL 680.37225 224.64 \nL 608.94825 224.64 \nL 608.94825 197.46 \n\" style=\"fill:#03051a;stroke:#ffffff;stroke-width:0.5;\"/>\n    <path clip-path=\"url(#p545b444bb4)\" d=\"M 680.37225 197.46 \nL 751.79625 197.46 \nL 751.79625 224.64 \nL 680.37225 224.64 \nL 680.37225 197.46 \n\" style=\"fill:#03051a;stroke:#ffffff;stroke-width:0.5;\"/>\n    <path clip-path=\"url(#p545b444bb4)\" d=\"M 37.55625 224.64 \nL 108.98025 224.64 \nL 108.98025 251.82 \nL 37.55625 251.82 \nL 37.55625 224.64 \n\" style=\"fill:#03051a;stroke:#ffffff;stroke-width:0.5;\"/>\n    <path clip-path=\"url(#p545b444bb4)\" d=\"M 108.98025 224.64 \nL 180.40425 224.64 \nL 180.40425 251.82 \nL 108.98025 251.82 \nL 108.98025 224.64 \n\" style=\"fill:#03051a;stroke:#ffffff;stroke-width:0.5;\"/>\n    <path clip-path=\"url(#p545b444bb4)\" d=\"M 180.40425 224.64 \nL 251.82825 224.64 \nL 251.82825 251.82 \nL 180.40425 251.82 \nL 180.40425 224.64 \n\" style=\"fill:#03051a;stroke:#ffffff;stroke-width:0.5;\"/>\n    <path clip-path=\"url(#p545b444bb4)\" d=\"M 251.82825 224.64 \nL 323.25225 224.64 \nL 323.25225 251.82 \nL 251.82825 251.82 \nL 251.82825 224.64 \n\" style=\"fill:#06071c;stroke:#ffffff;stroke-width:0.5;\"/>\n    <path clip-path=\"url(#p545b444bb4)\" d=\"M 323.25225 224.64 \nL 394.67625 224.64 \nL 394.67625 251.82 \nL 323.25225 251.82 \nL 323.25225 224.64 \n\" style=\"fill:#03051a;stroke:#ffffff;stroke-width:0.5;\"/>\n    <path clip-path=\"url(#p545b444bb4)\" d=\"M 394.67625 224.64 \nL 466.10025 224.64 \nL 466.10025 251.82 \nL 394.67625 251.82 \nL 394.67625 224.64 \n\" style=\"fill:#07071d;stroke:#ffffff;stroke-width:0.5;\"/>\n    <path clip-path=\"url(#p545b444bb4)\" d=\"M 466.10025 224.64 \nL 537.52425 224.64 \nL 537.52425 251.82 \nL 466.10025 251.82 \nL 466.10025 224.64 \n\" style=\"fill:#03051a;stroke:#ffffff;stroke-width:0.5;\"/>\n    <path clip-path=\"url(#p545b444bb4)\" d=\"M 537.52425 224.64 \nL 608.94825 224.64 \nL 608.94825 251.82 \nL 537.52425 251.82 \nL 537.52425 224.64 \n\" style=\"fill:#03051a;stroke:#ffffff;stroke-width:0.5;\"/>\n    <path clip-path=\"url(#p545b444bb4)\" d=\"M 608.94825 224.64 \nL 680.37225 224.64 \nL 680.37225 251.82 \nL 608.94825 251.82 \nL 608.94825 224.64 \n\" style=\"fill:#f8d4bc;stroke:#ffffff;stroke-width:0.5;\"/>\n    <path clip-path=\"url(#p545b444bb4)\" d=\"M 680.37225 224.64 \nL 751.79625 224.64 \nL 751.79625 251.82 \nL 680.37225 251.82 \nL 680.37225 224.64 \n\" style=\"fill:#03051a;stroke:#ffffff;stroke-width:0.5;\"/>\n    <path clip-path=\"url(#p545b444bb4)\" d=\"M 37.55625 251.82 \nL 108.98025 251.82 \nL 108.98025 279 \nL 37.55625 279 \nL 37.55625 251.82 \n\" style=\"fill:#03051a;stroke:#ffffff;stroke-width:0.5;\"/>\n    <path clip-path=\"url(#p545b444bb4)\" d=\"M 108.98025 251.82 \nL 180.40425 251.82 \nL 180.40425 279 \nL 108.98025 279 \nL 108.98025 251.82 \n\" style=\"fill:#05061b;stroke:#ffffff;stroke-width:0.5;\"/>\n    <path clip-path=\"url(#p545b444bb4)\" d=\"M 180.40425 251.82 \nL 251.82825 251.82 \nL 251.82825 279 \nL 180.40425 279 \nL 180.40425 251.82 \n\" style=\"fill:#05061b;stroke:#ffffff;stroke-width:0.5;\"/>\n    <path clip-path=\"url(#p545b444bb4)\" d=\"M 251.82825 251.82 \nL 323.25225 251.82 \nL 323.25225 279 \nL 251.82825 279 \nL 251.82825 251.82 \n\" style=\"fill:#03051a;stroke:#ffffff;stroke-width:0.5;\"/>\n    <path clip-path=\"url(#p545b444bb4)\" d=\"M 323.25225 251.82 \nL 394.67625 251.82 \nL 394.67625 279 \nL 323.25225 279 \nL 323.25225 251.82 \n\" style=\"fill:#03051a;stroke:#ffffff;stroke-width:0.5;\"/>\n    <path clip-path=\"url(#p545b444bb4)\" d=\"M 394.67625 251.82 \nL 466.10025 251.82 \nL 466.10025 279 \nL 394.67625 279 \nL 394.67625 251.82 \n\" style=\"fill:#03051a;stroke:#ffffff;stroke-width:0.5;\"/>\n    <path clip-path=\"url(#p545b444bb4)\" d=\"M 466.10025 251.82 \nL 537.52425 251.82 \nL 537.52425 279 \nL 466.10025 279 \nL 466.10025 251.82 \n\" style=\"fill:#03051a;stroke:#ffffff;stroke-width:0.5;\"/>\n    <path clip-path=\"url(#p545b444bb4)\" d=\"M 537.52425 251.82 \nL 608.94825 251.82 \nL 608.94825 279 \nL 537.52425 279 \nL 537.52425 251.82 \n\" style=\"fill:#03051a;stroke:#ffffff;stroke-width:0.5;\"/>\n    <path clip-path=\"url(#p545b444bb4)\" d=\"M 608.94825 251.82 \nL 680.37225 251.82 \nL 680.37225 279 \nL 608.94825 279 \nL 608.94825 251.82 \n\" style=\"fill:#03051a;stroke:#ffffff;stroke-width:0.5;\"/>\n    <path clip-path=\"url(#p545b444bb4)\" d=\"M 680.37225 251.82 \nL 751.79625 251.82 \nL 751.79625 279 \nL 680.37225 279 \nL 680.37225 251.82 \n\" style=\"fill:#f9e5d4;stroke:#ffffff;stroke-width:0.5;\"/>\n   </g>\n   <g id=\"matplotlib.axis_1\">\n    <g id=\"xtick_1\">\n     <g id=\"line2d_1\">\n      <defs>\n       <path d=\"M 0 0 \nL 0 3.5 \n\" id=\"md7a60a84f2\" style=\"stroke:#000000;stroke-width:0.8;\"/>\n      </defs>\n      <g>\n       <use style=\"stroke:#000000;stroke-width:0.8;\" x=\"73.26825\" xlink:href=\"#md7a60a84f2\" y=\"279\"/>\n      </g>\n     </g>\n     <g id=\"text_1\">\n      <!-- r -->\n      <defs>\n       <path d=\"M 41.109375 46.296875 \nQ 39.59375 47.171875 37.8125 47.578125 \nQ 36.03125 48 33.890625 48 \nQ 26.265625 48 22.1875 43.046875 \nQ 18.109375 38.09375 18.109375 28.8125 \nL 18.109375 0 \nL 9.078125 0 \nL 9.078125 54.6875 \nL 18.109375 54.6875 \nL 18.109375 46.1875 \nQ 20.953125 51.171875 25.484375 53.578125 \nQ 30.03125 56 36.53125 56 \nQ 37.453125 56 38.578125 55.875 \nQ 39.703125 55.765625 41.0625 55.515625 \nz\n\" id=\"DejaVuSans-114\"/>\n      </defs>\n      <g transform=\"translate(71.212781 293.598437)scale(0.1 -0.1)\">\n       <use xlink:href=\"#DejaVuSans-114\"/>\n      </g>\n     </g>\n    </g>\n    <g id=\"xtick_2\">\n     <g id=\"line2d_2\">\n      <g>\n       <use style=\"stroke:#000000;stroke-width:0.8;\" x=\"144.69225\" xlink:href=\"#md7a60a84f2\" y=\"279\"/>\n      </g>\n     </g>\n     <g id=\"text_2\">\n      <!-- f -->\n      <defs>\n       <path d=\"M 37.109375 75.984375 \nL 37.109375 68.5 \nL 28.515625 68.5 \nQ 23.6875 68.5 21.796875 66.546875 \nQ 19.921875 64.59375 19.921875 59.515625 \nL 19.921875 54.6875 \nL 34.71875 54.6875 \nL 34.71875 47.703125 \nL 19.921875 47.703125 \nL 19.921875 0 \nL 10.890625 0 \nL 10.890625 47.703125 \nL 2.296875 47.703125 \nL 2.296875 54.6875 \nL 10.890625 54.6875 \nL 10.890625 58.5 \nQ 10.890625 67.625 15.140625 71.796875 \nQ 19.390625 75.984375 28.609375 75.984375 \nz\n\" id=\"DejaVuSans-102\"/>\n      </defs>\n      <g transform=\"translate(142.932094 293.598437)scale(0.1 -0.1)\">\n       <use xlink:href=\"#DejaVuSans-102\"/>\n      </g>\n     </g>\n    </g>\n    <g id=\"xtick_3\">\n     <g id=\"line2d_3\">\n      <g>\n       <use style=\"stroke:#000000;stroke-width:0.8;\" x=\"216.11625\" xlink:href=\"#md7a60a84f2\" y=\"279\"/>\n      </g>\n     </g>\n     <g id=\"text_3\">\n      <!-- a -->\n      <defs>\n       <path d=\"M 34.28125 27.484375 \nQ 23.390625 27.484375 19.1875 25 \nQ 14.984375 22.515625 14.984375 16.5 \nQ 14.984375 11.71875 18.140625 8.90625 \nQ 21.296875 6.109375 26.703125 6.109375 \nQ 34.1875 6.109375 38.703125 11.40625 \nQ 43.21875 16.703125 43.21875 25.484375 \nL 43.21875 27.484375 \nz\nM 52.203125 31.203125 \nL 52.203125 0 \nL 43.21875 0 \nL 43.21875 8.296875 \nQ 40.140625 3.328125 35.546875 0.953125 \nQ 30.953125 -1.421875 24.3125 -1.421875 \nQ 15.921875 -1.421875 10.953125 3.296875 \nQ 6 8.015625 6 15.921875 \nQ 6 25.140625 12.171875 29.828125 \nQ 18.359375 34.515625 30.609375 34.515625 \nL 43.21875 34.515625 \nL 43.21875 35.40625 \nQ 43.21875 41.609375 39.140625 45 \nQ 35.0625 48.390625 27.6875 48.390625 \nQ 23 48.390625 18.546875 47.265625 \nQ 14.109375 46.140625 10.015625 43.890625 \nL 10.015625 52.203125 \nQ 14.9375 54.109375 19.578125 55.046875 \nQ 24.21875 56 28.609375 56 \nQ 40.484375 56 46.34375 49.84375 \nQ 52.203125 43.703125 52.203125 31.203125 \nz\n\" id=\"DejaVuSans-97\"/>\n      </defs>\n      <g transform=\"translate(213.052188 293.598437)scale(0.1 -0.1)\">\n       <use xlink:href=\"#DejaVuSans-97\"/>\n      </g>\n     </g>\n    </g>\n    <g id=\"xtick_4\">\n     <g id=\"line2d_4\">\n      <g>\n       <use style=\"stroke:#000000;stroke-width:0.8;\" x=\"287.54025\" xlink:href=\"#md7a60a84f2\" y=\"279\"/>\n      </g>\n     </g>\n     <g id=\"text_4\">\n      <!-- v -->\n      <defs>\n       <path d=\"M 2.984375 54.6875 \nL 12.5 54.6875 \nL 29.59375 8.796875 \nL 46.6875 54.6875 \nL 56.203125 54.6875 \nL 35.6875 0 \nL 23.484375 0 \nz\n\" id=\"DejaVuSans-118\"/>\n      </defs>\n      <g transform=\"translate(284.580875 293.598437)scale(0.1 -0.1)\">\n       <use xlink:href=\"#DejaVuSans-118\"/>\n      </g>\n     </g>\n    </g>\n    <g id=\"xtick_5\">\n     <g id=\"line2d_5\">\n      <g>\n       <use style=\"stroke:#000000;stroke-width:0.8;\" x=\"358.96425\" xlink:href=\"#md7a60a84f2\" y=\"279\"/>\n      </g>\n     </g>\n     <g id=\"text_5\">\n      <!-- h -->\n      <defs>\n       <path d=\"M 54.890625 33.015625 \nL 54.890625 0 \nL 45.90625 0 \nL 45.90625 32.71875 \nQ 45.90625 40.484375 42.875 44.328125 \nQ 39.84375 48.1875 33.796875 48.1875 \nQ 26.515625 48.1875 22.3125 43.546875 \nQ 18.109375 38.921875 18.109375 30.90625 \nL 18.109375 0 \nL 9.078125 0 \nL 9.078125 75.984375 \nL 18.109375 75.984375 \nL 18.109375 46.1875 \nQ 21.34375 51.125 25.703125 53.5625 \nQ 30.078125 56 35.796875 56 \nQ 45.21875 56 50.046875 50.171875 \nQ 54.890625 44.34375 54.890625 33.015625 \nz\n\" id=\"DejaVuSans-104\"/>\n      </defs>\n      <g transform=\"translate(355.7955 293.598437)scale(0.1 -0.1)\">\n       <use xlink:href=\"#DejaVuSans-104\"/>\n      </g>\n     </g>\n    </g>\n    <g id=\"xtick_6\">\n     <g id=\"line2d_6\">\n      <g>\n       <use style=\"stroke:#000000;stroke-width:0.8;\" x=\"430.38825\" xlink:href=\"#md7a60a84f2\" y=\"279\"/>\n      </g>\n     </g>\n     <g id=\"text_6\">\n      <!-- i -->\n      <defs>\n       <path d=\"M 9.421875 54.6875 \nL 18.40625 54.6875 \nL 18.40625 0 \nL 9.421875 0 \nz\nM 9.421875 75.984375 \nL 18.40625 75.984375 \nL 18.40625 64.59375 \nL 9.421875 64.59375 \nz\n\" id=\"DejaVuSans-105\"/>\n      </defs>\n      <g transform=\"translate(428.999188 293.598437)scale(0.1 -0.1)\">\n       <use xlink:href=\"#DejaVuSans-105\"/>\n      </g>\n     </g>\n    </g>\n    <g id=\"xtick_7\">\n     <g id=\"line2d_7\">\n      <g>\n       <use style=\"stroke:#000000;stroke-width:0.8;\" x=\"501.81225\" xlink:href=\"#md7a60a84f2\" y=\"279\"/>\n      </g>\n     </g>\n     <g id=\"text_7\">\n      <!-- p -->\n      <defs>\n       <path d=\"M 18.109375 8.203125 \nL 18.109375 -20.796875 \nL 9.078125 -20.796875 \nL 9.078125 54.6875 \nL 18.109375 54.6875 \nL 18.109375 46.390625 \nQ 20.953125 51.265625 25.265625 53.625 \nQ 29.59375 56 35.59375 56 \nQ 45.5625 56 51.78125 48.09375 \nQ 58.015625 40.1875 58.015625 27.296875 \nQ 58.015625 14.40625 51.78125 6.484375 \nQ 45.5625 -1.421875 35.59375 -1.421875 \nQ 29.59375 -1.421875 25.265625 0.953125 \nQ 20.953125 3.328125 18.109375 8.203125 \nz\nM 48.6875 27.296875 \nQ 48.6875 37.203125 44.609375 42.84375 \nQ 40.53125 48.484375 33.40625 48.484375 \nQ 26.265625 48.484375 22.1875 42.84375 \nQ 18.109375 37.203125 18.109375 27.296875 \nQ 18.109375 17.390625 22.1875 11.75 \nQ 26.265625 6.109375 33.40625 6.109375 \nQ 40.53125 6.109375 44.609375 11.75 \nQ 48.6875 17.390625 48.6875 27.296875 \nz\n\" id=\"DejaVuSans-112\"/>\n      </defs>\n      <g transform=\"translate(498.638031 293.598437)scale(0.1 -0.1)\">\n       <use xlink:href=\"#DejaVuSans-112\"/>\n      </g>\n     </g>\n    </g>\n    <g id=\"xtick_8\">\n     <g id=\"line2d_8\">\n      <g>\n       <use style=\"stroke:#000000;stroke-width:0.8;\" x=\"573.23625\" xlink:href=\"#md7a60a84f2\" y=\"279\"/>\n      </g>\n     </g>\n     <g id=\"text_8\">\n      <!-- c -->\n      <defs>\n       <path d=\"M 48.78125 52.59375 \nL 48.78125 44.1875 \nQ 44.96875 46.296875 41.140625 47.34375 \nQ 37.3125 48.390625 33.40625 48.390625 \nQ 24.65625 48.390625 19.8125 42.84375 \nQ 14.984375 37.3125 14.984375 27.296875 \nQ 14.984375 17.28125 19.8125 11.734375 \nQ 24.65625 6.203125 33.40625 6.203125 \nQ 37.3125 6.203125 41.140625 7.25 \nQ 44.96875 8.296875 48.78125 10.40625 \nL 48.78125 2.09375 \nQ 45.015625 0.34375 40.984375 -0.53125 \nQ 36.96875 -1.421875 32.421875 -1.421875 \nQ 20.0625 -1.421875 12.78125 6.34375 \nQ 5.515625 14.109375 5.515625 27.296875 \nQ 5.515625 40.671875 12.859375 48.328125 \nQ 20.21875 56 33.015625 56 \nQ 37.15625 56 41.109375 55.140625 \nQ 45.0625 54.296875 48.78125 52.59375 \nz\n\" id=\"DejaVuSans-99\"/>\n      </defs>\n      <g transform=\"translate(570.487031 293.598437)scale(0.1 -0.1)\">\n       <use xlink:href=\"#DejaVuSans-99\"/>\n      </g>\n     </g>\n    </g>\n    <g id=\"xtick_9\">\n     <g id=\"line2d_9\">\n      <g>\n       <use style=\"stroke:#000000;stroke-width:0.8;\" x=\"644.66025\" xlink:href=\"#md7a60a84f2\" y=\"279\"/>\n      </g>\n     </g>\n     <g id=\"text_9\">\n      <!-- d -->\n      <defs>\n       <path d=\"M 45.40625 46.390625 \nL 45.40625 75.984375 \nL 54.390625 75.984375 \nL 54.390625 0 \nL 45.40625 0 \nL 45.40625 8.203125 \nQ 42.578125 3.328125 38.25 0.953125 \nQ 33.9375 -1.421875 27.875 -1.421875 \nQ 17.96875 -1.421875 11.734375 6.484375 \nQ 5.515625 14.40625 5.515625 27.296875 \nQ 5.515625 40.1875 11.734375 48.09375 \nQ 17.96875 56 27.875 56 \nQ 33.9375 56 38.25 53.625 \nQ 42.578125 51.265625 45.40625 46.390625 \nz\nM 14.796875 27.296875 \nQ 14.796875 17.390625 18.875 11.75 \nQ 22.953125 6.109375 30.078125 6.109375 \nQ 37.203125 6.109375 41.296875 11.75 \nQ 45.40625 17.390625 45.40625 27.296875 \nQ 45.40625 37.203125 41.296875 42.84375 \nQ 37.203125 48.484375 30.078125 48.484375 \nQ 22.953125 48.484375 18.875 42.84375 \nQ 14.796875 37.203125 14.796875 27.296875 \nz\n\" id=\"DejaVuSans-100\"/>\n      </defs>\n      <g transform=\"translate(641.486031 293.598437)scale(0.1 -0.1)\">\n       <use xlink:href=\"#DejaVuSans-100\"/>\n      </g>\n     </g>\n    </g>\n    <g id=\"xtick_10\">\n     <g id=\"line2d_10\">\n      <g>\n       <use style=\"stroke:#000000;stroke-width:0.8;\" x=\"716.08425\" xlink:href=\"#md7a60a84f2\" y=\"279\"/>\n      </g>\n     </g>\n     <g id=\"text_10\">\n      <!-- s -->\n      <defs>\n       <path d=\"M 44.28125 53.078125 \nL 44.28125 44.578125 \nQ 40.484375 46.53125 36.375 47.5 \nQ 32.28125 48.484375 27.875 48.484375 \nQ 21.1875 48.484375 17.84375 46.4375 \nQ 14.5 44.390625 14.5 40.28125 \nQ 14.5 37.15625 16.890625 35.375 \nQ 19.28125 33.59375 26.515625 31.984375 \nL 29.59375 31.296875 \nQ 39.15625 29.25 43.1875 25.515625 \nQ 47.21875 21.78125 47.21875 15.09375 \nQ 47.21875 7.46875 41.1875 3.015625 \nQ 35.15625 -1.421875 24.609375 -1.421875 \nQ 20.21875 -1.421875 15.453125 -0.5625 \nQ 10.6875 0.296875 5.421875 2 \nL 5.421875 11.28125 \nQ 10.40625 8.6875 15.234375 7.390625 \nQ 20.0625 6.109375 24.8125 6.109375 \nQ 31.15625 6.109375 34.5625 8.28125 \nQ 37.984375 10.453125 37.984375 14.40625 \nQ 37.984375 18.0625 35.515625 20.015625 \nQ 33.0625 21.96875 24.703125 23.78125 \nL 21.578125 24.515625 \nQ 13.234375 26.265625 9.515625 29.90625 \nQ 5.8125 33.546875 5.8125 39.890625 \nQ 5.8125 47.609375 11.28125 51.796875 \nQ 16.75 56 26.8125 56 \nQ 31.78125 56 36.171875 55.265625 \nQ 40.578125 54.546875 44.28125 53.078125 \nz\n\" id=\"DejaVuSans-115\"/>\n      </defs>\n      <g transform=\"translate(713.479563 293.598437)scale(0.1 -0.1)\">\n       <use xlink:href=\"#DejaVuSans-115\"/>\n      </g>\n     </g>\n    </g>\n    <g id=\"text_11\">\n     <!-- Predicted label -->\n     <defs>\n      <path d=\"M 19.671875 64.796875 \nL 19.671875 37.40625 \nL 32.078125 37.40625 \nQ 38.96875 37.40625 42.71875 40.96875 \nQ 46.484375 44.53125 46.484375 51.125 \nQ 46.484375 57.671875 42.71875 61.234375 \nQ 38.96875 64.796875 32.078125 64.796875 \nz\nM 9.8125 72.90625 \nL 32.078125 72.90625 \nQ 44.34375 72.90625 50.609375 67.359375 \nQ 56.890625 61.8125 56.890625 51.125 \nQ 56.890625 40.328125 50.609375 34.8125 \nQ 44.34375 29.296875 32.078125 29.296875 \nL 19.671875 29.296875 \nL 19.671875 0 \nL 9.8125 0 \nz\n\" id=\"DejaVuSans-80\"/>\n      <path d=\"M 56.203125 29.59375 \nL 56.203125 25.203125 \nL 14.890625 25.203125 \nQ 15.484375 15.921875 20.484375 11.0625 \nQ 25.484375 6.203125 34.421875 6.203125 \nQ 39.59375 6.203125 44.453125 7.46875 \nQ 49.3125 8.734375 54.109375 11.28125 \nL 54.109375 2.78125 \nQ 49.265625 0.734375 44.1875 -0.34375 \nQ 39.109375 -1.421875 33.890625 -1.421875 \nQ 20.796875 -1.421875 13.15625 6.1875 \nQ 5.515625 13.8125 5.515625 26.8125 \nQ 5.515625 40.234375 12.765625 48.109375 \nQ 20.015625 56 32.328125 56 \nQ 43.359375 56 49.78125 48.890625 \nQ 56.203125 41.796875 56.203125 29.59375 \nz\nM 47.21875 32.234375 \nQ 47.125 39.59375 43.09375 43.984375 \nQ 39.0625 48.390625 32.421875 48.390625 \nQ 24.90625 48.390625 20.390625 44.140625 \nQ 15.875 39.890625 15.1875 32.171875 \nz\n\" id=\"DejaVuSans-101\"/>\n      <path d=\"M 18.3125 70.21875 \nL 18.3125 54.6875 \nL 36.8125 54.6875 \nL 36.8125 47.703125 \nL 18.3125 47.703125 \nL 18.3125 18.015625 \nQ 18.3125 11.328125 20.140625 9.421875 \nQ 21.96875 7.515625 27.59375 7.515625 \nL 36.8125 7.515625 \nL 36.8125 0 \nL 27.59375 0 \nQ 17.1875 0 13.234375 3.875 \nQ 9.28125 7.765625 9.28125 18.015625 \nL 9.28125 47.703125 \nL 2.6875 47.703125 \nL 2.6875 54.6875 \nL 9.28125 54.6875 \nL 9.28125 70.21875 \nz\n\" id=\"DejaVuSans-116\"/>\n      <path id=\"DejaVuSans-32\"/>\n      <path d=\"M 9.421875 75.984375 \nL 18.40625 75.984375 \nL 18.40625 0 \nL 9.421875 0 \nz\n\" id=\"DejaVuSans-108\"/>\n      <path d=\"M 48.6875 27.296875 \nQ 48.6875 37.203125 44.609375 42.84375 \nQ 40.53125 48.484375 33.40625 48.484375 \nQ 26.265625 48.484375 22.1875 42.84375 \nQ 18.109375 37.203125 18.109375 27.296875 \nQ 18.109375 17.390625 22.1875 11.75 \nQ 26.265625 6.109375 33.40625 6.109375 \nQ 40.53125 6.109375 44.609375 11.75 \nQ 48.6875 17.390625 48.6875 27.296875 \nz\nM 18.109375 46.390625 \nQ 20.953125 51.265625 25.265625 53.625 \nQ 29.59375 56 35.59375 56 \nQ 45.5625 56 51.78125 48.09375 \nQ 58.015625 40.1875 58.015625 27.296875 \nQ 58.015625 14.40625 51.78125 6.484375 \nQ 45.5625 -1.421875 35.59375 -1.421875 \nQ 29.59375 -1.421875 25.265625 0.953125 \nQ 20.953125 3.328125 18.109375 8.203125 \nL 18.109375 0 \nL 9.078125 0 \nL 9.078125 75.984375 \nL 18.109375 75.984375 \nz\n\" id=\"DejaVuSans-98\"/>\n     </defs>\n     <g transform=\"translate(357.523906 307.276562)scale(0.1 -0.1)\">\n      <use xlink:href=\"#DejaVuSans-80\"/>\n      <use x=\"58.552734\" xlink:href=\"#DejaVuSans-114\"/>\n      <use x=\"97.416016\" xlink:href=\"#DejaVuSans-101\"/>\n      <use x=\"158.939453\" xlink:href=\"#DejaVuSans-100\"/>\n      <use x=\"222.416016\" xlink:href=\"#DejaVuSans-105\"/>\n      <use x=\"250.199219\" xlink:href=\"#DejaVuSans-99\"/>\n      <use x=\"305.179688\" xlink:href=\"#DejaVuSans-116\"/>\n      <use x=\"344.388672\" xlink:href=\"#DejaVuSans-101\"/>\n      <use x=\"405.912109\" xlink:href=\"#DejaVuSans-100\"/>\n      <use x=\"469.388672\" xlink:href=\"#DejaVuSans-32\"/>\n      <use x=\"501.175781\" xlink:href=\"#DejaVuSans-108\"/>\n      <use x=\"528.958984\" xlink:href=\"#DejaVuSans-97\"/>\n      <use x=\"590.238281\" xlink:href=\"#DejaVuSans-98\"/>\n      <use x=\"653.714844\" xlink:href=\"#DejaVuSans-101\"/>\n      <use x=\"715.238281\" xlink:href=\"#DejaVuSans-108\"/>\n     </g>\n    </g>\n   </g>\n   <g id=\"matplotlib.axis_2\">\n    <g id=\"ytick_1\">\n     <g id=\"line2d_11\">\n      <defs>\n       <path d=\"M 0 0 \nL -3.5 0 \n\" id=\"me81823d483\" style=\"stroke:#000000;stroke-width:0.8;\"/>\n      </defs>\n      <g>\n       <use style=\"stroke:#000000;stroke-width:0.8;\" x=\"37.55625\" xlink:href=\"#me81823d483\" y=\"20.79\"/>\n      </g>\n     </g>\n     <g id=\"text_12\">\n      <!-- r -->\n      <g transform=\"translate(28.476563 21.101719)rotate(-90)scale(0.1 -0.1)\">\n       <use xlink:href=\"#DejaVuSans-114\"/>\n      </g>\n     </g>\n    </g>\n    <g id=\"ytick_2\">\n     <g id=\"line2d_12\">\n      <g>\n       <use style=\"stroke:#000000;stroke-width:0.8;\" x=\"37.55625\" xlink:href=\"#me81823d483\" y=\"47.97\"/>\n      </g>\n     </g>\n     <g id=\"text_13\">\n      <!-- f -->\n      <g transform=\"translate(28.476563 47.691094)rotate(-90)scale(0.1 -0.1)\">\n       <use xlink:href=\"#DejaVuSans-102\"/>\n      </g>\n     </g>\n    </g>\n    <g id=\"ytick_3\">\n     <g id=\"line2d_13\">\n      <g>\n       <use style=\"stroke:#000000;stroke-width:0.8;\" x=\"37.55625\" xlink:href=\"#me81823d483\" y=\"75.15\"/>\n      </g>\n     </g>\n     <g id=\"text_14\">\n      <!-- a -->\n      <g transform=\"translate(28.476563 77.478906)rotate(-90)scale(0.1 -0.1)\">\n       <use xlink:href=\"#DejaVuSans-97\"/>\n      </g>\n     </g>\n    </g>\n    <g id=\"ytick_4\">\n     <g id=\"line2d_14\">\n      <g>\n       <use style=\"stroke:#000000;stroke-width:0.8;\" x=\"37.55625\" xlink:href=\"#me81823d483\" y=\"102.33\"/>\n      </g>\n     </g>\n     <g id=\"text_15\">\n      <!-- v -->\n      <g transform=\"translate(28.476563 104.449531)rotate(-90)scale(0.1 -0.1)\">\n       <use xlink:href=\"#DejaVuSans-118\"/>\n      </g>\n     </g>\n    </g>\n    <g id=\"ytick_5\">\n     <g id=\"line2d_15\">\n      <g>\n       <use style=\"stroke:#000000;stroke-width:0.8;\" x=\"37.55625\" xlink:href=\"#me81823d483\" y=\"129.51\"/>\n      </g>\n     </g>\n     <g id=\"text_16\">\n      <!-- h -->\n      <g transform=\"translate(28.476563 132.048281)rotate(-90)scale(0.1 -0.1)\">\n       <use xlink:href=\"#DejaVuSans-104\"/>\n      </g>\n     </g>\n    </g>\n    <g id=\"ytick_6\">\n     <g id=\"line2d_16\">\n      <g>\n       <use style=\"stroke:#000000;stroke-width:0.8;\" x=\"37.55625\" xlink:href=\"#me81823d483\" y=\"156.69\"/>\n      </g>\n     </g>\n     <g id=\"text_17\">\n      <!-- i -->\n      <g transform=\"translate(28.476563 155.668906)rotate(-90)scale(0.1 -0.1)\">\n       <use xlink:href=\"#DejaVuSans-105\"/>\n      </g>\n     </g>\n    </g>\n    <g id=\"ytick_7\">\n     <g id=\"line2d_17\">\n      <g>\n       <use style=\"stroke:#000000;stroke-width:0.8;\" x=\"37.55625\" xlink:href=\"#me81823d483\" y=\"183.87\"/>\n      </g>\n     </g>\n     <g id=\"text_18\">\n      <!-- p -->\n      <g transform=\"translate(28.476563 186.419219)rotate(-90)scale(0.1 -0.1)\">\n       <use xlink:href=\"#DejaVuSans-112\"/>\n      </g>\n     </g>\n    </g>\n    <g id=\"ytick_8\">\n     <g id=\"line2d_18\">\n      <g>\n       <use style=\"stroke:#000000;stroke-width:0.8;\" x=\"37.55625\" xlink:href=\"#me81823d483\" y=\"211.05\"/>\n      </g>\n     </g>\n     <g id=\"text_19\">\n      <!-- c -->\n      <g transform=\"translate(28.476563 212.749219)rotate(-90)scale(0.1 -0.1)\">\n       <use xlink:href=\"#DejaVuSans-99\"/>\n      </g>\n     </g>\n    </g>\n    <g id=\"ytick_9\">\n     <g id=\"line2d_19\">\n      <g>\n       <use style=\"stroke:#000000;stroke-width:0.8;\" x=\"37.55625\" xlink:href=\"#me81823d483\" y=\"238.23\"/>\n      </g>\n     </g>\n     <g id=\"text_20\">\n      <!-- d -->\n      <g transform=\"translate(28.476563 240.779219)rotate(-90)scale(0.1 -0.1)\">\n       <use xlink:href=\"#DejaVuSans-100\"/>\n      </g>\n     </g>\n    </g>\n    <g id=\"ytick_10\">\n     <g id=\"line2d_20\">\n      <g>\n       <use style=\"stroke:#000000;stroke-width:0.8;\" x=\"37.55625\" xlink:href=\"#me81823d483\" y=\"265.41\"/>\n      </g>\n     </g>\n     <g id=\"text_21\">\n      <!-- s -->\n      <g transform=\"translate(28.476563 266.820156)rotate(-90)scale(0.1 -0.1)\">\n       <use xlink:href=\"#DejaVuSans-115\"/>\n      </g>\n     </g>\n    </g>\n    <g id=\"text_22\">\n     <!-- True label -->\n     <defs>\n      <path d=\"M -0.296875 72.90625 \nL 61.375 72.90625 \nL 61.375 64.59375 \nL 35.5 64.59375 \nL 35.5 0 \nL 25.59375 0 \nL 25.59375 64.59375 \nL -0.296875 64.59375 \nz\n\" id=\"DejaVuSans-84\"/>\n      <path d=\"M 8.5 21.578125 \nL 8.5 54.6875 \nL 17.484375 54.6875 \nL 17.484375 21.921875 \nQ 17.484375 14.15625 20.5 10.265625 \nQ 23.53125 6.390625 29.59375 6.390625 \nQ 36.859375 6.390625 41.078125 11.03125 \nQ 45.3125 15.671875 45.3125 23.6875 \nL 45.3125 54.6875 \nL 54.296875 54.6875 \nL 54.296875 0 \nL 45.3125 0 \nL 45.3125 8.40625 \nQ 42.046875 3.421875 37.71875 1 \nQ 33.40625 -1.421875 27.6875 -1.421875 \nQ 18.265625 -1.421875 13.375 4.4375 \nQ 8.5 10.296875 8.5 21.578125 \nz\nM 31.109375 56 \nz\n\" id=\"DejaVuSans-117\"/>\n     </defs>\n     <g transform=\"translate(14.798438 167.399219)rotate(-90)scale(0.1 -0.1)\">\n      <use xlink:href=\"#DejaVuSans-84\"/>\n      <use x=\"46.333984\" xlink:href=\"#DejaVuSans-114\"/>\n      <use x=\"87.447266\" xlink:href=\"#DejaVuSans-117\"/>\n      <use x=\"150.826172\" xlink:href=\"#DejaVuSans-101\"/>\n      <use x=\"212.349609\" xlink:href=\"#DejaVuSans-32\"/>\n      <use x=\"244.136719\" xlink:href=\"#DejaVuSans-108\"/>\n      <use x=\"271.919922\" xlink:href=\"#DejaVuSans-97\"/>\n      <use x=\"333.199219\" xlink:href=\"#DejaVuSans-98\"/>\n      <use x=\"396.675781\" xlink:href=\"#DejaVuSans-101\"/>\n      <use x=\"458.199219\" xlink:href=\"#DejaVuSans-108\"/>\n     </g>\n    </g>\n   </g>\n   <g id=\"text_23\">\n    <!-- 280 -->\n    <defs>\n     <path d=\"M 19.1875 8.296875 \nL 53.609375 8.296875 \nL 53.609375 0 \nL 7.328125 0 \nL 7.328125 8.296875 \nQ 12.9375 14.109375 22.625 23.890625 \nQ 32.328125 33.6875 34.8125 36.53125 \nQ 39.546875 41.84375 41.421875 45.53125 \nQ 43.3125 49.21875 43.3125 52.78125 \nQ 43.3125 58.59375 39.234375 62.25 \nQ 35.15625 65.921875 28.609375 65.921875 \nQ 23.96875 65.921875 18.8125 64.3125 \nQ 13.671875 62.703125 7.8125 59.421875 \nL 7.8125 69.390625 \nQ 13.765625 71.78125 18.9375 73 \nQ 24.125 74.21875 28.421875 74.21875 \nQ 39.75 74.21875 46.484375 68.546875 \nQ 53.21875 62.890625 53.21875 53.421875 \nQ 53.21875 48.921875 51.53125 44.890625 \nQ 49.859375 40.875 45.40625 35.40625 \nQ 44.1875 33.984375 37.640625 27.21875 \nQ 31.109375 20.453125 19.1875 8.296875 \nz\n\" id=\"DejaVuSans-50\"/>\n     <path d=\"M 31.78125 34.625 \nQ 24.75 34.625 20.71875 30.859375 \nQ 16.703125 27.09375 16.703125 20.515625 \nQ 16.703125 13.921875 20.71875 10.15625 \nQ 24.75 6.390625 31.78125 6.390625 \nQ 38.8125 6.390625 42.859375 10.171875 \nQ 46.921875 13.96875 46.921875 20.515625 \nQ 46.921875 27.09375 42.890625 30.859375 \nQ 38.875 34.625 31.78125 34.625 \nz\nM 21.921875 38.8125 \nQ 15.578125 40.375 12.03125 44.71875 \nQ 8.5 49.078125 8.5 55.328125 \nQ 8.5 64.0625 14.71875 69.140625 \nQ 20.953125 74.21875 31.78125 74.21875 \nQ 42.671875 74.21875 48.875 69.140625 \nQ 55.078125 64.0625 55.078125 55.328125 \nQ 55.078125 49.078125 51.53125 44.71875 \nQ 48 40.375 41.703125 38.8125 \nQ 48.828125 37.15625 52.796875 32.3125 \nQ 56.78125 27.484375 56.78125 20.515625 \nQ 56.78125 9.90625 50.3125 4.234375 \nQ 43.84375 -1.421875 31.78125 -1.421875 \nQ 19.734375 -1.421875 13.25 4.234375 \nQ 6.78125 9.90625 6.78125 20.515625 \nQ 6.78125 27.484375 10.78125 32.3125 \nQ 14.796875 37.15625 21.921875 38.8125 \nz\nM 18.3125 54.390625 \nQ 18.3125 48.734375 21.84375 45.5625 \nQ 25.390625 42.390625 31.78125 42.390625 \nQ 38.140625 42.390625 41.71875 45.5625 \nQ 45.3125 48.734375 45.3125 54.390625 \nQ 45.3125 60.0625 41.71875 63.234375 \nQ 38.140625 66.40625 31.78125 66.40625 \nQ 25.390625 66.40625 21.84375 63.234375 \nQ 18.3125 60.0625 18.3125 54.390625 \nz\n\" id=\"DejaVuSans-56\"/>\n     <path d=\"M 31.78125 66.40625 \nQ 24.171875 66.40625 20.328125 58.90625 \nQ 16.5 51.421875 16.5 36.375 \nQ 16.5 21.390625 20.328125 13.890625 \nQ 24.171875 6.390625 31.78125 6.390625 \nQ 39.453125 6.390625 43.28125 13.890625 \nQ 47.125 21.390625 47.125 36.375 \nQ 47.125 51.421875 43.28125 58.90625 \nQ 39.453125 66.40625 31.78125 66.40625 \nz\nM 31.78125 74.21875 \nQ 44.046875 74.21875 50.515625 64.515625 \nQ 56.984375 54.828125 56.984375 36.375 \nQ 56.984375 17.96875 50.515625 8.265625 \nQ 44.046875 -1.421875 31.78125 -1.421875 \nQ 19.53125 -1.421875 13.0625 8.265625 \nQ 6.59375 17.96875 6.59375 36.375 \nQ 6.59375 54.828125 13.0625 64.515625 \nQ 19.53125 74.21875 31.78125 74.21875 \nz\n\" id=\"DejaVuSans-48\"/>\n    </defs>\n    <g style=\"fill:#ffffff;\" transform=\"translate(59.907 24.653125)scale(0.14 -0.14)\">\n     <use xlink:href=\"#DejaVuSans-50\"/>\n     <use x=\"63.623047\" xlink:href=\"#DejaVuSans-56\"/>\n     <use x=\"127.246094\" xlink:href=\"#DejaVuSans-48\"/>\n    </g>\n   </g>\n   <g id=\"text_24\">\n    <!-- 2 -->\n    <g style=\"fill:#ffffff;\" transform=\"translate(140.2385 24.653125)scale(0.14 -0.14)\">\n     <use xlink:href=\"#DejaVuSans-50\"/>\n    </g>\n   </g>\n   <g id=\"text_25\">\n    <!-- 48 -->\n    <defs>\n     <path d=\"M 37.796875 64.3125 \nL 12.890625 25.390625 \nL 37.796875 25.390625 \nz\nM 35.203125 72.90625 \nL 47.609375 72.90625 \nL 47.609375 25.390625 \nL 58.015625 25.390625 \nL 58.015625 17.1875 \nL 47.609375 17.1875 \nL 47.609375 0 \nL 37.796875 0 \nL 37.796875 17.1875 \nL 4.890625 17.1875 \nL 4.890625 26.703125 \nz\n\" id=\"DejaVuSans-52\"/>\n    </defs>\n    <g style=\"fill:#ffffff;\" transform=\"translate(207.20875 24.653125)scale(0.14 -0.14)\">\n     <use xlink:href=\"#DejaVuSans-52\"/>\n     <use x=\"63.623047\" xlink:href=\"#DejaVuSans-56\"/>\n    </g>\n   </g>\n   <g id=\"text_26\">\n    <!-- 6 -->\n    <defs>\n     <path d=\"M 33.015625 40.375 \nQ 26.375 40.375 22.484375 35.828125 \nQ 18.609375 31.296875 18.609375 23.390625 \nQ 18.609375 15.53125 22.484375 10.953125 \nQ 26.375 6.390625 33.015625 6.390625 \nQ 39.65625 6.390625 43.53125 10.953125 \nQ 47.40625 15.53125 47.40625 23.390625 \nQ 47.40625 31.296875 43.53125 35.828125 \nQ 39.65625 40.375 33.015625 40.375 \nz\nM 52.59375 71.296875 \nL 52.59375 62.3125 \nQ 48.875 64.0625 45.09375 64.984375 \nQ 41.3125 65.921875 37.59375 65.921875 \nQ 27.828125 65.921875 22.671875 59.328125 \nQ 17.53125 52.734375 16.796875 39.40625 \nQ 19.671875 43.65625 24.015625 45.921875 \nQ 28.375 48.1875 33.59375 48.1875 \nQ 44.578125 48.1875 50.953125 41.515625 \nQ 57.328125 34.859375 57.328125 23.390625 \nQ 57.328125 12.15625 50.6875 5.359375 \nQ 44.046875 -1.421875 33.015625 -1.421875 \nQ 20.359375 -1.421875 13.671875 8.265625 \nQ 6.984375 17.96875 6.984375 36.375 \nQ 6.984375 53.65625 15.1875 63.9375 \nQ 23.390625 74.21875 37.203125 74.21875 \nQ 40.921875 74.21875 44.703125 73.484375 \nQ 48.484375 72.75 52.59375 71.296875 \nz\n\" id=\"DejaVuSans-54\"/>\n    </defs>\n    <g style=\"fill:#ffffff;\" transform=\"translate(283.0865 24.653125)scale(0.14 -0.14)\">\n     <use xlink:href=\"#DejaVuSans-54\"/>\n    </g>\n   </g>\n   <g id=\"text_27\">\n    <!-- 7 -->\n    <defs>\n     <path d=\"M 8.203125 72.90625 \nL 55.078125 72.90625 \nL 55.078125 68.703125 \nL 28.609375 0 \nL 18.3125 0 \nL 43.21875 64.59375 \nL 8.203125 64.59375 \nz\n\" id=\"DejaVuSans-55\"/>\n    </defs>\n    <g style=\"fill:#ffffff;\" transform=\"translate(354.5105 24.653125)scale(0.14 -0.14)\">\n     <use xlink:href=\"#DejaVuSans-55\"/>\n    </g>\n   </g>\n   <g id=\"text_28\">\n    <!-- 1 -->\n    <defs>\n     <path d=\"M 12.40625 8.296875 \nL 28.515625 8.296875 \nL 28.515625 63.921875 \nL 10.984375 60.40625 \nL 10.984375 69.390625 \nL 28.421875 72.90625 \nL 38.28125 72.90625 \nL 38.28125 8.296875 \nL 54.390625 8.296875 \nL 54.390625 0 \nL 12.40625 0 \nz\n\" id=\"DejaVuSans-49\"/>\n    </defs>\n    <g style=\"fill:#ffffff;\" transform=\"translate(425.9345 24.653125)scale(0.14 -0.14)\">\n     <use xlink:href=\"#DejaVuSans-49\"/>\n    </g>\n   </g>\n   <g id=\"text_29\">\n    <!-- 9 -->\n    <defs>\n     <path d=\"M 10.984375 1.515625 \nL 10.984375 10.5 \nQ 14.703125 8.734375 18.5 7.8125 \nQ 22.3125 6.890625 25.984375 6.890625 \nQ 35.75 6.890625 40.890625 13.453125 \nQ 46.046875 20.015625 46.78125 33.40625 \nQ 43.953125 29.203125 39.59375 26.953125 \nQ 35.25 24.703125 29.984375 24.703125 \nQ 19.046875 24.703125 12.671875 31.3125 \nQ 6.296875 37.9375 6.296875 49.421875 \nQ 6.296875 60.640625 12.9375 67.421875 \nQ 19.578125 74.21875 30.609375 74.21875 \nQ 43.265625 74.21875 49.921875 64.515625 \nQ 56.59375 54.828125 56.59375 36.375 \nQ 56.59375 19.140625 48.40625 8.859375 \nQ 40.234375 -1.421875 26.421875 -1.421875 \nQ 22.703125 -1.421875 18.890625 -0.6875 \nQ 15.09375 0.046875 10.984375 1.515625 \nz\nM 30.609375 32.421875 \nQ 37.25 32.421875 41.125 36.953125 \nQ 45.015625 41.5 45.015625 49.421875 \nQ 45.015625 57.28125 41.125 61.84375 \nQ 37.25 66.40625 30.609375 66.40625 \nQ 23.96875 66.40625 20.09375 61.84375 \nQ 16.21875 57.28125 16.21875 49.421875 \nQ 16.21875 41.5 20.09375 36.953125 \nQ 23.96875 32.421875 30.609375 32.421875 \nz\n\" id=\"DejaVuSans-57\"/>\n    </defs>\n    <g style=\"fill:#ffffff;\" transform=\"translate(497.3585 24.653125)scale(0.14 -0.14)\">\n     <use xlink:href=\"#DejaVuSans-57\"/>\n    </g>\n   </g>\n   <g id=\"text_30\">\n    <!-- 5 -->\n    <defs>\n     <path d=\"M 10.796875 72.90625 \nL 49.515625 72.90625 \nL 49.515625 64.59375 \nL 19.828125 64.59375 \nL 19.828125 46.734375 \nQ 21.96875 47.46875 24.109375 47.828125 \nQ 26.265625 48.1875 28.421875 48.1875 \nQ 40.625 48.1875 47.75 41.5 \nQ 54.890625 34.8125 54.890625 23.390625 \nQ 54.890625 11.625 47.5625 5.09375 \nQ 40.234375 -1.421875 26.90625 -1.421875 \nQ 22.3125 -1.421875 17.546875 -0.640625 \nQ 12.796875 0.140625 7.71875 1.703125 \nL 7.71875 11.625 \nQ 12.109375 9.234375 16.796875 8.0625 \nQ 21.484375 6.890625 26.703125 6.890625 \nQ 35.15625 6.890625 40.078125 11.328125 \nQ 45.015625 15.765625 45.015625 23.390625 \nQ 45.015625 31 40.078125 35.4375 \nQ 35.15625 39.890625 26.703125 39.890625 \nQ 22.75 39.890625 18.8125 39.015625 \nQ 14.890625 38.140625 10.796875 36.28125 \nz\n\" id=\"DejaVuSans-53\"/>\n    </defs>\n    <g style=\"fill:#ffffff;\" transform=\"translate(568.7825 24.653125)scale(0.14 -0.14)\">\n     <use xlink:href=\"#DejaVuSans-53\"/>\n    </g>\n   </g>\n   <g id=\"text_31\">\n    <!-- 0 -->\n    <g style=\"fill:#ffffff;\" transform=\"translate(640.2065 24.653125)scale(0.14 -0.14)\">\n     <use xlink:href=\"#DejaVuSans-48\"/>\n    </g>\n   </g>\n   <g id=\"text_32\">\n    <!-- 1 -->\n    <g style=\"fill:#ffffff;\" transform=\"translate(711.6305 24.653125)scale(0.14 -0.14)\">\n     <use xlink:href=\"#DejaVuSans-49\"/>\n    </g>\n   </g>\n   <g id=\"text_33\">\n    <!-- 0 -->\n    <g style=\"fill:#ffffff;\" transform=\"translate(68.8145 51.833125)scale(0.14 -0.14)\">\n     <use xlink:href=\"#DejaVuSans-48\"/>\n    </g>\n   </g>\n   <g id=\"text_34\">\n    <!-- 448 -->\n    <g style=\"fill:#262626;\" transform=\"translate(131.331 51.833125)scale(0.14 -0.14)\">\n     <use xlink:href=\"#DejaVuSans-52\"/>\n     <use x=\"63.623047\" xlink:href=\"#DejaVuSans-52\"/>\n     <use x=\"127.246094\" xlink:href=\"#DejaVuSans-56\"/>\n    </g>\n   </g>\n   <g id=\"text_35\">\n    <!-- 0 -->\n    <g style=\"fill:#ffffff;\" transform=\"translate(211.6625 51.833125)scale(0.14 -0.14)\">\n     <use xlink:href=\"#DejaVuSans-48\"/>\n    </g>\n   </g>\n   <g id=\"text_36\">\n    <!-- 18 -->\n    <g style=\"fill:#ffffff;\" transform=\"translate(278.63275 51.833125)scale(0.14 -0.14)\">\n     <use xlink:href=\"#DejaVuSans-49\"/>\n     <use x=\"63.623047\" xlink:href=\"#DejaVuSans-56\"/>\n    </g>\n   </g>\n   <g id=\"text_37\">\n    <!-- 0 -->\n    <g style=\"fill:#ffffff;\" transform=\"translate(354.5105 51.833125)scale(0.14 -0.14)\">\n     <use xlink:href=\"#DejaVuSans-48\"/>\n    </g>\n   </g>\n   <g id=\"text_38\">\n    <!-- 0 -->\n    <g style=\"fill:#ffffff;\" transform=\"translate(425.9345 51.833125)scale(0.14 -0.14)\">\n     <use xlink:href=\"#DejaVuSans-48\"/>\n    </g>\n   </g>\n   <g id=\"text_39\">\n    <!-- 0 -->\n    <g style=\"fill:#ffffff;\" transform=\"translate(497.3585 51.833125)scale(0.14 -0.14)\">\n     <use xlink:href=\"#DejaVuSans-48\"/>\n    </g>\n   </g>\n   <g id=\"text_40\">\n    <!-- 0 -->\n    <g style=\"fill:#ffffff;\" transform=\"translate(568.7825 51.833125)scale(0.14 -0.14)\">\n     <use xlink:href=\"#DejaVuSans-48\"/>\n    </g>\n   </g>\n   <g id=\"text_41\">\n    <!-- 1 -->\n    <g style=\"fill:#ffffff;\" transform=\"translate(640.2065 51.833125)scale(0.14 -0.14)\">\n     <use xlink:href=\"#DejaVuSans-49\"/>\n    </g>\n   </g>\n   <g id=\"text_42\">\n    <!-- 0 -->\n    <g style=\"fill:#ffffff;\" transform=\"translate(711.6305 51.833125)scale(0.14 -0.14)\">\n     <use xlink:href=\"#DejaVuSans-48\"/>\n    </g>\n   </g>\n   <g id=\"text_43\">\n    <!-- 2 -->\n    <g style=\"fill:#ffffff;\" transform=\"translate(68.8145 79.013125)scale(0.14 -0.14)\">\n     <use xlink:href=\"#DejaVuSans-50\"/>\n    </g>\n   </g>\n   <g id=\"text_44\">\n    <!-- 0 -->\n    <g style=\"fill:#ffffff;\" transform=\"translate(140.2385 79.013125)scale(0.14 -0.14)\">\n     <use xlink:href=\"#DejaVuSans-48\"/>\n    </g>\n   </g>\n   <g id=\"text_45\">\n    <!-- 453 -->\n    <defs>\n     <path d=\"M 40.578125 39.3125 \nQ 47.65625 37.796875 51.625 33 \nQ 55.609375 28.21875 55.609375 21.1875 \nQ 55.609375 10.40625 48.1875 4.484375 \nQ 40.765625 -1.421875 27.09375 -1.421875 \nQ 22.515625 -1.421875 17.65625 -0.515625 \nQ 12.796875 0.390625 7.625 2.203125 \nL 7.625 11.71875 \nQ 11.71875 9.328125 16.59375 8.109375 \nQ 21.484375 6.890625 26.8125 6.890625 \nQ 36.078125 6.890625 40.9375 10.546875 \nQ 45.796875 14.203125 45.796875 21.1875 \nQ 45.796875 27.640625 41.28125 31.265625 \nQ 36.765625 34.90625 28.71875 34.90625 \nL 20.21875 34.90625 \nL 20.21875 43.015625 \nL 29.109375 43.015625 \nQ 36.375 43.015625 40.234375 45.921875 \nQ 44.09375 48.828125 44.09375 54.296875 \nQ 44.09375 59.90625 40.109375 62.90625 \nQ 36.140625 65.921875 28.71875 65.921875 \nQ 24.65625 65.921875 20.015625 65.03125 \nQ 15.375 64.15625 9.8125 62.3125 \nL 9.8125 71.09375 \nQ 15.4375 72.65625 20.34375 73.4375 \nQ 25.25 74.21875 29.59375 74.21875 \nQ 40.828125 74.21875 47.359375 69.109375 \nQ 53.90625 64.015625 53.90625 55.328125 \nQ 53.90625 49.265625 50.4375 45.09375 \nQ 46.96875 40.921875 40.578125 39.3125 \nz\n\" id=\"DejaVuSans-51\"/>\n    </defs>\n    <g style=\"fill:#262626;\" transform=\"translate(202.755 79.013125)scale(0.14 -0.14)\">\n     <use xlink:href=\"#DejaVuSans-52\"/>\n     <use x=\"63.623047\" xlink:href=\"#DejaVuSans-53\"/>\n     <use x=\"127.246094\" xlink:href=\"#DejaVuSans-51\"/>\n    </g>\n   </g>\n   <g id=\"text_46\">\n    <!-- 7 -->\n    <g style=\"fill:#ffffff;\" transform=\"translate(283.0865 79.013125)scale(0.14 -0.14)\">\n     <use xlink:href=\"#DejaVuSans-55\"/>\n    </g>\n   </g>\n   <g id=\"text_47\">\n    <!-- 1 -->\n    <g style=\"fill:#ffffff;\" transform=\"translate(354.5105 79.013125)scale(0.14 -0.14)\">\n     <use xlink:href=\"#DejaVuSans-49\"/>\n    </g>\n   </g>\n   <g id=\"text_48\">\n    <!-- 0 -->\n    <g style=\"fill:#ffffff;\" transform=\"translate(425.9345 79.013125)scale(0.14 -0.14)\">\n     <use xlink:href=\"#DejaVuSans-48\"/>\n    </g>\n   </g>\n   <g id=\"text_49\">\n    <!-- 10 -->\n    <g style=\"fill:#ffffff;\" transform=\"translate(492.90475 79.013125)scale(0.14 -0.14)\">\n     <use xlink:href=\"#DejaVuSans-49\"/>\n     <use x=\"63.623047\" xlink:href=\"#DejaVuSans-48\"/>\n    </g>\n   </g>\n   <g id=\"text_50\">\n    <!-- 5 -->\n    <g style=\"fill:#ffffff;\" transform=\"translate(568.7825 79.013125)scale(0.14 -0.14)\">\n     <use xlink:href=\"#DejaVuSans-53\"/>\n    </g>\n   </g>\n   <g id=\"text_51\">\n    <!-- 0 -->\n    <g style=\"fill:#ffffff;\" transform=\"translate(640.2065 79.013125)scale(0.14 -0.14)\">\n     <use xlink:href=\"#DejaVuSans-48\"/>\n    </g>\n   </g>\n   <g id=\"text_52\">\n    <!-- 2 -->\n    <g style=\"fill:#ffffff;\" transform=\"translate(711.6305 79.013125)scale(0.14 -0.14)\">\n     <use xlink:href=\"#DejaVuSans-50\"/>\n    </g>\n   </g>\n   <g id=\"text_53\">\n    <!-- 3 -->\n    <g style=\"fill:#ffffff;\" transform=\"translate(68.8145 106.193125)scale(0.14 -0.14)\">\n     <use xlink:href=\"#DejaVuSans-51\"/>\n    </g>\n   </g>\n   <g id=\"text_54\">\n    <!-- 2 -->\n    <g style=\"fill:#ffffff;\" transform=\"translate(140.2385 106.193125)scale(0.14 -0.14)\">\n     <use xlink:href=\"#DejaVuSans-50\"/>\n    </g>\n   </g>\n   <g id=\"text_55\">\n    <!-- 6 -->\n    <g style=\"fill:#ffffff;\" transform=\"translate(211.6625 106.193125)scale(0.14 -0.14)\">\n     <use xlink:href=\"#DejaVuSans-54\"/>\n    </g>\n   </g>\n   <g id=\"text_56\">\n    <!-- 361 -->\n    <g style=\"fill:#262626;\" transform=\"translate(274.179 106.193125)scale(0.14 -0.14)\">\n     <use xlink:href=\"#DejaVuSans-51\"/>\n     <use x=\"63.623047\" xlink:href=\"#DejaVuSans-54\"/>\n     <use x=\"127.246094\" xlink:href=\"#DejaVuSans-49\"/>\n    </g>\n   </g>\n   <g id=\"text_57\">\n    <!-- 5 -->\n    <g style=\"fill:#ffffff;\" transform=\"translate(354.5105 106.193125)scale(0.14 -0.14)\">\n     <use xlink:href=\"#DejaVuSans-53\"/>\n    </g>\n   </g>\n   <g id=\"text_58\">\n    <!-- 4 -->\n    <g style=\"fill:#ffffff;\" transform=\"translate(425.9345 106.193125)scale(0.14 -0.14)\">\n     <use xlink:href=\"#DejaVuSans-52\"/>\n    </g>\n   </g>\n   <g id=\"text_59\">\n    <!-- 0 -->\n    <g style=\"fill:#ffffff;\" transform=\"translate(497.3585 106.193125)scale(0.14 -0.14)\">\n     <use xlink:href=\"#DejaVuSans-48\"/>\n    </g>\n   </g>\n   <g id=\"text_60\">\n    <!-- 32 -->\n    <g style=\"fill:#ffffff;\" transform=\"translate(564.32875 106.193125)scale(0.14 -0.14)\">\n     <use xlink:href=\"#DejaVuSans-51\"/>\n     <use x=\"63.623047\" xlink:href=\"#DejaVuSans-50\"/>\n    </g>\n   </g>\n   <g id=\"text_61\">\n    <!-- 3 -->\n    <g style=\"fill:#ffffff;\" transform=\"translate(640.2065 106.193125)scale(0.14 -0.14)\">\n     <use xlink:href=\"#DejaVuSans-51\"/>\n    </g>\n   </g>\n   <g id=\"text_62\">\n    <!-- 0 -->\n    <g style=\"fill:#ffffff;\" transform=\"translate(711.6305 106.193125)scale(0.14 -0.14)\">\n     <use xlink:href=\"#DejaVuSans-48\"/>\n    </g>\n   </g>\n   <g id=\"text_63\">\n    <!-- 18 -->\n    <g style=\"fill:#ffffff;\" transform=\"translate(64.36075 133.373125)scale(0.14 -0.14)\">\n     <use xlink:href=\"#DejaVuSans-49\"/>\n     <use x=\"63.623047\" xlink:href=\"#DejaVuSans-56\"/>\n    </g>\n   </g>\n   <g id=\"text_64\">\n    <!-- 0 -->\n    <g style=\"fill:#ffffff;\" transform=\"translate(140.2385 133.373125)scale(0.14 -0.14)\">\n     <use xlink:href=\"#DejaVuSans-48\"/>\n    </g>\n   </g>\n   <g id=\"text_65\">\n    <!-- 29 -->\n    <g style=\"fill:#ffffff;\" transform=\"translate(207.20875 133.373125)scale(0.14 -0.14)\">\n     <use xlink:href=\"#DejaVuSans-50\"/>\n     <use x=\"63.623047\" xlink:href=\"#DejaVuSans-57\"/>\n    </g>\n   </g>\n   <g id=\"text_66\">\n    <!-- 18 -->\n    <g style=\"fill:#ffffff;\" transform=\"translate(278.63275 133.373125)scale(0.14 -0.14)\">\n     <use xlink:href=\"#DejaVuSans-49\"/>\n     <use x=\"63.623047\" xlink:href=\"#DejaVuSans-56\"/>\n    </g>\n   </g>\n   <g id=\"text_67\">\n    <!-- 266 -->\n    <g style=\"fill:#ffffff;\" transform=\"translate(345.603 133.373125)scale(0.14 -0.14)\">\n     <use xlink:href=\"#DejaVuSans-50\"/>\n     <use x=\"63.623047\" xlink:href=\"#DejaVuSans-54\"/>\n     <use x=\"127.246094\" xlink:href=\"#DejaVuSans-54\"/>\n    </g>\n   </g>\n   <g id=\"text_68\">\n    <!-- 6 -->\n    <g style=\"fill:#ffffff;\" transform=\"translate(425.9345 133.373125)scale(0.14 -0.14)\">\n     <use xlink:href=\"#DejaVuSans-54\"/>\n    </g>\n   </g>\n   <g id=\"text_69\">\n    <!-- 11 -->\n    <g style=\"fill:#ffffff;\" transform=\"translate(492.90475 133.373125)scale(0.14 -0.14)\">\n     <use xlink:href=\"#DejaVuSans-49\"/>\n     <use x=\"63.623047\" xlink:href=\"#DejaVuSans-49\"/>\n    </g>\n   </g>\n   <g id=\"text_70\">\n    <!-- 17 -->\n    <g style=\"fill:#ffffff;\" transform=\"translate(564.32875 133.373125)scale(0.14 -0.14)\">\n     <use xlink:href=\"#DejaVuSans-49\"/>\n     <use x=\"63.623047\" xlink:href=\"#DejaVuSans-55\"/>\n    </g>\n   </g>\n   <g id=\"text_71\">\n    <!-- 4 -->\n    <g style=\"fill:#ffffff;\" transform=\"translate(640.2065 133.373125)scale(0.14 -0.14)\">\n     <use xlink:href=\"#DejaVuSans-52\"/>\n    </g>\n   </g>\n   <g id=\"text_72\">\n    <!-- 0 -->\n    <g style=\"fill:#ffffff;\" transform=\"translate(711.6305 133.373125)scale(0.14 -0.14)\">\n     <use xlink:href=\"#DejaVuSans-48\"/>\n    </g>\n   </g>\n   <g id=\"text_73\">\n    <!-- 2 -->\n    <g style=\"fill:#ffffff;\" transform=\"translate(68.8145 160.553125)scale(0.14 -0.14)\">\n     <use xlink:href=\"#DejaVuSans-50\"/>\n    </g>\n   </g>\n   <g id=\"text_74\">\n    <!-- 0 -->\n    <g style=\"fill:#ffffff;\" transform=\"translate(140.2385 160.553125)scale(0.14 -0.14)\">\n     <use xlink:href=\"#DejaVuSans-48\"/>\n    </g>\n   </g>\n   <g id=\"text_75\">\n    <!-- 0 -->\n    <g style=\"fill:#ffffff;\" transform=\"translate(211.6625 160.553125)scale(0.14 -0.14)\">\n     <use xlink:href=\"#DejaVuSans-48\"/>\n    </g>\n   </g>\n   <g id=\"text_76\">\n    <!-- 6 -->\n    <g style=\"fill:#ffffff;\" transform=\"translate(283.0865 160.553125)scale(0.14 -0.14)\">\n     <use xlink:href=\"#DejaVuSans-54\"/>\n    </g>\n   </g>\n   <g id=\"text_77\">\n    <!-- 10 -->\n    <g style=\"fill:#ffffff;\" transform=\"translate(350.05675 160.553125)scale(0.14 -0.14)\">\n     <use xlink:href=\"#DejaVuSans-49\"/>\n     <use x=\"63.623047\" xlink:href=\"#DejaVuSans-48\"/>\n    </g>\n   </g>\n   <g id=\"text_78\">\n    <!-- 357 -->\n    <g style=\"fill:#262626;\" transform=\"translate(417.027 160.553125)scale(0.14 -0.14)\">\n     <use xlink:href=\"#DejaVuSans-51\"/>\n     <use x=\"63.623047\" xlink:href=\"#DejaVuSans-53\"/>\n     <use x=\"127.246094\" xlink:href=\"#DejaVuSans-55\"/>\n    </g>\n   </g>\n   <g id=\"text_79\">\n    <!-- 0 -->\n    <g style=\"fill:#ffffff;\" transform=\"translate(497.3585 160.553125)scale(0.14 -0.14)\">\n     <use xlink:href=\"#DejaVuSans-48\"/>\n    </g>\n   </g>\n   <g id=\"text_80\">\n    <!-- 20 -->\n    <g style=\"fill:#ffffff;\" transform=\"translate(564.32875 160.553125)scale(0.14 -0.14)\">\n     <use xlink:href=\"#DejaVuSans-50\"/>\n     <use x=\"63.623047\" xlink:href=\"#DejaVuSans-48\"/>\n    </g>\n   </g>\n   <g id=\"text_81\">\n    <!-- 20 -->\n    <g style=\"fill:#ffffff;\" transform=\"translate(635.75275 160.553125)scale(0.14 -0.14)\">\n     <use xlink:href=\"#DejaVuSans-50\"/>\n     <use x=\"63.623047\" xlink:href=\"#DejaVuSans-48\"/>\n    </g>\n   </g>\n   <g id=\"text_82\">\n    <!-- 0 -->\n    <g style=\"fill:#ffffff;\" transform=\"translate(711.6305 160.553125)scale(0.14 -0.14)\">\n     <use xlink:href=\"#DejaVuSans-48\"/>\n    </g>\n   </g>\n   <g id=\"text_83\">\n    <!-- 3 -->\n    <g style=\"fill:#ffffff;\" transform=\"translate(68.8145 187.733125)scale(0.14 -0.14)\">\n     <use xlink:href=\"#DejaVuSans-51\"/>\n    </g>\n   </g>\n   <g id=\"text_84\">\n    <!-- 5 -->\n    <g style=\"fill:#ffffff;\" transform=\"translate(140.2385 187.733125)scale(0.14 -0.14)\">\n     <use xlink:href=\"#DejaVuSans-53\"/>\n    </g>\n   </g>\n   <g id=\"text_85\">\n    <!-- 20 -->\n    <g style=\"fill:#ffffff;\" transform=\"translate(207.20875 187.733125)scale(0.14 -0.14)\">\n     <use xlink:href=\"#DejaVuSans-50\"/>\n     <use x=\"63.623047\" xlink:href=\"#DejaVuSans-48\"/>\n    </g>\n   </g>\n   <g id=\"text_86\">\n    <!-- 23 -->\n    <g style=\"fill:#ffffff;\" transform=\"translate(278.63275 187.733125)scale(0.14 -0.14)\">\n     <use xlink:href=\"#DejaVuSans-50\"/>\n     <use x=\"63.623047\" xlink:href=\"#DejaVuSans-51\"/>\n    </g>\n   </g>\n   <g id=\"text_87\">\n    <!-- 0 -->\n    <g style=\"fill:#ffffff;\" transform=\"translate(354.5105 187.733125)scale(0.14 -0.14)\">\n     <use xlink:href=\"#DejaVuSans-48\"/>\n    </g>\n   </g>\n   <g id=\"text_88\">\n    <!-- 0 -->\n    <g style=\"fill:#ffffff;\" transform=\"translate(425.9345 187.733125)scale(0.14 -0.14)\">\n     <use xlink:href=\"#DejaVuSans-48\"/>\n    </g>\n   </g>\n   <g id=\"text_89\">\n    <!-- 242 -->\n    <g style=\"fill:#ffffff;\" transform=\"translate(488.451 187.733125)scale(0.14 -0.14)\">\n     <use xlink:href=\"#DejaVuSans-50\"/>\n     <use x=\"63.623047\" xlink:href=\"#DejaVuSans-52\"/>\n     <use x=\"127.246094\" xlink:href=\"#DejaVuSans-50\"/>\n    </g>\n   </g>\n   <g id=\"text_90\">\n    <!-- 13 -->\n    <g style=\"fill:#ffffff;\" transform=\"translate(564.32875 187.733125)scale(0.14 -0.14)\">\n     <use xlink:href=\"#DejaVuSans-49\"/>\n     <use x=\"63.623047\" xlink:href=\"#DejaVuSans-51\"/>\n    </g>\n   </g>\n   <g id=\"text_91\">\n    <!-- 0 -->\n    <g style=\"fill:#ffffff;\" transform=\"translate(640.2065 187.733125)scale(0.14 -0.14)\">\n     <use xlink:href=\"#DejaVuSans-48\"/>\n    </g>\n   </g>\n   <g id=\"text_92\">\n    <!-- 3 -->\n    <g style=\"fill:#ffffff;\" transform=\"translate(711.6305 187.733125)scale(0.14 -0.14)\">\n     <use xlink:href=\"#DejaVuSans-51\"/>\n    </g>\n   </g>\n   <g id=\"text_93\">\n    <!-- 1 -->\n    <g style=\"fill:#ffffff;\" transform=\"translate(68.8145 214.913125)scale(0.14 -0.14)\">\n     <use xlink:href=\"#DejaVuSans-49\"/>\n    </g>\n   </g>\n   <g id=\"text_94\">\n    <!-- 0 -->\n    <g style=\"fill:#ffffff;\" transform=\"translate(140.2385 214.913125)scale(0.14 -0.14)\">\n     <use xlink:href=\"#DejaVuSans-48\"/>\n    </g>\n   </g>\n   <g id=\"text_95\">\n    <!-- 23 -->\n    <g style=\"fill:#ffffff;\" transform=\"translate(207.20875 214.913125)scale(0.14 -0.14)\">\n     <use xlink:href=\"#DejaVuSans-50\"/>\n     <use x=\"63.623047\" xlink:href=\"#DejaVuSans-51\"/>\n    </g>\n   </g>\n   <g id=\"text_96\">\n    <!-- 41 -->\n    <g style=\"fill:#ffffff;\" transform=\"translate(278.63275 214.913125)scale(0.14 -0.14)\">\n     <use xlink:href=\"#DejaVuSans-52\"/>\n     <use x=\"63.623047\" xlink:href=\"#DejaVuSans-49\"/>\n    </g>\n   </g>\n   <g id=\"text_97\">\n    <!-- 6 -->\n    <g style=\"fill:#ffffff;\" transform=\"translate(354.5105 214.913125)scale(0.14 -0.14)\">\n     <use xlink:href=\"#DejaVuSans-54\"/>\n    </g>\n   </g>\n   <g id=\"text_98\">\n    <!-- 3 -->\n    <g style=\"fill:#ffffff;\" transform=\"translate(425.9345 214.913125)scale(0.14 -0.14)\">\n     <use xlink:href=\"#DejaVuSans-51\"/>\n    </g>\n   </g>\n   <g id=\"text_99\">\n    <!-- 1 -->\n    <g style=\"fill:#ffffff;\" transform=\"translate(497.3585 214.913125)scale(0.14 -0.14)\">\n     <use xlink:href=\"#DejaVuSans-49\"/>\n    </g>\n   </g>\n   <g id=\"text_100\">\n    <!-- 266 -->\n    <g style=\"fill:#ffffff;\" transform=\"translate(559.875 214.913125)scale(0.14 -0.14)\">\n     <use xlink:href=\"#DejaVuSans-50\"/>\n     <use x=\"63.623047\" xlink:href=\"#DejaVuSans-54\"/>\n     <use x=\"127.246094\" xlink:href=\"#DejaVuSans-54\"/>\n    </g>\n   </g>\n   <g id=\"text_101\">\n    <!-- 0 -->\n    <g style=\"fill:#ffffff;\" transform=\"translate(640.2065 214.913125)scale(0.14 -0.14)\">\n     <use xlink:href=\"#DejaVuSans-48\"/>\n    </g>\n   </g>\n   <g id=\"text_102\">\n    <!-- 0 -->\n    <g style=\"fill:#ffffff;\" transform=\"translate(711.6305 214.913125)scale(0.14 -0.14)\">\n     <use xlink:href=\"#DejaVuSans-48\"/>\n    </g>\n   </g>\n   <g id=\"text_103\">\n    <!-- 0 -->\n    <g style=\"fill:#ffffff;\" transform=\"translate(68.8145 242.093125)scale(0.14 -0.14)\">\n     <use xlink:href=\"#DejaVuSans-48\"/>\n    </g>\n   </g>\n   <g id=\"text_104\">\n    <!-- 0 -->\n    <g style=\"fill:#ffffff;\" transform=\"translate(140.2385 242.093125)scale(0.14 -0.14)\">\n     <use xlink:href=\"#DejaVuSans-48\"/>\n    </g>\n   </g>\n   <g id=\"text_105\">\n    <!-- 0 -->\n    <g style=\"fill:#ffffff;\" transform=\"translate(211.6625 242.093125)scale(0.14 -0.14)\">\n     <use xlink:href=\"#DejaVuSans-48\"/>\n    </g>\n   </g>\n   <g id=\"text_106\">\n    <!-- 6 -->\n    <g style=\"fill:#ffffff;\" transform=\"translate(283.0865 242.093125)scale(0.14 -0.14)\">\n     <use xlink:href=\"#DejaVuSans-54\"/>\n    </g>\n   </g>\n   <g id=\"text_107\">\n    <!-- 0 -->\n    <g style=\"fill:#ffffff;\" transform=\"translate(354.5105 242.093125)scale(0.14 -0.14)\">\n     <use xlink:href=\"#DejaVuSans-48\"/>\n    </g>\n   </g>\n   <g id=\"text_108\">\n    <!-- 8 -->\n    <g style=\"fill:#ffffff;\" transform=\"translate(425.9345 242.093125)scale(0.14 -0.14)\">\n     <use xlink:href=\"#DejaVuSans-56\"/>\n    </g>\n   </g>\n   <g id=\"text_109\">\n    <!-- 0 -->\n    <g style=\"fill:#ffffff;\" transform=\"translate(497.3585 242.093125)scale(0.14 -0.14)\">\n     <use xlink:href=\"#DejaVuSans-48\"/>\n    </g>\n   </g>\n   <g id=\"text_110\">\n    <!-- 1 -->\n    <g style=\"fill:#ffffff;\" transform=\"translate(568.7825 242.093125)scale(0.14 -0.14)\">\n     <use xlink:href=\"#DejaVuSans-49\"/>\n    </g>\n   </g>\n   <g id=\"text_111\">\n    <!-- 426 -->\n    <g style=\"fill:#262626;\" transform=\"translate(631.299 242.093125)scale(0.14 -0.14)\">\n     <use xlink:href=\"#DejaVuSans-52\"/>\n     <use x=\"63.623047\" xlink:href=\"#DejaVuSans-50\"/>\n     <use x=\"127.246094\" xlink:href=\"#DejaVuSans-54\"/>\n    </g>\n   </g>\n   <g id=\"text_112\">\n    <!-- 0 -->\n    <g style=\"fill:#ffffff;\" transform=\"translate(711.6305 242.093125)scale(0.14 -0.14)\">\n     <use xlink:href=\"#DejaVuSans-48\"/>\n    </g>\n   </g>\n   <g id=\"text_113\">\n    <!-- 0 -->\n    <g style=\"fill:#ffffff;\" transform=\"translate(68.8145 269.273125)scale(0.14 -0.14)\">\n     <use xlink:href=\"#DejaVuSans-48\"/>\n    </g>\n   </g>\n   <g id=\"text_114\">\n    <!-- 4 -->\n    <g style=\"fill:#ffffff;\" transform=\"translate(140.2385 269.273125)scale(0.14 -0.14)\">\n     <use xlink:href=\"#DejaVuSans-52\"/>\n    </g>\n   </g>\n   <g id=\"text_115\">\n    <!-- 4 -->\n    <g style=\"fill:#ffffff;\" transform=\"translate(211.6625 269.273125)scale(0.14 -0.14)\">\n     <use xlink:href=\"#DejaVuSans-52\"/>\n    </g>\n   </g>\n   <g id=\"text_116\">\n    <!-- 0 -->\n    <g style=\"fill:#ffffff;\" transform=\"translate(283.0865 269.273125)scale(0.14 -0.14)\">\n     <use xlink:href=\"#DejaVuSans-48\"/>\n    </g>\n   </g>\n   <g id=\"text_117\">\n    <!-- 0 -->\n    <g style=\"fill:#ffffff;\" transform=\"translate(354.5105 269.273125)scale(0.14 -0.14)\">\n     <use xlink:href=\"#DejaVuSans-48\"/>\n    </g>\n   </g>\n   <g id=\"text_118\">\n    <!-- 0 -->\n    <g style=\"fill:#ffffff;\" transform=\"translate(425.9345 269.273125)scale(0.14 -0.14)\">\n     <use xlink:href=\"#DejaVuSans-48\"/>\n    </g>\n   </g>\n   <g id=\"text_119\">\n    <!-- 0 -->\n    <g style=\"fill:#ffffff;\" transform=\"translate(497.3585 269.273125)scale(0.14 -0.14)\">\n     <use xlink:href=\"#DejaVuSans-48\"/>\n    </g>\n   </g>\n   <g id=\"text_120\">\n    <!-- 0 -->\n    <g style=\"fill:#ffffff;\" transform=\"translate(568.7825 269.273125)scale(0.14 -0.14)\">\n     <use xlink:href=\"#DejaVuSans-48\"/>\n    </g>\n   </g>\n   <g id=\"text_121\">\n    <!-- 0 -->\n    <g style=\"fill:#ffffff;\" transform=\"translate(640.2065 269.273125)scale(0.14 -0.14)\">\n     <use xlink:href=\"#DejaVuSans-48\"/>\n    </g>\n   </g>\n   <g id=\"text_122\">\n    <!-- 445 -->\n    <g style=\"fill:#262626;\" transform=\"translate(702.723 269.273125)scale(0.14 -0.14)\">\n     <use xlink:href=\"#DejaVuSans-52\"/>\n     <use x=\"63.623047\" xlink:href=\"#DejaVuSans-52\"/>\n     <use x=\"127.246094\" xlink:href=\"#DejaVuSans-53\"/>\n    </g>\n   </g>\n  </g>\n  <g id=\"axes_2\">\n   <g id=\"patch_3\">\n    <path clip-path=\"url(#p372f584b67)\" d=\"M 796.43625 279 \nL 796.43625 277.938281 \nL 796.43625 8.261719 \nL 796.43625 7.2 \nL 810.02625 7.2 \nL 810.02625 8.261719 \nL 810.02625 277.938281 \nL 810.02625 279 \nz\n\" style=\"fill:#ffffff;stroke:#ffffff;stroke-linejoin:miter;stroke-width:0.01;\"/>\n   </g>\n   <image height=\"271\" id=\"image83db81f164\" transform=\"scale(1 -1)translate(0 -271)\" width=\"14\" x=\"796\" xlink:href=\"data:image/png;base64,\niVBORw0KGgoAAAANSUhEUgAAAA4AAAEPCAYAAAByY/XAAAAABHNCSVQICAgIfAhkiAAAAXFJREFUaIHtm1sWwjAQQpNaN+H+91lXYD8uCgeT/HOYAWb6sM7z+boGOOeck+AU4HAzHu5SD4QaUqlYnCI7enrEIV9BHIGRTVbVIPuTsxlvGJumY4vz6QiDjHvEjNvHG0beIztL9JgIADt8kP3TwSPnH2QEU5ZVQpwaxoCP7h4jg4wZITCxOiBwiVLRO7JQjxjoXx3sCPfk1MeEHRS4QI/TPo9L2OEuVXm4ZrVWbfKL9kgZhci57ZiYkRFKqvp9xIwMqLzuhsCAqvCqcx4UKDxcU0Z/jzgAu9QbRrhYhYdrLA4sNaIqwgmlCuIgnMLYVCpl9CfHP8i01BEQxw2kui7CCN8gFTEOymgvlW+ARI9uIP790V/qOODHS00+0g+0Aslx2yEMckBVO6O9R3sAqnzkexX32GKHckWm368GImcH+iO3xfkF0K9qzyBXRW4zfp9xzoeZsUicxCBTO2rESUSuR5yiAOB/Py2gauKe/P/teAMhLS3bEAwh+gAAAABJRU5ErkJggg==\" y=\"-7\"/>\n   <g id=\"matplotlib.axis_3\"/>\n   <g id=\"matplotlib.axis_4\">\n    <g id=\"ytick_11\">\n     <g id=\"line2d_21\">\n      <defs>\n       <path d=\"M 0 0 \nL 3.5 0 \n\" id=\"ma35ca4ae6e\" style=\"stroke:#000000;stroke-width:0.8;\"/>\n      </defs>\n      <g>\n       <use style=\"stroke:#000000;stroke-width:0.8;\" x=\"810.02625\" xlink:href=\"#ma35ca4ae6e\" y=\"279\"/>\n      </g>\n     </g>\n     <g id=\"text_123\">\n      <!-- 0 -->\n      <g transform=\"translate(817.02625 282.799219)scale(0.1 -0.1)\">\n       <use xlink:href=\"#DejaVuSans-48\"/>\n      </g>\n     </g>\n    </g>\n    <g id=\"ytick_12\">\n     <g id=\"line2d_22\">\n      <g>\n       <use style=\"stroke:#000000;stroke-width:0.8;\" x=\"810.02625\" xlink:href=\"#ma35ca4ae6e\" y=\"219\"/>\n      </g>\n     </g>\n     <g id=\"text_124\">\n      <!-- 100 -->\n      <g transform=\"translate(817.02625 222.799219)scale(0.1 -0.1)\">\n       <use xlink:href=\"#DejaVuSans-49\"/>\n       <use x=\"63.623047\" xlink:href=\"#DejaVuSans-48\"/>\n       <use x=\"127.246094\" xlink:href=\"#DejaVuSans-48\"/>\n      </g>\n     </g>\n    </g>\n    <g id=\"ytick_13\">\n     <g id=\"line2d_23\">\n      <g>\n       <use style=\"stroke:#000000;stroke-width:0.8;\" x=\"810.02625\" xlink:href=\"#ma35ca4ae6e\" y=\"159\"/>\n      </g>\n     </g>\n     <g id=\"text_125\">\n      <!-- 200 -->\n      <g transform=\"translate(817.02625 162.799219)scale(0.1 -0.1)\">\n       <use xlink:href=\"#DejaVuSans-50\"/>\n       <use x=\"63.623047\" xlink:href=\"#DejaVuSans-48\"/>\n       <use x=\"127.246094\" xlink:href=\"#DejaVuSans-48\"/>\n      </g>\n     </g>\n    </g>\n    <g id=\"ytick_14\">\n     <g id=\"line2d_24\">\n      <g>\n       <use style=\"stroke:#000000;stroke-width:0.8;\" x=\"810.02625\" xlink:href=\"#ma35ca4ae6e\" y=\"99\"/>\n      </g>\n     </g>\n     <g id=\"text_126\">\n      <!-- 300 -->\n      <g transform=\"translate(817.02625 102.799219)scale(0.1 -0.1)\">\n       <use xlink:href=\"#DejaVuSans-51\"/>\n       <use x=\"63.623047\" xlink:href=\"#DejaVuSans-48\"/>\n       <use x=\"127.246094\" xlink:href=\"#DejaVuSans-48\"/>\n      </g>\n     </g>\n    </g>\n    <g id=\"ytick_15\">\n     <g id=\"line2d_25\">\n      <g>\n       <use style=\"stroke:#000000;stroke-width:0.8;\" x=\"810.02625\" xlink:href=\"#ma35ca4ae6e\" y=\"39\"/>\n      </g>\n     </g>\n     <g id=\"text_127\">\n      <!-- 400 -->\n      <g transform=\"translate(817.02625 42.799219)scale(0.1 -0.1)\">\n       <use xlink:href=\"#DejaVuSans-52\"/>\n       <use x=\"63.623047\" xlink:href=\"#DejaVuSans-48\"/>\n       <use x=\"127.246094\" xlink:href=\"#DejaVuSans-48\"/>\n      </g>\n     </g>\n    </g>\n   </g>\n   <g id=\"patch_4\">\n    <path d=\"M 796.43625 279 \nL 796.43625 277.938281 \nL 796.43625 8.261719 \nL 796.43625 7.2 \nL 810.02625 7.2 \nL 810.02625 8.261719 \nL 810.02625 277.938281 \nL 810.02625 279 \nz\n\" style=\"fill:none;\"/>\n   </g>\n  </g>\n </g>\n <defs>\n  <clipPath id=\"p545b444bb4\">\n   <rect height=\"271.8\" width=\"714.24\" x=\"37.55625\" y=\"7.2\"/>\n  </clipPath>\n  <clipPath id=\"p372f584b67\">\n   <rect height=\"271.8\" width=\"13.59\" x=\"796.43625\" y=\"7.2\"/>\n  </clipPath>\n </defs>\n</svg>\n"
          },
          "metadata": {
            "tags": [],
            "needs_background": "light"
          }
        }
      ]
    }
  ]
}